{
 "cells": [
  {
   "cell_type": "code",
   "execution_count": 1,
   "metadata": {
    "collapsed": true
   },
   "outputs": [],
   "source": [
    "# to get the database's absolute path.\n",
    "import os\n",
    "\n",
    "from sqlalchemy import create_engine\n",
    "from sqlalchemy.ext.declarative import declarative_base\n",
    "\n",
    "# for building the basic mapping table classes.\n",
    "from sqlalchemy import Column, String, Integer, Table\n",
    "\n",
    "# for building relationships among tables.\n",
    "from sqlalchemy import ForeignKey\n",
    "from sqlalchemy.orm import relationship\n",
    "\n",
    "\n",
    "\n",
    "# create_engine need database URI as the augument.\n",
    "# sqlite3's URI form (for Mac) is such: 'sqlite:////absolute/path/to/database'\n",
    "\n",
    "def db_connect(basedir, name = 'data'):\n",
    "    return create_engine('sqlite:///'+os.path.join(basedir, name + '.sqlite'))\n",
    "\n",
    "\n",
    "# we get Base from the initializaiton of class declarative_base\n",
    "# Base will be the basic table which will be extended to other tables\n",
    "# then we connect this basic table to the engine.\n",
    "\n",
    "Base= declarative_base()\n",
    "\n",
    "def create_table(engine):\n",
    "    Base.metadata.create_all(engine)\n",
    "    \n",
    "    \n",
    "\n",
    "# construct register table\n",
    "documents_authors = Table('documents_authors', Base.metadata,\n",
    "                          Column('documents_id', ForeignKey(\"documents.id\"), primary_key=True),\n",
    "                          Column('authors_id', ForeignKey(\"authors.id\"), primary_key=True))\n",
    "\n",
    "documents_keywords = Table(\"documents_keywords\",Base.metadata,\n",
    "                           Column(\"documents_id\", ForeignKey(\"documents.id\"),primary_key=True),\n",
    "                           Column(\"keyword_id\", ForeignKey('keywords.id'), primary_key=True))\n",
    "\n",
    "documents_fields = Table('documents_fields', Base.metadata,\n",
    "                         Column('documents_id',ForeignKey('documents.id'),primary_key=True),\n",
    "                         Column('fields_id',ForeignKey('fields.id'), primary_key=True))\n",
    "\n",
    "\n",
    "\n",
    "\n",
    "# documents table\n",
    "class Document(Base):\n",
    "    #### This part is not change, is the same as above ####\n",
    "    __tablename__='documents'\n",
    "\n",
    "    # every column is an object of class Column\n",
    "    # Integer, String: datatype\n",
    "    # 'title', 'abstract': column label. optional\n",
    "    id = Column(Integer, primary_key=True)\n",
    "\n",
    "    title=Column('title', String)\n",
    "\n",
    "    abstract=Column('abstract', String)\n",
    "\n",
    "    publication_date=Column(\"publication_date\", String)\n",
    "\n",
    "    submission_date=Column(\"submission_date\", String)\n",
    "\n",
    "    coverpage_url=Column(\"cover_url\", String)\n",
    "    fulltext_url=Column(\"full_url\", String)\n",
    "\n",
    "    fpage=Column(\"first_page\", String)\n",
    "    lpage=Column(\"last_page\", String)\n",
    "    pages=Column(\"pages\", String)\n",
    "\n",
    "    document_type=Column(\"document_type\", String)\n",
    "\n",
    "    type=Column(\"type\", String)\n",
    "    articleid=Column(\"article_id\",String)\n",
    "\n",
    "    context_key=Column(\"context_key\", String)\n",
    "\n",
    "    label=Column(\"label\", String)\n",
    "\n",
    "    publication_title=Column(String)\n",
    "\n",
    "    submission_path=Column(\"submission_path\", String) \n",
    "    ##### So you can skip this part ####\n",
    "    \n",
    "    \n",
    "    # this is corresponding to the register table above.\n",
    "    # here we use the relationship() method\n",
    "    \n",
    "    authors=relationship(\"Author\", \n",
    "                         secondary=documents_authors,\n",
    "                         back_populates=\"documents\")\n",
    "    \n",
    "    keywords=relationship(\"Keyword\",\n",
    "                          secondary=documents_keywords,\n",
    "                          back_populates=\"documents\")\n",
    "    \n",
    "    fields=relationship('Field',\n",
    "                        secondary=documents_fields,\n",
    "                        back_populates=\"documents\")\n",
    "    \n",
    "    journal_id=Column(Integer, ForeignKey('journals.id'))\n",
    "    journal=relationship(\"Journal\", back_populates=\"documents\")\n",
    "    \n",
    "    def __repr__(self):\n",
    "        return \"<Document(title=%r)>\" %self.title\n",
    "\n",
    "# authors table\n",
    "class Author(Base):\n",
    "    __tablename__='authors'\n",
    "    #### this part is in the same pattern of document table ####\n",
    "    id= Column(Integer,primary_key=True)\n",
    "    \n",
    "    email=Column(\"email\", String)\n",
    "    institution=Column(\"institution\", String)\n",
    "    \n",
    "    lname=Column(\"last_name\", String)\n",
    "    fname=Column(\"first_name\", String)\n",
    "    mname=Column(\"middle_name\", String)\n",
    "    full_name=Column(\"full_name\", String, nullable=True)\n",
    "    ### these are mapping columns, the column labels are from the list: dbv_author. ###\n",
    "    \n",
    "    \n",
    "    \n",
    "    documents=relationship('Document', \n",
    "                           secondary=documents_authors,\n",
    "                           back_populates=\"authors\")\n",
    "    \n",
    "    def __repr__(self):\n",
    "        return \"<Author(full_name=%r)>\" %self.full_name\n",
    "    \n",
    "    \n",
    "    \n",
    "# keywords table      \n",
    "class Keyword(Base):\n",
    "    __tablename__=\"keywords\"\n",
    "    id=Column(Integer, primary_key=True)\n",
    "    \n",
    "    keyword=Column(String)\n",
    "    \n",
    "    documents=relationship(\"Document\",\n",
    "                           secondary=documents_keywords,\n",
    "                           back_populates=\"keywords\")\n",
    "    \n",
    "    def __repr__(self):\n",
    "        return \"<Keyword(keyword=%r)>\" %self.keyword\n",
    "\n",
    "    \n",
    "    \n",
    "    \n",
    "# fields table\n",
    "class Field(Base):\n",
    "    __tablename__='fields'\n",
    "    id=Column(Integer, primary_key=True)\n",
    "    \n",
    "    name=Column('name',String)\n",
    "    type=Column('type',String)\n",
    "    value=Column('value',String)\n",
    "    \n",
    "    documents=relationship('Document',\n",
    "                           secondary=documents_fields,\n",
    "                           back_populates=\"fields\")\n",
    "    \n",
    "    def __repr__(self):\n",
    "        return \"<Field(name=%r, type=%r, value=%r)>\" %(self.name, self.type, self.value)\n",
    "\n",
    "    \n",
    "    \n",
    "class Journal(Base):\n",
    "    __tablename__='journals'\n",
    "    id=Column(Integer, primary_key=True)\n",
    "    \n",
    "    domain=Column(\"domain\",String)\n",
    "    vol=Column(\"volume\", String)\n",
    "    iss=Column('issue', String)\n",
    "    label=Column('label', String)\n",
    "    \n",
    "    documents=relationship(\"Document\", back_populates=\"journal\")\n",
    "    \n",
    "    def __repr__(self):\n",
    "        return \"<Journal(vol %r, iss %r)>\" %(self.vol, self.iss)\n",
    "    \n",
    "    "
   ]
  },
  {
   "cell_type": "code",
   "execution_count": 2,
   "metadata": {
    "collapsed": true
   },
   "outputs": [],
   "source": [
    "aut = {'email': 'jmgoh@sfu.ca',\n",
    "   'fname': 'Jie Mein',\n",
    "   'full_name': 'Jie Mein//Goh',\n",
    "   'institution': 'Simon Fraser University',\n",
    "   'lname': 'Goh',\n",
    "   'mname': ''}"
   ]
  },
  {
   "cell_type": "code",
   "execution_count": 3,
   "metadata": {
    "collapsed": true
   },
   "outputs": [],
   "source": [
    "au = Author(**aut)"
   ]
  },
  {
   "cell_type": "code",
   "execution_count": 4,
   "metadata": {
    "collapsed": false
   },
   "outputs": [
    {
     "data": {
      "text/plain": [
       "<Author(full_name='Jie Mein//Goh')>"
      ]
     },
     "execution_count": 4,
     "metadata": {},
     "output_type": "execute_result"
    }
   ],
   "source": [
    "au"
   ]
  },
  {
   "cell_type": "code",
   "execution_count": 5,
   "metadata": {
    "collapsed": true
   },
   "outputs": [],
   "source": [
    "a2 = Author(email = \"luo@qq.com\")"
   ]
  },
  {
   "cell_type": "code",
   "execution_count": 6,
   "metadata": {
    "collapsed": false
   },
   "outputs": [
    {
     "data": {
      "text/plain": [
       "<Author(full_name=None)>"
      ]
     },
     "execution_count": 6,
     "metadata": {},
     "output_type": "execute_result"
    }
   ],
   "source": [
    "a2"
   ]
  },
  {
   "cell_type": "code",
   "execution_count": 7,
   "metadata": {
    "collapsed": false
   },
   "outputs": [
    {
     "data": {
      "text/plain": [
       "MetaData(bind=None)"
      ]
     },
     "execution_count": 7,
     "metadata": {},
     "output_type": "execute_result"
    }
   ],
   "source": [
    "a2.metadata"
   ]
  },
  {
   "cell_type": "code",
   "execution_count": 8,
   "metadata": {
    "collapsed": true
   },
   "outputs": [],
   "source": [
    "class Professor(Base):\n",
    "    __tablename__ = 'professors'\n",
    "\n",
    "    id = Column(Integer, primary_key = True)\n",
    "    tid = Column('tid',String)\n",
    "    sid = Column('sid',String)\n",
    "\n",
    "    pname = Column('pname',String)\n",
    "    department = Column('department',String)\n",
    "    university = Column('university',String)\n",
    "\n",
    "    quality = Column('quality',String)\n",
    "    difficulty = Column('difficulty',String)\n",
    "    n_rating = Column('n_rating',String)\n",
    "    \n",
    "    # what type?\n",
    "    tags = Column('tags',String)\n",
    "    \n",
    "\n",
    "    def __repr__(self):\n",
    "        return \"<Professor(name = %r)>\" %self.pname\n",
    "\n"
   ]
  },
  {
   "cell_type": "code",
   "execution_count": 10,
   "metadata": {
    "collapsed": true
   },
   "outputs": [],
   "source": [
    "professor = {'department': 'Business',\n",
    " 'difficulty': '1.7',\n",
    " 'n_rating': '19',\n",
    " 'pname': 'Sami Abdel-Salam',\n",
    " 'quality': '4.53',\n",
    " 'sid': '1094',\n",
    " 'tags': '{\"Caring\": 1, \"Inspirational\": 1, \"Respected\": 2}',\n",
    " 'tid': '82059',\n",
    " 'university': 'University of Delaware'}"
   ]
  },
  {
   "cell_type": "code",
   "execution_count": 11,
   "metadata": {
    "collapsed": true
   },
   "outputs": [],
   "source": [
    "pro = Professor(**professor)"
   ]
  },
  {
   "cell_type": "code",
   "execution_count": 12,
   "metadata": {
    "collapsed": false
   },
   "outputs": [
    {
     "data": {
      "text/plain": [
       "<Professor(name = 'Sami Abdel-Salam')>"
      ]
     },
     "execution_count": 12,
     "metadata": {},
     "output_type": "execute_result"
    }
   ],
   "source": [
    "pro"
   ]
  },
  {
   "cell_type": "code",
   "execution_count": 13,
   "metadata": {
    "collapsed": true
   },
   "outputs": [],
   "source": [
    "pro2 = Professor(pname = 'luo')"
   ]
  },
  {
   "cell_type": "code",
   "execution_count": 14,
   "metadata": {
    "collapsed": false
   },
   "outputs": [
    {
     "data": {
      "text/plain": [
       "<Professor(name = 'luo')>"
      ]
     },
     "execution_count": 14,
     "metadata": {},
     "output_type": "execute_result"
    }
   ],
   "source": [
    "pro2"
   ]
  },
  {
   "cell_type": "code",
   "execution_count": null,
   "metadata": {
    "collapsed": true
   },
   "outputs": [],
   "source": []
  }
 ],
 "metadata": {
  "anaconda-cloud": {},
  "kernelspec": {
   "display_name": "Python [Root]",
   "language": "python",
   "name": "Python [Root]"
  },
  "language_info": {
   "codemirror_mode": {
    "name": "ipython",
    "version": 3
   },
   "file_extension": ".py",
   "mimetype": "text/x-python",
   "name": "python",
   "nbconvert_exporter": "python",
   "pygments_lexer": "ipython3",
   "version": "3.5.2"
  }
 },
 "nbformat": 4,
 "nbformat_minor": 0
}
