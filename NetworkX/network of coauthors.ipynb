{
 "cells": [
  {
   "cell_type": "code",
   "execution_count": 14,
   "metadata": {
    "collapsed": true
   },
   "outputs": [],
   "source": [
    "import pandas as pd\n",
    "import numpy as np\n",
    "import matplotlib.pyplot as plt\n",
    "from pandas import DataFrame, Series\n",
    "import networkx as nx\n",
    "import itertools\n",
    "import sqlite3"
   ]
  },
  {
   "cell_type": "code",
   "execution_count": 15,
   "metadata": {
    "collapsed": true
   },
   "outputs": [],
   "source": [
    "%matplotlib inline"
   ]
  },
  {
   "cell_type": "code",
   "execution_count": 16,
   "metadata": {
    "collapsed": false
   },
   "outputs": [],
   "source": [
    "con = sqlite3.connect(\"data.sqlite\")\n",
    "sql = \"select * from documents_authors;\"\n",
    "X = pd.read_sql(sql, con)"
   ]
  },
  {
   "cell_type": "code",
   "execution_count": 17,
   "metadata": {
    "collapsed": false
   },
   "outputs": [
    {
     "data": {
      "text/html": [
       "<div>\n",
       "<table border=\"1\" class=\"dataframe\">\n",
       "  <thead>\n",
       "    <tr style=\"text-align: right;\">\n",
       "      <th></th>\n",
       "      <th>documents_id</th>\n",
       "      <th>authors_id</th>\n",
       "    </tr>\n",
       "  </thead>\n",
       "  <tbody>\n",
       "    <tr>\n",
       "      <th>0</th>\n",
       "      <td>1</td>\n",
       "      <td>1</td>\n",
       "    </tr>\n",
       "    <tr>\n",
       "      <th>1</th>\n",
       "      <td>2</td>\n",
       "      <td>2</td>\n",
       "    </tr>\n",
       "    <tr>\n",
       "      <th>2</th>\n",
       "      <td>2</td>\n",
       "      <td>3</td>\n",
       "    </tr>\n",
       "    <tr>\n",
       "      <th>3</th>\n",
       "      <td>3</td>\n",
       "      <td>4</td>\n",
       "    </tr>\n",
       "    <tr>\n",
       "      <th>4</th>\n",
       "      <td>4</td>\n",
       "      <td>5</td>\n",
       "    </tr>\n",
       "  </tbody>\n",
       "</table>\n",
       "</div>"
      ],
      "text/plain": [
       "   documents_id  authors_id\n",
       "0             1           1\n",
       "1             2           2\n",
       "2             2           3\n",
       "3             3           4\n",
       "4             4           5"
      ]
     },
     "execution_count": 17,
     "metadata": {},
     "output_type": "execute_result"
    }
   ],
   "source": [
    "X.head()"
   ]
  },
  {
   "cell_type": "code",
   "execution_count": 18,
   "metadata": {
    "collapsed": false
   },
   "outputs": [
    {
     "data": {
      "text/html": [
       "<div>\n",
       "<table border=\"1\" class=\"dataframe\">\n",
       "  <thead>\n",
       "    <tr style=\"text-align: right;\">\n",
       "      <th></th>\n",
       "      <th>documents_id</th>\n",
       "      <th>authors_id</th>\n",
       "    </tr>\n",
       "  </thead>\n",
       "  <tbody>\n",
       "    <tr>\n",
       "      <th>2752</th>\n",
       "      <td>1303</td>\n",
       "      <td>1685</td>\n",
       "    </tr>\n",
       "    <tr>\n",
       "      <th>2753</th>\n",
       "      <td>1304</td>\n",
       "      <td>281</td>\n",
       "    </tr>\n",
       "    <tr>\n",
       "      <th>2754</th>\n",
       "      <td>1305</td>\n",
       "      <td>475</td>\n",
       "    </tr>\n",
       "    <tr>\n",
       "      <th>2755</th>\n",
       "      <td>1305</td>\n",
       "      <td>22</td>\n",
       "    </tr>\n",
       "    <tr>\n",
       "      <th>2756</th>\n",
       "      <td>1306</td>\n",
       "      <td>179</td>\n",
       "    </tr>\n",
       "  </tbody>\n",
       "</table>\n",
       "</div>"
      ],
      "text/plain": [
       "      documents_id  authors_id\n",
       "2752          1303        1685\n",
       "2753          1304         281\n",
       "2754          1305         475\n",
       "2755          1305          22\n",
       "2756          1306         179"
      ]
     },
     "execution_count": 18,
     "metadata": {},
     "output_type": "execute_result"
    }
   ],
   "source": [
    "X.tail()"
   ]
  },
  {
   "cell_type": "code",
   "execution_count": 19,
   "metadata": {
    "collapsed": true
   },
   "outputs": [],
   "source": [
    "Y = X[\"documents_id\"].unique()"
   ]
  },
  {
   "cell_type": "code",
   "execution_count": 20,
   "metadata": {
    "collapsed": false
   },
   "outputs": [
    {
     "data": {
      "text/plain": [
       "array([ 1,  2,  3,  4,  5,  6,  7,  8,  9, 10])"
      ]
     },
     "execution_count": 20,
     "metadata": {},
     "output_type": "execute_result"
    }
   ],
   "source": [
    "Y[:10]"
   ]
  },
  {
   "cell_type": "code",
   "execution_count": 21,
   "metadata": {
    "collapsed": true
   },
   "outputs": [],
   "source": [
    "x = []\n",
    "y = {}\n",
    "\n",
    "uniq = Y"
   ]
  },
  {
   "cell_type": "code",
   "execution_count": 22,
   "metadata": {
    "collapsed": false
   },
   "outputs": [
    {
     "data": {
      "text/plain": [
       "array([ 1,  2,  3,  4,  5,  6,  7,  8,  9, 10])"
      ]
     },
     "execution_count": 22,
     "metadata": {},
     "output_type": "execute_result"
    }
   ],
   "source": [
    "uniq[:10]"
   ]
  },
  {
   "cell_type": "code",
   "execution_count": 23,
   "metadata": {
    "collapsed": true
   },
   "outputs": [],
   "source": [
    "for article in uniq:\n",
    "    y[article] = X.loc[X['documents_id'] == article]['authors_id']"
   ]
  },
  {
   "cell_type": "code",
   "execution_count": 24,
   "metadata": {
    "collapsed": false
   },
   "outputs": [
    {
     "name": "stdout",
     "output_type": "stream",
     "text": [
      "1\n",
      "\n",
      "0    1\n",
      "Name: authors_id, dtype: int64\n",
      "----\n",
      "2\n",
      "\n",
      "1    2\n",
      "2    3\n",
      "Name: authors_id, dtype: int64\n",
      "----\n",
      "3\n",
      "\n",
      "3    4\n",
      "Name: authors_id, dtype: int64\n",
      "----\n",
      "4\n",
      "\n",
      "4    5\n",
      "5    6\n",
      "Name: authors_id, dtype: int64\n",
      "----\n",
      "5\n",
      "\n",
      "6    7\n",
      "7    8\n",
      "8    9\n",
      "Name: authors_id, dtype: int64\n",
      "----\n"
     ]
    }
   ],
   "source": [
    "n = 0\n",
    "for article, authors in y.items():\n",
    "    n += 1\n",
    "    if n<=5:\n",
    "        print(article)\n",
    "        print(\"\")\n",
    "        print(authors)\n",
    "        print(\"----\")"
   ]
  },
  {
   "cell_type": "code",
   "execution_count": null,
   "metadata": {
    "collapsed": true
   },
   "outputs": [],
   "source": []
  },
  {
   "cell_type": "code",
   "execution_count": 25,
   "metadata": {
    "collapsed": false
   },
   "outputs": [
    {
     "data": {
      "text/plain": [
       "2243"
      ]
     },
     "execution_count": 25,
     "metadata": {},
     "output_type": "execute_result"
    }
   ],
   "source": [
    "combinations_all = []\n",
    "\n",
    "for article in y:\n",
    "    g = itertools.combinations(y[article], 2)\n",
    "    for sub in g:\n",
    "        combinations_all.append(sub)\n",
    "len(combinations_all)"
   ]
  },
  {
   "cell_type": "code",
   "execution_count": 26,
   "metadata": {
    "collapsed": false
   },
   "outputs": [
    {
     "name": "stdout",
     "output_type": "stream",
     "text": [
      "the repeated edges' number:  148\n"
     ]
    },
    {
     "data": {
      "text/plain": [
       "array([[ 2,  3],\n",
       "       [ 5,  6],\n",
       "       [ 7,  8],\n",
       "       [ 7,  9],\n",
       "       [ 8,  9],\n",
       "       [11, 12],\n",
       "       [13, 14],\n",
       "       [16, 17],\n",
       "       [16, 18],\n",
       "       [17, 18]])"
      ]
     },
     "execution_count": 26,
     "metadata": {},
     "output_type": "execute_result"
    }
   ],
   "source": [
    "lis = combinations_all\n",
    "seen_net = set()\n",
    "ans_net = []\n",
    "\n",
    "n=0\n",
    "for item in lis:\n",
    "    if item not in seen_net:\n",
    "        ans_net.append(item)\n",
    "        seen_net.add(item)\n",
    "    else:\n",
    "        n+=1\n",
    "print(\"the repeated edges' number: \", n)\n",
    "\n",
    "\n",
    "matrix_net = np.asarray(ans_net)\n",
    "\n",
    "matrix_net[:10]\n",
    "\n"
   ]
  },
  {
   "cell_type": "code",
   "execution_count": 27,
   "metadata": {
    "collapsed": false
   },
   "outputs": [
    {
     "name": "stdout",
     "output_type": "stream",
     "text": [
      "the repeated edges' number:  1199\n"
     ]
    },
    {
     "data": {
      "text/plain": [
       "array([[ 2,  3],\n",
       "       [ 5,  6],\n",
       "       [ 7,  8],\n",
       "       [ 7,  9],\n",
       "       [11, 12],\n",
       "       [13, 14],\n",
       "       [16, 17],\n",
       "       [16, 18],\n",
       "       [22, 23],\n",
       "       [25, 26]])"
      ]
     },
     "execution_count": 27,
     "metadata": {},
     "output_type": "execute_result"
    }
   ],
   "source": [
    "seen_tree = set()\n",
    "ans_tree = []\n",
    "\n",
    "m=0\n",
    "for item in lis:\n",
    "    if item[1] not in seen_tree:\n",
    "        ans_tree.append(item)\n",
    "        seen_tree.add(item[1])\n",
    "    else:\n",
    "        m+=1\n",
    "print(\"the repeated edges' number: \", m)\n",
    "\n",
    "matrix_tree = np.asarray(ans_tree)\n",
    "matrix_tree[:10]"
   ]
  },
  {
   "cell_type": "code",
   "execution_count": 28,
   "metadata": {
    "collapsed": true
   },
   "outputs": [],
   "source": [
    "G_n = nx.Graph()\n",
    "G_n.add_edges_from(matrix_net)\n",
    "sub_graphs_n = nx.connected_component_subgraphs(G_n)\n",
    "\n",
    "G_t = nx.Graph()\n",
    "G_t.add_edges_from(matrix_tree)\n",
    "sub_graphs_t = nx.connected_component_subgraphs(G_t)"
   ]
  },
  {
   "cell_type": "code",
   "execution_count": 29,
   "metadata": {
    "collapsed": false
   },
   "outputs": [
    {
     "name": "stdout",
     "output_type": "stream",
     "text": [
      "294\n",
      "456\n"
     ]
    }
   ],
   "source": [
    "sub_graphs_n = list(sub_graphs_n)\n",
    "lenn = len(sub_graphs_n)\n",
    "print(lenn)\n",
    "sub_graphs_t = list(sub_graphs_t)\n",
    "lent = len(sub_graphs_t)\n",
    "print(lent)"
   ]
  },
  {
   "cell_type": "code",
   "execution_count": 32,
   "metadata": {
    "collapsed": false,
    "scrolled": true
   },
   "outputs": [
    {
     "name": "stdout",
     "output_type": "stream",
     "text": [
      "0      2\n",
      "1     13\n",
      "2    721\n",
      "3      2\n",
      "4      4\n",
      "dtype: int64\n",
      "0     2\n",
      "1     6\n",
      "2     4\n",
      "3     2\n",
      "4     4\n",
      "5     3\n",
      "6     3\n",
      "7     4\n",
      "8     5\n",
      "9    16\n",
      "dtype: int64\n"
     ]
    }
   ],
   "source": [
    "subgraphsize_n = Series()\n",
    "subgraphsize_t = Series()\n",
    "\n",
    "for i in range(lenn):\n",
    "    subgraphsize_n.loc[i] = len(sub_graphs_n[i].nodes())\n",
    "    \n",
    "for i in range(lent):\n",
    "    subgraphsize_t.loc[i] = len(sub_graphs_t[i].nodes())\n",
    "    \n",
    "print(subgraphsize_n.head())\n",
    "print(subgraphsize_t.head(10))\n"
   ]
  },
  {
   "cell_type": "code",
   "execution_count": 39,
   "metadata": {
    "collapsed": false
   },
   "outputs": [],
   "source": [
    "pos = nx.spring_layout(sub_graphs_n[4])"
   ]
  },
  {
   "cell_type": "code",
   "execution_count": 40,
   "metadata": {
    "collapsed": false
   },
   "outputs": [
    {
     "data": {
      "text/plain": [
       "{11: <matplotlib.text.Text at 0x11af09c88>,\n",
       " 12: <matplotlib.text.Text at 0x11af10208>,\n",
       " 642: <matplotlib.text.Text at 0x11af03908>,\n",
       " 643: <matplotlib.text.Text at 0x11af10780>}"
      ]
     },
     "execution_count": 40,
     "metadata": {},
     "output_type": "execute_result"
    },
    {
     "data": {
      "image/png": "[encoded data removed]",
      "text/plain": [
       "<matplotlib.figure.Figure at 0x11ade3f60>"
      ]
     },
     "metadata": {},
     "output_type": "display_data"
    }
   ],
   "source": [
    "nx.draw(sub_graphs_n[4], pos, node_size = 300)\n",
    "nx.draw_networkx_labels(sub_graphs_n[4],pos, font_size=10,font_family='sans-serif')\n"
   ]
  },
  {
   "cell_type": "code",
   "execution_count": 37,
   "metadata": {
    "collapsed": false
   },
   "outputs": [
    {
     "data": {
      "image/png": "[encoded data removed]",
      "text/plain": [
       "<matplotlib.figure.Figure at 0x11abb8cf8>"
      ]
     },
     "metadata": {},
     "output_type": "display_data"
    }
   ],
   "source": [
    "nx.draw(sub_graphs_t[8])"
   ]
  },
  {
   "cell_type": "code",
   "execution_count": 3,
   "metadata": {
    "collapsed": true
   },
   "outputs": [],
   "source": [
    "con = sqlite3.connect(\"data.sqlite\")\n",
    "sql = \"select * from documents_authors;\"\n",
    "auth_docu ='''\n",
    "select full_name, title, count(title)\n",
    "from authors a, documents b, documents_authors c\n",
    "where a.id=c.authors_id and c.documents_id=b.id\n",
    "group by full_name\n",
    "order by count(title) desc;\n",
    "'''"
   ]
  },
  {
   "cell_type": "code",
   "execution_count": 4,
   "metadata": {
    "collapsed": true
   },
   "outputs": [],
   "source": [
    "X = pd.read_sql(auth_docu, con)\n"
   ]
  },
  {
   "cell_type": "code",
   "execution_count": 13,
   "metadata": {
    "collapsed": false
   },
   "outputs": [
    {
     "data": {
      "text/html": [
       "<div>\n",
       "<table border=\"1\" class=\"dataframe\">\n",
       "  <thead>\n",
       "    <tr style=\"text-align: right;\">\n",
       "      <th></th>\n",
       "      <th>full_name</th>\n",
       "      <th>title</th>\n",
       "      <th>count(title)</th>\n",
       "    </tr>\n",
       "  </thead>\n",
       "  <tbody>\n",
       "    <tr>\n",
       "      <th>0</th>\n",
       "      <td>MIS//Quarterly</td>\n",
       "      <td>Table of Contents</td>\n",
       "      <td>64</td>\n",
       "    </tr>\n",
       "    <tr>\n",
       "      <th>1</th>\n",
       "      <td>Izak//Benbasat</td>\n",
       "      <td>Cost/Benefit Analysis of Computer Based Messag...</td>\n",
       "      <td>30</td>\n",
       "    </tr>\n",
       "    <tr>\n",
       "      <th>2</th>\n",
       "      <td>Detmar/W./Straub</td>\n",
       "      <td>How Information Technology Governance Mechanis...</td>\n",
       "      <td>18</td>\n",
       "    </tr>\n",
       "    <tr>\n",
       "      <th>3</th>\n",
       "      <td>Viswanath//Venkatesh</td>\n",
       "      <td>Mobile Application Usability:  Conceptualizati...</td>\n",
       "      <td>18</td>\n",
       "    </tr>\n",
       "    <tr>\n",
       "      <th>4</th>\n",
       "      <td>Ron//Weber</td>\n",
       "      <td>A Hole in the Whole:  A Response to Allen and ...</td>\n",
       "      <td>16</td>\n",
       "    </tr>\n",
       "    <tr>\n",
       "      <th>5</th>\n",
       "      <td>Carol//Saunders</td>\n",
       "      <td>When Imprecise Statistical Statements Become P...</td>\n",
       "      <td>15</td>\n",
       "    </tr>\n",
       "    <tr>\n",
       "      <th>6</th>\n",
       "      <td>Varun//Grover</td>\n",
       "      <td>Me. My Self, and I(T):  Conceptualizating Info...</td>\n",
       "      <td>14</td>\n",
       "    </tr>\n",
       "    <tr>\n",
       "      <th>7</th>\n",
       "      <td>Blake//Ives</td>\n",
       "      <td>Chargeback Systems and User Involvement in Inf...</td>\n",
       "      <td>13</td>\n",
       "    </tr>\n",
       "    <tr>\n",
       "      <th>8</th>\n",
       "      <td>Arun//Rai</td>\n",
       "      <td>Editor's Comments:  The MIS Quarterly Trifecta...</td>\n",
       "      <td>12</td>\n",
       "    </tr>\n",
       "    <tr>\n",
       "      <th>9</th>\n",
       "      <td>Paul/A./Pavlou</td>\n",
       "      <td>Swift Guanxi in Online Marketplaces:  The Role...</td>\n",
       "      <td>12</td>\n",
       "    </tr>\n",
       "    <tr>\n",
       "      <th>10</th>\n",
       "      <td>Ritu//Agarwal</td>\n",
       "      <td>The Creation of Social Value:  Can an Online H...</td>\n",
       "      <td>12</td>\n",
       "    </tr>\n",
       "    <tr>\n",
       "      <th>11</th>\n",
       "      <td>Alain//Pinsonneault</td>\n",
       "      <td>A Temporally Situated Self-Agency Theory of In...</td>\n",
       "      <td>10</td>\n",
       "    </tr>\n",
       "    <tr>\n",
       "      <th>12</th>\n",
       "      <td>James//Wetherbe</td>\n",
       "      <td>Key Information Systems Issues for the 1980's</td>\n",
       "      <td>10</td>\n",
       "    </tr>\n",
       "    <tr>\n",
       "      <th>13</th>\n",
       "      <td>Paulo//Goes</td>\n",
       "      <td>Editor's Comments:  Inflection Point:  Looking...</td>\n",
       "      <td>10</td>\n",
       "    </tr>\n",
       "    <tr>\n",
       "      <th>14</th>\n",
       "      <td>Sirkka//Jarvenpaa</td>\n",
       "      <td>Methodological Issues in Experimental IS Resea...</td>\n",
       "      <td>10</td>\n",
       "    </tr>\n",
       "    <tr>\n",
       "      <th>15</th>\n",
       "      <td>Suzanne//Rivard</td>\n",
       "      <td>User Developed Applications: Evaluation of Suc...</td>\n",
       "      <td>10</td>\n",
       "    </tr>\n",
       "    <tr>\n",
       "      <th>16</th>\n",
       "      <td>Elena//Karahanna</td>\n",
       "      <td>Causal Explanation in the Coordinating Process...</td>\n",
       "      <td>9</td>\n",
       "    </tr>\n",
       "    <tr>\n",
       "      <th>17</th>\n",
       "      <td>Kalle//Lyytinen</td>\n",
       "      <td>Implications of Theories of Language for Infor...</td>\n",
       "      <td>9</td>\n",
       "    </tr>\n",
       "    <tr>\n",
       "      <th>18</th>\n",
       "      <td>Robert//Zmud</td>\n",
       "      <td>Design Alternatives for Organizing Information...</td>\n",
       "      <td>9</td>\n",
       "    </tr>\n",
       "    <tr>\n",
       "      <th>19</th>\n",
       "      <td>Robert/W./Zmud</td>\n",
       "      <td>Managing Peer-to-Peer Conflicts in Disruptive ...</td>\n",
       "      <td>9</td>\n",
       "    </tr>\n",
       "    <tr>\n",
       "      <th>20</th>\n",
       "      <td>Detmar W.//Straub</td>\n",
       "      <td>Editor's Comments:  Use</td>\n",
       "      <td>8</td>\n",
       "    </tr>\n",
       "    <tr>\n",
       "      <th>21</th>\n",
       "      <td>Gerardine//DeSanctis</td>\n",
       "      <td>Methodological Issues in Experimental IS Resea...</td>\n",
       "      <td>8</td>\n",
       "    </tr>\n",
       "    <tr>\n",
       "      <th>22</th>\n",
       "      <td>Henri//Barki</td>\n",
       "      <td>User Participation in Information Systems Secu...</td>\n",
       "      <td>8</td>\n",
       "    </tr>\n",
       "    <tr>\n",
       "      <th>23</th>\n",
       "      <td>Hugh//Watson</td>\n",
       "      <td>A Contingency Model for User Involvement in DS...</td>\n",
       "      <td>8</td>\n",
       "    </tr>\n",
       "    <tr>\n",
       "      <th>24</th>\n",
       "      <td>Albert//Lederer</td>\n",
       "      <td>A Meta-Analysis of the Role of Environment-Bas...</td>\n",
       "      <td>7</td>\n",
       "    </tr>\n",
       "    <tr>\n",
       "      <th>25</th>\n",
       "      <td>Daniel//Robey</td>\n",
       "      <td>Rituals in Information System Design</td>\n",
       "      <td>7</td>\n",
       "    </tr>\n",
       "    <tr>\n",
       "      <th>26</th>\n",
       "      <td>Detmar//Straub</td>\n",
       "      <td>Information Technology Adoption Across Time: A...</td>\n",
       "      <td>7</td>\n",
       "    </tr>\n",
       "    <tr>\n",
       "      <th>27</th>\n",
       "      <td>Kenneth//Kozar</td>\n",
       "      <td>Management's Role in Information System Develo...</td>\n",
       "      <td>7</td>\n",
       "    </tr>\n",
       "    <tr>\n",
       "      <th>28</th>\n",
       "      <td>Michael//Vitale</td>\n",
       "      <td>Assessing the Health of an Information System ...</td>\n",
       "      <td>7</td>\n",
       "    </tr>\n",
       "    <tr>\n",
       "      <th>29</th>\n",
       "      <td>Richard//Watson</td>\n",
       "      <td>Measuring Information Systems Service Quality:...</td>\n",
       "      <td>7</td>\n",
       "    </tr>\n",
       "    <tr>\n",
       "      <th>...</th>\n",
       "      <td>...</td>\n",
       "      <td>...</td>\n",
       "      <td>...</td>\n",
       "    </tr>\n",
       "    <tr>\n",
       "      <th>1655</th>\n",
       "      <td>Yinglei//Wang</td>\n",
       "      <td>Social Influence and Knowledge Management Syst...</td>\n",
       "      <td>1</td>\n",
       "    </tr>\n",
       "    <tr>\n",
       "      <th>1656</th>\n",
       "      <td>Yiwei//Jin</td>\n",
       "      <td>User Heterogeneity and its Impact on Electroni...</td>\n",
       "      <td>1</td>\n",
       "    </tr>\n",
       "    <tr>\n",
       "      <th>1657</th>\n",
       "      <td>Yolande/E/Chan</td>\n",
       "      <td>A Multilevel Model for Measuring Fit Between a...</td>\n",
       "      <td>1</td>\n",
       "    </tr>\n",
       "    <tr>\n",
       "      <th>1658</th>\n",
       "      <td>Yong-Mi//Kim</td>\n",
       "      <td>Professional Versus Political Contexts:  Insti...</td>\n",
       "      <td>1</td>\n",
       "    </tr>\n",
       "    <tr>\n",
       "      <th>1659</th>\n",
       "      <td>Yong/(Eric)/Lu</td>\n",
       "      <td>Friendships in Online Peer-to-Peer Lending:  P...</td>\n",
       "      <td>1</td>\n",
       "    </tr>\n",
       "    <tr>\n",
       "      <th>1660</th>\n",
       "      <td>Yong//Lu</td>\n",
       "      <td>Harnessing the Power of Self-Organization in a...</td>\n",
       "      <td>1</td>\n",
       "    </tr>\n",
       "    <tr>\n",
       "      <th>1661</th>\n",
       "      <td>Yong/Jin/Kim</td>\n",
       "      <td>Knowledge Acquisition via Three Learning Proce...</td>\n",
       "      <td>1</td>\n",
       "    </tr>\n",
       "    <tr>\n",
       "      <th>1662</th>\n",
       "      <td>Young Bong//Chang</td>\n",
       "      <td>Information Technology Outsourcing, Knowledge ...</td>\n",
       "      <td>1</td>\n",
       "    </tr>\n",
       "    <tr>\n",
       "      <th>1663</th>\n",
       "      <td>Young-Gul//Kim</td>\n",
       "      <td>Behavioral Intention Formation in Knowledge Sh...</td>\n",
       "      <td>1</td>\n",
       "    </tr>\n",
       "    <tr>\n",
       "      <th>1664</th>\n",
       "      <td>Young/Eun/Lee</td>\n",
       "      <td>The Effects of Virtual Reality on Consumer Lea...</td>\n",
       "      <td>1</td>\n",
       "    </tr>\n",
       "    <tr>\n",
       "      <th>1665</th>\n",
       "      <td>Younghwa//Lee</td>\n",
       "      <td>Can Online Wait Be Managed?  The Effect of Fil...</td>\n",
       "      <td>1</td>\n",
       "    </tr>\n",
       "    <tr>\n",
       "      <th>1666</th>\n",
       "      <td>Youngohc//Yoon</td>\n",
       "      <td>Exploring the Factors Associated with Expert S...</td>\n",
       "      <td>1</td>\n",
       "    </tr>\n",
       "    <tr>\n",
       "      <th>1667</th>\n",
       "      <td>Youngsok//Bang</td>\n",
       "      <td>Managing Consumer Privacy Concerns in Personal...</td>\n",
       "      <td>1</td>\n",
       "    </tr>\n",
       "    <tr>\n",
       "      <th>1668</th>\n",
       "      <td>Yu-Ming//Wang</td>\n",
       "      <td>Understanding Network Effects in Software Mark...</td>\n",
       "      <td>1</td>\n",
       "    </tr>\n",
       "    <tr>\n",
       "      <th>1669</th>\n",
       "      <td>Yu/Jeffrey/Hu</td>\n",
       "      <td>Competing for Attention:  An Empirical Study o...</td>\n",
       "      <td>1</td>\n",
       "    </tr>\n",
       "    <tr>\n",
       "      <th>1670</th>\n",
       "      <td>Yufei//Yuan</td>\n",
       "      <td>A Multilevel Model for Measuring Fit Between a...</td>\n",
       "      <td>1</td>\n",
       "    </tr>\n",
       "    <tr>\n",
       "      <th>1671</th>\n",
       "      <td>Yulin//Fang</td>\n",
       "      <td>Trust, Satisfaction, and Online Repurchase Int...</td>\n",
       "      <td>1</td>\n",
       "    </tr>\n",
       "    <tr>\n",
       "      <th>1672</th>\n",
       "      <td>Yuqing//Ren</td>\n",
       "      <td>Building Member Attachment in Online Communiti...</td>\n",
       "      <td>1</td>\n",
       "    </tr>\n",
       "    <tr>\n",
       "      <th>1673</th>\n",
       "      <td>Zachary/R./Steelman</td>\n",
       "      <td>Data Collection in the Digital Age:  Innovativ...</td>\n",
       "      <td>1</td>\n",
       "    </tr>\n",
       "    <tr>\n",
       "      <th>1674</th>\n",
       "      <td>Zbigniew//Przasnyski</td>\n",
       "      <td>On Information Systems Project Abandonment: An...</td>\n",
       "      <td>1</td>\n",
       "    </tr>\n",
       "    <tr>\n",
       "      <th>1675</th>\n",
       "      <td>Zeeva//Millman</td>\n",
       "      <td>The Impact of Automated Office Systems on Midd...</td>\n",
       "      <td>1</td>\n",
       "    </tr>\n",
       "    <tr>\n",
       "      <th>1676</th>\n",
       "      <td>Zhan//Shi</td>\n",
       "      <td>Content Sharing in a Social Broadcasting Envir...</td>\n",
       "      <td>1</td>\n",
       "    </tr>\n",
       "    <tr>\n",
       "      <th>1677</th>\n",
       "      <td>Zhenhui//Jiang</td>\n",
       "      <td>THE EFFECTS OF PRESENTATION FORMATS AND TASK C...</td>\n",
       "      <td>1</td>\n",
       "    </tr>\n",
       "    <tr>\n",
       "      <th>1678</th>\n",
       "      <td>Zhimin//Hua</td>\n",
       "      <td>Network-Based Modeling and Analysis of Systemi...</td>\n",
       "      <td>1</td>\n",
       "    </tr>\n",
       "    <tr>\n",
       "      <th>1679</th>\n",
       "      <td>Zhiqiang//Zheng</td>\n",
       "      <td>An Empirical Analysis of the Value of Complete...</td>\n",
       "      <td>1</td>\n",
       "    </tr>\n",
       "    <tr>\n",
       "      <th>1680</th>\n",
       "      <td>Zhu//Zhang</td>\n",
       "      <td>Detecting Fake Websites:  The Contribution of ...</td>\n",
       "      <td>1</td>\n",
       "    </tr>\n",
       "    <tr>\n",
       "      <th>1681</th>\n",
       "      <td>and//Mild</td>\n",
       "      <td>Options Analysis of Software Platform Decision...</td>\n",
       "      <td>1</td>\n",
       "    </tr>\n",
       "    <tr>\n",
       "      <th>1682</th>\n",
       "      <td>param vir//singh</td>\n",
       "      <td>A Hidden Markov Model for Collaborative Filtering</td>\n",
       "      <td>1</td>\n",
       "    </tr>\n",
       "    <tr>\n",
       "      <th>1683</th>\n",
       "      <td>richard//bagozzi</td>\n",
       "      <td>Measurement and Meaning in Information Systems...</td>\n",
       "      <td>1</td>\n",
       "    </tr>\n",
       "    <tr>\n",
       "      <th>1684</th>\n",
       "      <td>sarv//devaraj</td>\n",
       "      <td>Does Information Technology Investment Influen...</td>\n",
       "      <td>1</td>\n",
       "    </tr>\n",
       "  </tbody>\n",
       "</table>\n",
       "<p>1685 rows × 3 columns</p>\n",
       "</div>"
      ],
      "text/plain": [
       "                 full_name                                              title  \\\n",
       "0           MIS//Quarterly                                  Table of Contents   \n",
       "1           Izak//Benbasat  Cost/Benefit Analysis of Computer Based Messag...   \n",
       "2         Detmar/W./Straub  How Information Technology Governance Mechanis...   \n",
       "3     Viswanath//Venkatesh  Mobile Application Usability:  Conceptualizati...   \n",
       "4               Ron//Weber  A Hole in the Whole:  A Response to Allen and ...   \n",
       "5          Carol//Saunders  When Imprecise Statistical Statements Become P...   \n",
       "6            Varun//Grover  Me. My Self, and I(T):  Conceptualizating Info...   \n",
       "7              Blake//Ives  Chargeback Systems and User Involvement in Inf...   \n",
       "8                Arun//Rai  Editor's Comments:  The MIS Quarterly Trifecta...   \n",
       "9           Paul/A./Pavlou  Swift Guanxi in Online Marketplaces:  The Role...   \n",
       "10           Ritu//Agarwal  The Creation of Social Value:  Can an Online H...   \n",
       "11     Alain//Pinsonneault  A Temporally Situated Self-Agency Theory of In...   \n",
       "12         James//Wetherbe      Key Information Systems Issues for the 1980's   \n",
       "13             Paulo//Goes  Editor's Comments:  Inflection Point:  Looking...   \n",
       "14       Sirkka//Jarvenpaa  Methodological Issues in Experimental IS Resea...   \n",
       "15         Suzanne//Rivard  User Developed Applications: Evaluation of Suc...   \n",
       "16        Elena//Karahanna  Causal Explanation in the Coordinating Process...   \n",
       "17         Kalle//Lyytinen  Implications of Theories of Language for Infor...   \n",
       "18            Robert//Zmud  Design Alternatives for Organizing Information...   \n",
       "19          Robert/W./Zmud  Managing Peer-to-Peer Conflicts in Disruptive ...   \n",
       "20       Detmar W.//Straub                            Editor's Comments:  Use   \n",
       "21    Gerardine//DeSanctis  Methodological Issues in Experimental IS Resea...   \n",
       "22            Henri//Barki  User Participation in Information Systems Secu...   \n",
       "23            Hugh//Watson  A Contingency Model for User Involvement in DS...   \n",
       "24         Albert//Lederer  A Meta-Analysis of the Role of Environment-Bas...   \n",
       "25           Daniel//Robey               Rituals in Information System Design   \n",
       "26          Detmar//Straub  Information Technology Adoption Across Time: A...   \n",
       "27          Kenneth//Kozar  Management's Role in Information System Develo...   \n",
       "28         Michael//Vitale  Assessing the Health of an Information System ...   \n",
       "29         Richard//Watson  Measuring Information Systems Service Quality:...   \n",
       "...                    ...                                                ...   \n",
       "1655         Yinglei//Wang  Social Influence and Knowledge Management Syst...   \n",
       "1656            Yiwei//Jin  User Heterogeneity and its Impact on Electroni...   \n",
       "1657        Yolande/E/Chan  A Multilevel Model for Measuring Fit Between a...   \n",
       "1658          Yong-Mi//Kim  Professional Versus Political Contexts:  Insti...   \n",
       "1659        Yong/(Eric)/Lu  Friendships in Online Peer-to-Peer Lending:  P...   \n",
       "1660              Yong//Lu  Harnessing the Power of Self-Organization in a...   \n",
       "1661          Yong/Jin/Kim  Knowledge Acquisition via Three Learning Proce...   \n",
       "1662     Young Bong//Chang  Information Technology Outsourcing, Knowledge ...   \n",
       "1663        Young-Gul//Kim  Behavioral Intention Formation in Knowledge Sh...   \n",
       "1664         Young/Eun/Lee  The Effects of Virtual Reality on Consumer Lea...   \n",
       "1665         Younghwa//Lee  Can Online Wait Be Managed?  The Effect of Fil...   \n",
       "1666        Youngohc//Yoon  Exploring the Factors Associated with Expert S...   \n",
       "1667        Youngsok//Bang  Managing Consumer Privacy Concerns in Personal...   \n",
       "1668         Yu-Ming//Wang  Understanding Network Effects in Software Mark...   \n",
       "1669         Yu/Jeffrey/Hu  Competing for Attention:  An Empirical Study o...   \n",
       "1670           Yufei//Yuan  A Multilevel Model for Measuring Fit Between a...   \n",
       "1671           Yulin//Fang  Trust, Satisfaction, and Online Repurchase Int...   \n",
       "1672           Yuqing//Ren  Building Member Attachment in Online Communiti...   \n",
       "1673   Zachary/R./Steelman  Data Collection in the Digital Age:  Innovativ...   \n",
       "1674  Zbigniew//Przasnyski  On Information Systems Project Abandonment: An...   \n",
       "1675        Zeeva//Millman  The Impact of Automated Office Systems on Midd...   \n",
       "1676             Zhan//Shi  Content Sharing in a Social Broadcasting Envir...   \n",
       "1677        Zhenhui//Jiang  THE EFFECTS OF PRESENTATION FORMATS AND TASK C...   \n",
       "1678           Zhimin//Hua  Network-Based Modeling and Analysis of Systemi...   \n",
       "1679       Zhiqiang//Zheng  An Empirical Analysis of the Value of Complete...   \n",
       "1680            Zhu//Zhang  Detecting Fake Websites:  The Contribution of ...   \n",
       "1681             and//Mild  Options Analysis of Software Platform Decision...   \n",
       "1682      param vir//singh  A Hidden Markov Model for Collaborative Filtering   \n",
       "1683      richard//bagozzi  Measurement and Meaning in Information Systems...   \n",
       "1684         sarv//devaraj  Does Information Technology Investment Influen...   \n",
       "\n",
       "      count(title)  \n",
       "0               64  \n",
       "1               30  \n",
       "2               18  \n",
       "3               18  \n",
       "4               16  \n",
       "5               15  \n",
       "6               14  \n",
       "7               13  \n",
       "8               12  \n",
       "9               12  \n",
       "10              12  \n",
       "11              10  \n",
       "12              10  \n",
       "13              10  \n",
       "14              10  \n",
       "15              10  \n",
       "16               9  \n",
       "17               9  \n",
       "18               9  \n",
       "19               9  \n",
       "20               8  \n",
       "21               8  \n",
       "22               8  \n",
       "23               8  \n",
       "24               7  \n",
       "25               7  \n",
       "26               7  \n",
       "27               7  \n",
       "28               7  \n",
       "29               7  \n",
       "...            ...  \n",
       "1655             1  \n",
       "1656             1  \n",
       "1657             1  \n",
       "1658             1  \n",
       "1659             1  \n",
       "1660             1  \n",
       "1661             1  \n",
       "1662             1  \n",
       "1663             1  \n",
       "1664             1  \n",
       "1665             1  \n",
       "1666             1  \n",
       "1667             1  \n",
       "1668             1  \n",
       "1669             1  \n",
       "1670             1  \n",
       "1671             1  \n",
       "1672             1  \n",
       "1673             1  \n",
       "1674             1  \n",
       "1675             1  \n",
       "1676             1  \n",
       "1677             1  \n",
       "1678             1  \n",
       "1679             1  \n",
       "1680             1  \n",
       "1681             1  \n",
       "1682             1  \n",
       "1683             1  \n",
       "1684             1  \n",
       "\n",
       "[1685 rows x 3 columns]"
      ]
     },
     "execution_count": 13,
     "metadata": {},
     "output_type": "execute_result"
    }
   ],
   "source": [
    "X"
   ]
  },
  {
   "cell_type": "code",
   "execution_count": 12,
   "metadata": {
    "collapsed": false
   },
   "outputs": [
    {
     "data": {
      "text/plain": [
       "'Cost/Benefit Analysis of Computer Based Message Systems'"
      ]
     },
     "execution_count": 12,
     "metadata": {},
     "output_type": "execute_result"
    }
   ],
   "source": [
    "X.ix[1].title\n"
   ]
  },
  {
   "cell_type": "code",
   "execution_count": null,
   "metadata": {
    "collapsed": true
   },
   "outputs": [],
   "source": []
  }
 ],
 "metadata": {
  "anaconda-cloud": {},
  "kernelspec": {
   "display_name": "Python [Root]",
   "language": "python",
   "name": "Python [Root]"
  },
  "language_info": {
   "codemirror_mode": {
    "name": "ipython",
    "version": 3
   },
   "file_extension": ".py",
   "mimetype": "text/x-python",
   "name": "python",
   "nbconvert_exporter": "python",
   "pygments_lexer": "ipython3",
   "version": "3.5.2"
  }
 },
 "nbformat": 4,
 "nbformat_minor": 0
}
