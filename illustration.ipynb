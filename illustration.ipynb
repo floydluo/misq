{
 "cells": [
  {
   "cell_type": "markdown",
   "metadata": {},
   "source": [
    "# the usage of the parse.py"
   ]
  },
  {
   "cell_type": "code",
   "execution_count": 1,
   "metadata": {
    "collapsed": false
   },
   "outputs": [
    {
     "data": {
      "text/plain": [
       "'\\nthree dictionaries parsed from metadata.xml: \\nd1, d2, d3\\n\\n'"
      ]
     },
     "execution_count": 1,
     "metadata": {},
     "output_type": "execute_result"
    }
   ],
   "source": [
    "#global variables here:\n",
    "\"\"\"\n",
    "three dictionaries parsed from metadata.xml: \n",
    "d1, d2, d3\n",
    "\n",
    "\"\"\""
   ]
  },
  {
   "cell_type": "code",
   "execution_count": 2,
   "metadata": {
    "collapsed": false
   },
   "outputs": [],
   "source": [
    "from parse import parseXML_diclist as p"
   ]
  },
  {
   "cell_type": "code",
   "execution_count": 9,
   "metadata": {
    "collapsed": true
   },
   "outputs": [],
   "source": [
    "#for mac\n",
    "path1=\"/Users/floyd/Projects/misq/misq/vol19/iss2/3/metadata.xml\"\n",
    "\n",
    "#for linux\n",
    "#path1=\"/media/floyd/Code/misq_task/misq/vol6/iss2/2/metadata.xml\""
   ]
  },
  {
   "cell_type": "code",
   "execution_count": 10,
   "metadata": {
    "collapsed": false
   },
   "outputs": [],
   "source": [
    "d1=p(path1)"
   ]
  },
  {
   "cell_type": "code",
   "execution_count": 11,
   "metadata": {
    "collapsed": false
   },
   "outputs": [
    {
     "data": {
      "text/plain": [
       "{'Author': [{'email': '',\n",
       "   'fname': 'Leyland',\n",
       "   'full_name': 'Leyland//Pitt',\n",
       "   'institution': '',\n",
       "   'lname': 'Pitt',\n",
       "   'mname': ''},\n",
       "  {'email': '',\n",
       "   'fname': 'Richard',\n",
       "   'full_name': 'Richard//Watson',\n",
       "   'institution': '',\n",
       "   'lname': 'Watson',\n",
       "   'mname': ''},\n",
       "  {'email': '',\n",
       "   'fname': 'C.',\n",
       "   'full_name': 'C.//Kavan',\n",
       "   'institution': '',\n",
       "   'lname': 'Kavan',\n",
       "   'mname': ''}],\n",
       " 'Document': [{'abstract': '',\n",
       "   'articleid': '2253',\n",
       "   'context_key': '584563',\n",
       "   'coverpage_url': 'http://aisel.aisnet.org/misq/vol19/iss2/3',\n",
       "   'document_type': 'article',\n",
       "   'fpage': '',\n",
       "   'fulltext_url': 'http://aisel.aisnet.org/cgi/viewcontent.cgi?article=2253&amp;context=misq&amp;unstamped=1',\n",
       "   'label': '3',\n",
       "   'lpage': '',\n",
       "   'pages': '',\n",
       "   'publication_date': '1995-12-31T00:00:00-08:00',\n",
       "   'publication_title': 'Management Information Systems Quarterly',\n",
       "   'submission_date': '2008-08-18T13:21:21-07:00',\n",
       "   'submission_path': 'misq/vol19/iss2/3',\n",
       "   'title': 'Service Quality: A Measure of Information Systems Effectiveness',\n",
       "   'type': 'article'}],\n",
       " 'Field': [{'name': 'peer_reviewed', 'type': 'boolean', 'value': 'true'},\n",
       "  {'name': 'publication_date',\n",
       "   'type': 'date',\n",
       "   'value': '1995-12-31T00:00:00-08:00'}],\n",
       " 'Journal': [{'domain': 'misq', 'iss': 'iss2', 'label': '3', 'vol': 'vol19'}],\n",
       " 'Keyword': []}"
      ]
     },
     "execution_count": 11,
     "metadata": {},
     "output_type": "execute_result"
    }
   ],
   "source": [
    "d1"
   ]
  },
  {
   "cell_type": "code",
   "execution_count": 6,
   "metadata": {
    "collapsed": true
   },
   "outputs": [],
   "source": [
    "#for mac\n",
    "#path2=\"/Users/floyd/misq/misq/vol38/iss2/3/metadata.xml\"\n",
    "\n",
    "#for linux\n",
    "path2=\"/media/floyd/Code/misq_task/misq/vol38/iss2/3/metadata.xml\""
   ]
  },
  {
   "cell_type": "code",
   "execution_count": 7,
   "metadata": {
    "collapsed": false
   },
   "outputs": [
    {
     "data": {
      "text/plain": [
       "{'Author': [{'email': 'fichman@bc.edu',\n",
       "   'fname': 'Robert',\n",
       "   'full_name': 'Robert/G/Fichman',\n",
       "   'institution': 'Boston College',\n",
       "   'lname': 'Fichman',\n",
       "   'mname': 'G'},\n",
       "  {'email': 'brian@louisville.edu',\n",
       "   'fname': 'Brian',\n",
       "   'full_name': 'Brian/L./Dos Santos',\n",
       "   'institution': 'University of Louisville',\n",
       "   'lname': 'Dos Santos',\n",
       "   'mname': 'L.'},\n",
       "  {'email': 'ericz@utdallas.edu',\n",
       "   'fname': 'Zhiqiang (Eric)',\n",
       "   'full_name': 'Zhiqiang (Eric)//Zheng',\n",
       "   'institution': 'University of Texas at Dallas',\n",
       "   'lname': 'Zheng',\n",
       "   'mname': ''}],\n",
       " 'Document': [{'abstract': '<p><em>The 50-year march of Mooreâ\\x80\\x99s Law has led to the creation of a relatively </em>cheap and increasingly easy-to-use world-wide digital infrastructure of computers, mobile devices, broadband network connections, and advanced application platforms.  This digital infrastructure has, in turn, accelerated the emergence of new technologies that enable transformations in how we live and work, how companies organize, and the structure of entire industries.</p>\\n<p>As a result, it has become important for all business students to have a strong grounding in IT and digital innovation in order to manage, lead, and transform organizations that are increasingly dependent on digital innovation.  Yet, at many schools, students do not get such grounding because the required information systems core class is stuck in the past.  We present a vision for a redesigned IS core class that adopts digital innovation as a fundamental and powerful concept (FPC).  A good FPC serves as both a foundational concept and an organizing principle for a course.</p>\\n<p>We espouse a particularly broad conceptualization of digital innovation that allows for a variety of teaching styles and topical emphases for the IS core class.  This conceptualization includes three <strong>types</strong> of innovation (i.e., process, product, and business model innovation), and four <strong>stages</strong> for the overall innovation process (i.e., discovery, development, diffusion, and impact).  Based on this conceptualization, we examine the implications of adopting digital innovation as an FPC.  We also briefly discuss broader implications relating to (1)ã\\x80\\x80the IS curriculum beyond the core class, (2)ã\\x80\\x80the research agenda for the IS field, and (3)ã\\x80\\x80the identity and legitimacy of IS in business schools.</p>',\n",
       "   'articleid': '3171',\n",
       "   'context_key': '5626728',\n",
       "   'coverpage_url': 'http://aisel.aisnet.org/misq/vol38/iss2/3',\n",
       "   'document_type': 'article',\n",
       "   'fpage': '329',\n",
       "   'fulltext_url': 'http://aisel.aisnet.org/cgi/viewcontent.cgi?article=3171&amp;context=misq&amp;unstamped=1',\n",
       "   'label': '3',\n",
       "   'lpage': '353',\n",
       "   'pages': '25',\n",
       "   'publication_date': '2014-06-01T00:00:00-07:00',\n",
       "   'publication_title': 'Management Information Systems Quarterly',\n",
       "   'submission_date': '2014-05-28T07:48:46-07:00',\n",
       "   'submission_path': 'misq/vol38/iss2/3',\n",
       "   'title': 'Digital Innovation as a Fundamental and Powerful Concept in the Information Systems Curriculum',\n",
       "   'type': 'article'}],\n",
       " 'Field': [{'name': 'embargo_date',\n",
       "   'type': 'date',\n",
       "   'value': '2014-05-28T00:00:00-07:00'},\n",
       "  {'name': 'peer_reviewed', 'type': 'boolean', 'value': 'true'},\n",
       "  {'name': 'publication_date',\n",
       "   'type': 'date',\n",
       "   'value': '2014-06-01T00:00:00-07:00'},\n",
       "  {'name': 'short_title',\n",
       "   'type': 'string',\n",
       "   'value': 'Digital Innovation in the Information Systems Curriculum'}],\n",
       " 'Journal': [{'domain': 'misq', 'iss': 'iss2', 'label': '3', 'vol': 'vol38'}],\n",
       " 'Keyword': [{'keyword': 'Fundamental and powerful concepts (FPC)'},\n",
       "  {'keyword': 'digital innovation'},\n",
       "  {'keyword': 'IS core course'},\n",
       "  {'keyword': 'pedagogy'}]}"
      ]
     },
     "execution_count": 7,
     "metadata": {},
     "output_type": "execute_result"
    }
   ],
   "source": [
    "\n",
    "d2=p(path2)\n",
    "d2"
   ]
  },
  {
   "cell_type": "code",
   "execution_count": 8,
   "metadata": {
    "collapsed": false
   },
   "outputs": [
    {
     "data": {
      "text/plain": [
       "{'Author': [{'email': 't.k.dijkstra@rug.nl',\n",
       "   'fname': 'Theo',\n",
       "   'full_name': 'Theo/K./Dijkstra',\n",
       "   'institution': 'University of Groningen',\n",
       "   'lname': 'Dijkstra',\n",
       "   'mname': 'K.'},\n",
       "  {'email': 'j.henseler@utwente.nl',\n",
       "   'fname': 'JÃ¶rg',\n",
       "   'full_name': 'JÃ¶rg//Henseler',\n",
       "   'institution': 'University of Twente',\n",
       "   'lname': 'Henseler',\n",
       "   'mname': ''}],\n",
       " 'Document': [{'abstract': '<p>This paper resumes the discussion in information systems research on the use of partial least squares (PLS) path modeling and shows that the inconsistency of PLS path coefficient estimates in the case of reflective measurement can have adverse consequences for hypothesis testing. To remedy this, the study introduces a vital extension of PLS: consistent PLS (PLSc). PLSc provides a correction for estimates when PLS is applied to reflective constructs: The path coefficients, inter-construct correlations, and indicator loadings become consistent. The outcome of a Monte Carlo simulation reveals that the bias of PLSc parameter estimates is comparable to that of covariance-based structural equation modeling. Moreover, the outcome shows that PLSc has advantages when using non-normally distributed data. We discuss the implications for IS research and provide guidelines for choosing among structural equation modeling techniques.</p>',\n",
       "   'articleid': '3234',\n",
       "   'context_key': '7049753',\n",
       "   'coverpage_url': 'http://aisel.aisnet.org/misq/vol39/iss2/4',\n",
       "   'document_type': 'article',\n",
       "   'fpage': '297',\n",
       "   'fulltext_url': 'http://aisel.aisnet.org/cgi/viewcontent.cgi?article=3234&amp;context=misq&amp;unstamped=1',\n",
       "   'label': '4',\n",
       "   'lpage': '316',\n",
       "   'pages': '20',\n",
       "   'publication_date': '2015-06-01T00:00:00-07:00',\n",
       "   'publication_title': 'Management Information Systems Quarterly',\n",
       "   'submission_date': '2015-04-30T07:36:08-07:00',\n",
       "   'submission_path': 'misq/vol39/iss2/4',\n",
       "   'title': 'Consistent Partial Least Squares Path Modeling',\n",
       "   'type': 'article'}],\n",
       " 'Field': [{'name': 'embargo_date',\n",
       "   'type': 'date',\n",
       "   'value': '2015-04-30T00:00:00-07:00'},\n",
       "  {'name': 'peer_reviewed', 'type': 'boolean', 'value': 'true'},\n",
       "  {'name': 'publication_date',\n",
       "   'type': 'date',\n",
       "   'value': '2015-06-01T00:00:00-07:00'},\n",
       "  {'name': 'short_title',\n",
       "   'type': 'string',\n",
       "   'value': 'Consistent Partial Least Squares Path Modeling'}],\n",
       " 'Journal': [{'domain': 'misq', 'iss': 'iss2', 'label': '4', 'vol': 'vol39'}],\n",
       " 'Keyword': [{'keyword': 'PLS'},\n",
       "  {'keyword': 'consistent partial least squares'},\n",
       "  {'keyword': 'SEM'},\n",
       "  {'keyword': 'variance-based structural equation modeling'},\n",
       "  {'keyword': 'Monte Carlo simulation'}]}"
      ]
     },
     "execution_count": 8,
     "metadata": {},
     "output_type": "execute_result"
    }
   ],
   "source": [
    "#path3=\"/Users/floyd/misq/misq/vol39/iss2/4/metadata.xml\"\n",
    "path3=\"/media/floyd/Code/misq_task/misq/vol39/iss2/4/metadata.xml\"\n",
    "d3=p(path3)\n",
    "d3"
   ]
  },
  {
   "cell_type": "markdown",
   "metadata": {
    "collapsed": true
   },
   "source": [
    " here we get three dictionaries"
   ]
  },
  {
   "cell_type": "markdown",
   "metadata": {},
   "source": [
    "# for pipeline.py"
   ]
  },
  {
   "cell_type": "code",
   "execution_count": 9,
   "metadata": {
    "collapsed": true
   },
   "outputs": [],
   "source": [
    "from models import db_connect, create_table, Document, Author, Keyword, Field, Journal"
   ]
  },
  {
   "cell_type": "code",
   "execution_count": 10,
   "metadata": {
    "collapsed": true
   },
   "outputs": [],
   "source": [
    "import os"
   ]
  },
  {
   "cell_type": "code",
   "execution_count": 11,
   "metadata": {
    "collapsed": true
   },
   "outputs": [],
   "source": [
    "from sqlalchemy.orm import sessionmaker"
   ]
  },
  {
   "cell_type": "code",
   "execution_count": 12,
   "metadata": {
    "collapsed": false
   },
   "outputs": [],
   "source": [
    "engine=db_connect(os.getcwd())"
   ]
  },
  {
   "cell_type": "code",
   "execution_count": 13,
   "metadata": {
    "collapsed": true
   },
   "outputs": [],
   "source": [
    "create_table(engine)"
   ]
  },
  {
   "cell_type": "code",
   "execution_count": 14,
   "metadata": {
    "collapsed": true
   },
   "outputs": [],
   "source": [
    "Session = sessionmaker(bind= engine)\n",
    "session=Session()"
   ]
  },
  {
   "cell_type": "code",
   "execution_count": 15,
   "metadata": {
    "collapsed": true
   },
   "outputs": [],
   "source": [
    "#first get d from parse function --- parseXML_diclist\n",
    "\n",
    "#and we got 3 diction: d1 d2 d3"
   ]
  },
  {
   "cell_type": "code",
   "execution_count": 16,
   "metadata": {
    "collapsed": false
   },
   "outputs": [
    {
     "data": {
      "text/plain": [
       "{'Author': [{'email': '',\n",
       "   'fname': 'Robert',\n",
       "   'full_name': 'Robert//Benjamin',\n",
       "   'institution': '',\n",
       "   'lname': 'Benjamin',\n",
       "   'mname': ''}],\n",
       " 'Document': [{'abstract': '',\n",
       "   'articleid': '1894',\n",
       "   'context_key': '583489',\n",
       "   'coverpage_url': 'http://aisel.aisnet.org/misq/vol6/iss2/2',\n",
       "   'document_type': 'article',\n",
       "   'fpage': '',\n",
       "   'fulltext_url': 'http://aisel.aisnet.org/cgi/viewcontent.cgi?article=1894&amp;context=misq&amp;unstamped=1',\n",
       "   'label': '2',\n",
       "   'lpage': '',\n",
       "   'pages': '',\n",
       "   'publication_date': '1982-12-31T00:00:00-08:00',\n",
       "   'publication_title': 'Management Information Systems Quarterly',\n",
       "   'submission_date': '2008-08-18T09:10:15-07:00',\n",
       "   'submission_path': 'misq/vol6/iss2/2',\n",
       "   'title': \"Information Technology in the 1990's: A Long Range Planning Scenario\",\n",
       "   'type': 'article'}],\n",
       " 'Field': [{'name': 'peer_reviewed', 'type': 'boolean', 'value': 'true'},\n",
       "  {'name': 'publication_date',\n",
       "   'type': 'date',\n",
       "   'value': '1982-12-31T00:00:00-08:00'}],\n",
       " 'Journal': [{'domain': 'misq', 'iss': 'iss2', 'label': '2', 'vol': 'vol6'}],\n",
       " 'Keyword': []}"
      ]
     },
     "execution_count": 16,
     "metadata": {},
     "output_type": "execute_result"
    }
   ],
   "source": [
    "d1"
   ]
  },
  {
   "cell_type": "code",
   "execution_count": 17,
   "metadata": {
    "collapsed": true
   },
   "outputs": [],
   "source": [
    "doc=d1[\"Document\"][0]"
   ]
  },
  {
   "cell_type": "code",
   "execution_count": 18,
   "metadata": {
    "collapsed": true
   },
   "outputs": [],
   "source": [
    "doc_t=Document(**doc)"
   ]
  },
  {
   "cell_type": "code",
   "execution_count": 19,
   "metadata": {
    "collapsed": false
   },
   "outputs": [
    {
     "data": {
      "text/plain": [
       "<Document(title=\"Information Technology in the 1990's: A Long Range Planning Scenario\")>"
      ]
     },
     "execution_count": 19,
     "metadata": {},
     "output_type": "execute_result"
    }
   ],
   "source": [
    "doc_t"
   ]
  },
  {
   "cell_type": "code",
   "execution_count": 20,
   "metadata": {
    "collapsed": false
   },
   "outputs": [
    {
     "data": {
      "text/plain": [
       "''"
      ]
     },
     "execution_count": 20,
     "metadata": {},
     "output_type": "execute_result"
    }
   ],
   "source": [
    "doc_t.abstract\n",
    "#when there are no contexts for any attribute, I used '' instead of None"
   ]
  },
  {
   "cell_type": "code",
   "execution_count": 21,
   "metadata": {
    "collapsed": false
   },
   "outputs": [],
   "source": [
    "session.add(doc_t)"
   ]
  },
  {
   "cell_type": "code",
   "execution_count": 22,
   "metadata": {
    "collapsed": false
   },
   "outputs": [
    {
     "data": {
      "text/plain": [
       "<sqlalchemy.orm.query.Query at 0x7f2af7a21a58>"
      ]
     },
     "execution_count": 22,
     "metadata": {},
     "output_type": "execute_result"
    }
   ],
   "source": [
    "session.query(Document)\n",
    "#do not write: session.query(\"Document\")"
   ]
  },
  {
   "cell_type": "code",
   "execution_count": 23,
   "metadata": {
    "collapsed": false
   },
   "outputs": [
    {
     "name": "stdout",
     "output_type": "stream",
     "text": [
      "(\"Information Technology in the 1990's: A Long Range Planning Scenario\",)\n"
     ]
    }
   ],
   "source": [
    "for i in session.query(Document.title):\n",
    "    print(i)\n",
    "    \n",
    "#return a tuple here"
   ]
  },
  {
   "cell_type": "code",
   "execution_count": 24,
   "metadata": {
    "collapsed": false
   },
   "outputs": [
    {
     "name": "stdout",
     "output_type": "stream",
     "text": [
      "Information Technology in the 1990's: A Long Range Planning Scenario \n"
     ]
    }
   ],
   "source": [
    "for i in session.query(Document):\n",
    "    print(i.title, i.abstract)"
   ]
  },
  {
   "cell_type": "markdown",
   "metadata": {},
   "source": [
    "#Codes for other tables                   - -details in Append a"
   ]
  },
  {
   "cell_type": "code",
   "execution_count": 25,
   "metadata": {
    "collapsed": true
   },
   "outputs": [],
   "source": [
    "for auth in d1[\"Author\"]:\n",
    "    auth_t=session.query(Author).filter_by(full_name=auth[\"full_name\"]).first()\n",
    "    #this will return None or an older auther who had appeared before.\n",
    "    \n",
    "    #if None, instantiate it.\n",
    "    if auth_t==None:\n",
    "        auth_t=Author(**auth)\n",
    "   \n",
    "    #if not none, update it.\n",
    "    else:\n",
    "        for k, v in auth.items():\n",
    "            auth_t.__setattr__(k,v)\n",
    "    \n",
    "    auth_t.documents.append(doc_t)\n",
    "    session.add(auth_t)"
   ]
  },
  {
   "cell_type": "code",
   "execution_count": 26,
   "metadata": {
    "collapsed": false
   },
   "outputs": [],
   "source": [
    "for key in d1[\"Keyword\"]:\n",
    "    key_t=session.query(Keyword).filter_by(keyword=key[\"keyword\"]).first()\n",
    "    if key_t== None:\n",
    "        key_t = Keyword(**key)\n",
    "    else:\n",
    "        for k,v in key.items():\n",
    "            key_t.__setattr__(k,v)\n",
    "    key_t.documents.append(doc_t)\n",
    "    session.add(key_t)"
   ]
  },
  {
   "cell_type": "code",
   "execution_count": 27,
   "metadata": {
    "collapsed": false
   },
   "outputs": [],
   "source": [
    "for fld in d1[\"Field\"]:\n",
    "    fld_t=session.query(Field).filter_by(name=fld[\"name\"],value=fld[\"value\"],type=fld[\"type\"]).first()\n",
    "    if fld_t== None:\n",
    "        fld_t = Field(**fld)\n",
    "    else:\n",
    "        for k,v in fld.items():\n",
    "            fld_t.__setattr__(k,v)\n",
    "    fld_t.documents.append(doc_t)\n",
    "    session.add(fld_t)"
   ]
  },
  {
   "cell_type": "code",
   "execution_count": 28,
   "metadata": {
    "collapsed": false
   },
   "outputs": [
    {
     "name": "stdout",
     "output_type": "stream",
     "text": [
      "[<Author(full_name='Robert//Benjamin')>]\n",
      "[]\n",
      "[<Field(name='peer_reviewed', type='boolean', value='true')>, <Field(name='publication_date', type='date', value='1982-12-31T00:00:00-08:00')>]\n"
     ]
    }
   ],
   "source": [
    "print(doc_t.authors)\n",
    "print(doc_t.keywords)\n",
    "print(doc_t.fields)"
   ]
  },
  {
   "cell_type": "code",
   "execution_count": 29,
   "metadata": {
    "collapsed": true
   },
   "outputs": [],
   "source": [
    "#the code for pipeline function"
   ]
  },
  {
   "cell_type": "code",
   "execution_count": 32,
   "metadata": {
    "collapsed": false
   },
   "outputs": [],
   "source": [
    "def pipeline(abspath, session):\n",
    "    d=p(abspath)#p() is parseXML_diclist() import from parse.py\n",
    "    doc=d[\"Document\"][0]\n",
    "    doc_t=Document(**doc)\n",
    "    session.add(doc_t)\n",
    "    \n",
    "    \n",
    "    for auth in d[\"Author\"]:\n",
    "        auth_t=session.query(Author).filter_by(full_name=auth[\"full_name\"]).first()\n",
    "    if auth_t==None:\n",
    "        auth_t=Author(**auth)\n",
    "    else:\n",
    "        for k, v in auth.items():\n",
    "            auth_t.__setattr__(k,v)\n",
    "    auth_t.documents.append(doc_t)\n",
    "    session.add(auth_t)\n",
    "    \n",
    "    \n",
    "    for key in d[\"Keyword\"]:\n",
    "        key_t=session.query(Keyword).filter_by(keyword=key[\"keyword\"]).first()\n",
    "    if key_t== None:\n",
    "        key_t = Keyword(**key)\n",
    "    else:\n",
    "        for k,v in key.items():\n",
    "            key_t.__setattr__(k,v)\n",
    "    key_t.documents.append(doc_t)\n",
    "    session.add(key_t)\n",
    "    \n",
    "    \n",
    "    for fld in d[\"Field\"]:\n",
    "        fld_t=session.query(Field).filter_by(name=fld[\"name\"],value=fld[\"value\"],type=fld[\"type\"]).first()\n",
    "    if fld_t== None:\n",
    "        fld_t = Field(**fld)\n",
    "    else:\n",
    "        for k,v in fld.items():\n",
    "            fld_t.__setattr__(k,v)\n",
    "    fld_t.documents.append(doc_t)\n",
    "    session.add(fld_t)\n",
    "    "
   ]
  },
  {
   "cell_type": "code",
   "execution_count": null,
   "metadata": {
    "collapsed": true
   },
   "outputs": [],
   "source": []
  },
  {
   "cell_type": "code",
   "execution_count": null,
   "metadata": {
    "collapsed": true
   },
   "outputs": [],
   "source": []
  },
  {
   "cell_type": "code",
   "execution_count": null,
   "metadata": {
    "collapsed": true
   },
   "outputs": [],
   "source": []
  },
  {
   "cell_type": "markdown",
   "metadata": {},
   "source": [
    "# Appendix A"
   ]
  },
  {
   "cell_type": "code",
   "execution_count": 33,
   "metadata": {
    "collapsed": false
   },
   "outputs": [
    {
     "data": {
      "text/plain": [
       "\"[{'email': '171113560@qq.com',\\n   'fname': 'Robert',\\n   'full_name': 'Robert//Benjamin',\\n   'institution': 'cuhksz',\\n   'lname': 'Benjamin',\\n   'mname': ''}]\""
      ]
     },
     "execution_count": 33,
     "metadata": {},
     "output_type": "execute_result"
    }
   ],
   "source": [
    "#in this case the auth info is:\n",
    "'''[{'email': '',\n",
    "   'fname': 'Robert',\n",
    "   'full_name': 'Robert//Benjamin',\n",
    "   'institution': '',\n",
    "   'lname': 'Benjamin',\n",
    "   'mname': ''}]'''\n",
    "\n",
    "\n",
    "#if in another document, this author reappears, and have the updated infomation, like this:\n",
    "\"\"\"[{'email': '171113560@qq.com',\n",
    "   'fname': 'Robert',\n",
    "   'full_name': 'Robert//Benjamin',\n",
    "   'institution': 'cuhksz',\n",
    "   'lname': 'Benjamin',\n",
    "   'mname': ''}]\"\"\"\n",
    "#to see what will happen"
   ]
  },
  {
   "cell_type": "code",
   "execution_count": 34,
   "metadata": {
    "collapsed": true
   },
   "outputs": [],
   "source": [
    "auth_updated={'email': '171113560@qq.com',\n",
    "   'fname': 'Robert',\n",
    "   'full_name': 'Robert//Benjamin',\n",
    "   'institution': 'cuhksz',\n",
    "   'lname': 'Benjamin',\n",
    "   'mname': ''}\n",
    "#and additionally, this author wrote the second docuement in d2."
   ]
  },
  {
   "cell_type": "code",
   "execution_count": 35,
   "metadata": {
    "collapsed": false
   },
   "outputs": [
    {
     "data": {
      "text/plain": [
       "<Document(title='Digital Innovation as a Fundamental and Powerful Concept in the Information Systems Curriculum')>"
      ]
     },
     "execution_count": 35,
     "metadata": {},
     "output_type": "execute_result"
    }
   ],
   "source": [
    "doc2=d2[\"Document\"][0]\n",
    "doc_t2=Document(**doc2)\n",
    "doc_t2"
   ]
  },
  {
   "cell_type": "code",
   "execution_count": 36,
   "metadata": {
    "collapsed": false
   },
   "outputs": [
    {
     "name": "stdout",
     "output_type": "stream",
     "text": [
      "\n"
     ]
    },
    {
     "data": {
      "text/plain": [
       "[<Document(title=\"Information Technology in the 1990's: A Long Range Planning Scenario\")>]"
      ]
     },
     "execution_count": 36,
     "metadata": {},
     "output_type": "execute_result"
    }
   ],
   "source": [
    "auth=session.query(Author).filter_by(full_name=auth_updated['full_name']).first()\n",
    "print(auth.email)\n",
    "auth.documents"
   ]
  },
  {
   "cell_type": "code",
   "execution_count": 37,
   "metadata": {
    "collapsed": true
   },
   "outputs": [],
   "source": [
    "auth.__setattr__(\"email\", \"171113560@qq.com\")"
   ]
  },
  {
   "cell_type": "code",
   "execution_count": 38,
   "metadata": {
    "collapsed": false
   },
   "outputs": [
    {
     "name": "stdout",
     "output_type": "stream",
     "text": [
      "171113560@qq.com\n"
     ]
    }
   ],
   "source": [
    "print(auth.email)"
   ]
  },
  {
   "cell_type": "code",
   "execution_count": 39,
   "metadata": {
    "collapsed": false
   },
   "outputs": [],
   "source": [
    "for key, value in auth_updated.items():\n",
    "    auth.__setattr__(key, value)\n",
    "    "
   ]
  },
  {
   "cell_type": "code",
   "execution_count": 40,
   "metadata": {
    "collapsed": false
   },
   "outputs": [
    {
     "data": {
      "text/plain": [
       "[<Document(title=\"Information Technology in the 1990's: A Long Range Planning Scenario\")>]"
      ]
     },
     "execution_count": 40,
     "metadata": {},
     "output_type": "execute_result"
    }
   ],
   "source": [
    "auth.documents"
   ]
  },
  {
   "cell_type": "code",
   "execution_count": 41,
   "metadata": {
    "collapsed": true
   },
   "outputs": [],
   "source": [
    "auth.documents.append(doc_t2)"
   ]
  },
  {
   "cell_type": "code",
   "execution_count": 42,
   "metadata": {
    "collapsed": false
   },
   "outputs": [
    {
     "data": {
      "text/plain": [
       "[<Document(title=\"Information Technology in the 1990's: A Long Range Planning Scenario\")>,\n",
       " <Document(title='Digital Innovation as a Fundamental and Powerful Concept in the Information Systems Curriculum')>]"
      ]
     },
     "execution_count": 42,
     "metadata": {},
     "output_type": "execute_result"
    }
   ],
   "source": [
    "auth.documents"
   ]
  },
  {
   "cell_type": "code",
   "execution_count": 43,
   "metadata": {
    "collapsed": false
   },
   "outputs": [
    {
     "name": "stdout",
     "output_type": "stream",
     "text": [
      "[<Author(full_name='Robert//Benjamin')>]\n",
      "[]\n",
      "[<Field(name='peer_reviewed', type='boolean', value='true')>, <Field(name='publication_date', type='date', value='1982-12-31T00:00:00-08:00')>]\n",
      "[<Author(full_name='Robert//Benjamin')>]\n",
      "[]\n",
      "[]\n"
     ]
    }
   ],
   "source": [
    "for i in session.query(Document):\n",
    "    print(i.authors)\n",
    "    print(i.keywords)\n",
    "    print(i.fields)"
   ]
  },
  {
   "cell_type": "code",
   "execution_count": 44,
   "metadata": {
    "collapsed": false
   },
   "outputs": [],
   "source": [
    "#the overall codes of pipeline function"
   ]
  },
  {
   "cell_type": "code",
   "execution_count": 45,
   "metadata": {
    "collapsed": true
   },
   "outputs": [],
   "source": [
    "session.add(auth)"
   ]
  },
  {
   "cell_type": "code",
   "execution_count": 46,
   "metadata": {
    "collapsed": false
   },
   "outputs": [],
   "source": [
    "auth_num=session.query(Author).filter_by(full_name=auth_updated[\"full_name\"]).count()"
   ]
  },
  {
   "cell_type": "code",
   "execution_count": 47,
   "metadata": {
    "collapsed": false
   },
   "outputs": [
    {
     "data": {
      "text/plain": [
       "1"
      ]
     },
     "execution_count": 47,
     "metadata": {},
     "output_type": "execute_result"
    }
   ],
   "source": [
    "auth_num"
   ]
  },
  {
   "cell_type": "code",
   "execution_count": 48,
   "metadata": {
    "collapsed": true
   },
   "outputs": [],
   "source": [
    "auth=session.query(Author).filter_by(full_name=auth_updated[\"full_name\"]).first()"
   ]
  },
  {
   "cell_type": "code",
   "execution_count": 49,
   "metadata": {
    "collapsed": false
   },
   "outputs": [
    {
     "name": "stdout",
     "output_type": "stream",
     "text": [
      "[<Document(title=\"Information Technology in the 1990's: A Long Range Planning Scenario\")>, <Document(title='Digital Innovation as a Fundamental and Powerful Concept in the Information Systems Curriculum')>]\n",
      "Robert//Benjamin cuhksz 171113560@qq.com\n"
     ]
    }
   ],
   "source": [
    "print(auth.documents)\n",
    "print(auth.full_name, auth.institution, auth.email)\n",
    "\n",
    "\n",
    "#this author, when he wrote the first document, no email or institution.\n",
    "#for the second document, he had email and institution. \n",
    "#know, all kinds of attributes are updated\n",
    "\n",
    "#but in this way, we cannot track its vocation carrer. \n",
    "#such as he from this institution to another, which is connot be recorded in this way"
   ]
  },
  {
   "cell_type": "code",
   "execution_count": null,
   "metadata": {
    "collapsed": true
   },
   "outputs": [],
   "source": []
  },
  {
   "cell_type": "code",
   "execution_count": null,
   "metadata": {
    "collapsed": false
   },
   "outputs": [],
   "source": []
  },
  {
   "cell_type": "code",
   "execution_count": null,
   "metadata": {
    "collapsed": true
   },
   "outputs": [],
   "source": []
  },
  {
   "cell_type": "code",
   "execution_count": null,
   "metadata": {
    "collapsed": true
   },
   "outputs": [],
   "source": []
  },
  {
   "cell_type": "code",
   "execution_count": null,
   "metadata": {
    "collapsed": true
   },
   "outputs": [],
   "source": []
  },
  {
   "cell_type": "code",
   "execution_count": null,
   "metadata": {
    "collapsed": false
   },
   "outputs": [],
   "source": []
  },
  {
   "cell_type": "code",
   "execution_count": null,
   "metadata": {
    "collapsed": false
   },
   "outputs": [],
   "source": []
  },
  {
   "cell_type": "code",
   "execution_count": null,
   "metadata": {
    "collapsed": false
   },
   "outputs": [],
   "source": []
  },
  {
   "cell_type": "code",
   "execution_count": null,
   "metadata": {
    "collapsed": true
   },
   "outputs": [],
   "source": []
  },
  {
   "cell_type": "code",
   "execution_count": null,
   "metadata": {
    "collapsed": true
   },
   "outputs": [],
   "source": []
  },
  {
   "cell_type": "code",
   "execution_count": null,
   "metadata": {
    "collapsed": true
   },
   "outputs": [],
   "source": []
  },
  {
   "cell_type": "code",
   "execution_count": null,
   "metadata": {
    "collapsed": true
   },
   "outputs": [],
   "source": []
  }
 ],
 "metadata": {
  "kernelspec": {
   "display_name": "Python [Root]",
   "language": "python",
   "name": "Python [Root]"
  },
  "language_info": {
   "codemirror_mode": {
    "name": "ipython",
    "version": 3
   },
   "file_extension": ".py",
   "mimetype": "text/x-python",
   "name": "python",
   "nbconvert_exporter": "python",
   "pygments_lexer": "ipython3",
   "version": "3.5.2"
  }
 },
 "nbformat": 4,
 "nbformat_minor": 0
}
