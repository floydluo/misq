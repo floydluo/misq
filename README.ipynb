{
 "cells": [
  {
   "cell_type": "markdown",
   "metadata": {
    "nbpresent": {
     "id": "2e95cb26-cc92-4269-a047-c1cbcbfb7dee"
    }
   },
   "source": [
    "# From XLMfile to Database\n",
    "This tutorial will illustrate the main processes of extracting raw data from XML file to Database.\n",
    "    \n",
    "The main processes and corresponding python files are as follows:\n",
    "    \n",
    "    \n",
    "1. `parse.py`: __extract__ raw data from a __XML file__ to a __dictionary__.\n",
    "2. `models.py`: __construct__ database models to store the data.\n",
    "3. `pipeline.py`: __establish__ a pipeline to transfer dictionary data to database.\n",
    "4. `main.py`: __connect__ database, __walk__ through directory, __report__ information.\n",
    "    \n",
    "\n"
   ]
  },
  {
   "cell_type": "markdown",
   "metadata": {
    "nbpresent": {
     "id": "ecca9547-a412-4b89-9b9c-bdcfad118cf1"
    }
   },
   "source": [
    "> For the whole project, in order to get database\n",
    ">\n",
    "> you can run main.py in the terminal\n",
    ">\n",
    "> then, you will get file `data.sqlite`\n",
    "\n",
    "\n",
    "\n",
    "``` shell\n",
    "$ cd /Users/floyd/Projects/misq\n",
    "\n",
    "$ python main.py\n",
    "\n",
    "Failed filename:/Users/floyd/Projects/misq/misq/vol31/iss1/2/0-MISQPodcast.xml\n",
    "Number of Total Failed Files:  1\n",
    "Number of Total Successful Files:  1307\n",
    "\n",
    "```\n",
    "\n"
   ]
  },
  {
   "cell_type": "markdown",
   "metadata": {
    "nbpresent": {
     "id": "9d60ccaf-56cf-4473-b1d7-13ba9be77fb7"
    }
   },
   "source": [
    "## 1. parse.py: extract raw data from XML file to dictionary."
   ]
  },
  {
   "cell_type": "markdown",
   "metadata": {
    "nbpresent": {
     "id": "52b68923-4cb6-4589-8a0f-210f7471553b"
    }
   },
   "source": [
    "__Main points to cover__\n",
    "\n",
    "1. XML data structure: metadata.xml\n",
    "\n",
    "2. Using lxml to parse XML file\n",
    "\n",
    "3. `xpv`, `dbv` and `xpv2dbv()`\n",
    "\n",
    "4. From file to blocks\n",
    "\n",
    "5. From block to elements: `block2ele()`\n",
    "\n",
    "6. Handling special cases and return dictionary: `parseXML2dict()`\n",
    "\n",
    "7. Tests"
   ]
  },
  {
   "cell_type": "markdown",
   "metadata": {
    "nbpresent": {
     "id": "5965f716-f75d-4f0d-8db5-b3bada7f6a07"
    }
   },
   "source": [
    "\n",
    "\n",
    "### 1 Here we use this file as an example\n",
    "\n",
    "`/Users/floyd/Projects/misq/misq/vol40/iss1/13/metadata.xml`\n",
    "\n",
    "![metadata](http://a1.qpic.cn/psb?/V13CYERa0jEWMD/XAfP61KkfxcKJkb6ru3vHcqNl531xyCZuqwQ1h0eOMw!/m/dPgAAAAAAAAA&bo=8gJ.AQAAAAADB60!&rf=photolist)\n",
    "\n",
    "\n",
    "From the graph, after analyzing the structure of this data file, we will construct five tables.\n",
    "\n",
    "documents, authors, keywords, journals, fields\n",
    "\n",
    "The columns in each Table\n",
    "\n",
    "documents"
   ]
  },
  {
   "cell_type": "code",
   "execution_count": 1,
   "metadata": {
    "collapsed": false,
    "nbpresent": {
     "id": "4d4b2b53-7503-4d77-a2f8-3948e6892ee5"
    }
   },
   "outputs": [],
   "source": [
    "#generate absolute path\n",
    "path1 = \"/Users/floyd/Projects/misq/misq/vol40/iss1/13/metadata.xml\""
   ]
  },
  {
   "cell_type": "markdown",
   "metadata": {
    "nbpresent": {
     "id": "21a8422e-55dc-40b4-8635-29d77b8d7cf5"
    }
   },
   "source": [
    "    We use lxml to extract element in the XML file.\n",
    "    "
   ]
  },
  {
   "cell_type": "code",
   "execution_count": 2,
   "metadata": {
    "collapsed": false,
    "nbpresent": {
     "id": "231643c5-29c5-4613-a33d-8168f0018689"
    }
   },
   "outputs": [
    {
     "data": {
      "text/plain": [
       "<lxml.etree._ElementTree at 0x1045667c8>"
      ]
     },
     "execution_count": 2,
     "metadata": {},
     "output_type": "execute_result"
    }
   ],
   "source": [
    "# First we use etree which is from lxml to parse the whole XML file\n",
    "# Then we get an ElementTree, which contains all the information in this XML file\n",
    "from lxml import etree\n",
    "tree = etree.parse(path1)\n",
    "tree"
   ]
  },
  {
   "cell_type": "markdown",
   "metadata": {
    "nbpresent": {
     "id": "2ef6f69a-6df5-4148-b2fc-1e283db5eb83"
    }
   },
   "source": [
    "### 2 We get `tree` from etree(), which has a method `xpath()`. \n",
    "\n",
    "`xpath()` needs __xpaths__ as arguments then return a __list__ of elements\n",
    "\n",
    "For how xpath works, check http://www.w3.org/TR/xpath/"
   ]
  },
  {
   "cell_type": "code",
   "execution_count": 3,
   "metadata": {
    "collapsed": false,
    "nbpresent": {
     "id": "7069ec96-424b-431b-a646-72aebca0cbc9"
    }
   },
   "outputs": [
    {
     "data": {
      "text/plain": [
       "[<Element author at 0x104572248>,\n",
       " <Element author at 0x104572288>,\n",
       " <Element author at 0x1045722c8>]"
      ]
     },
     "execution_count": 3,
     "metadata": {},
     "output_type": "execute_result"
    }
   ],
   "source": [
    "# this is an example\n",
    "xp = \".//author\"\n",
    "auths = tree.xpath(xp)\n",
    "auths"
   ]
  },
  {
   "cell_type": "code",
   "execution_count": 4,
   "metadata": {
    "collapsed": false,
    "nbpresent": {
     "id": "0abac111-2e00-45ab-92b4-4838d21a4a57"
    }
   },
   "outputs": [
    {
     "data": {
      "text/plain": [
       "list"
      ]
     },
     "execution_count": 4,
     "metadata": {},
     "output_type": "execute_result"
    }
   ],
   "source": [
    "type(auths)"
   ]
  },
  {
   "cell_type": "markdown",
   "metadata": {
    "nbpresent": {
     "id": "a65c7dad-1768-4ae2-8f90-5e175f2aa042"
    }
   },
   "source": [
    "#### 3 from xpv to dbv\n",
    "\n",
    "`xpv` means xpath variables, which is used to extract elements from ElementTree.\n",
    "\n",
    "`dbv` means database variables, which would be used as dictionary keys and database columns\n",
    "\n",
    "We will use function `xpv2dbv()` to get `dbv` from `xpv`."
   ]
  },
  {
   "cell_type": "code",
   "execution_count": 5,
   "metadata": {
    "collapsed": false,
    "nbpresent": {
     "id": "82d02fde-4af0-44e5-a622-d2817553514e"
    }
   },
   "outputs": [],
   "source": [
    "# first is get five table-blocks from ElementTree\n",
    "\n",
    "xpv_blocks = [\".//document\", \n",
    "              \".//author\",\n",
    "              \".//keyword\",\n",
    "              \".//field\",\n",
    "              \".//submission-path\"]\n",
    "\n",
    "\n",
    "# we need five list of xpath, because we need five tables.\n",
    "# the elements in each list are the column value for each table\n",
    "\n",
    "xpv_document = [\"title/text()\", \n",
    "                \"abstract/text()\", \n",
    "                \"publication-title/text()\", \n",
    "                \"publication-date/text()\",\n",
    "                \"submission-date/text()\", \n",
    "                \"coverpage-url/text()\", \n",
    "                \"fulltext-url/text()\", \n",
    "                \"fpage/text()\", \n",
    "                \"lpage/text()\",\n",
    "                \"document-type/text()\", \n",
    "                \"type/text()\", \n",
    "                \"articleid/text()\",\n",
    "                \"context-key/text()\",\n",
    "                \"submission-path/text()\",\n",
    "                \"label/text()\"]\n",
    "\n",
    "xpv_author = [\"fname/text()\", \n",
    "              \"mname/text()\",\n",
    "              \"lname/text()\",\n",
    "              \"email/text()\", \n",
    "              \"institution/text()\"]\n",
    "             \n",
    "xpv_keyword = [\"text()\"]\n",
    "\n",
    "xpv_field = [\"@name\", \n",
    "             \"@type\", \n",
    "             \"value/text()\"]"
   ]
  },
  {
   "cell_type": "code",
   "execution_count": 6,
   "metadata": {
    "collapsed": true,
    "nbpresent": {
     "id": "73c38ffe-eeac-4706-bbb7-b11f141b93bd"
    }
   },
   "outputs": [],
   "source": [
    "# here is a special table: journal table\n",
    "# because we cannot get dbv_journal from xpv_journal by the function I will introduce soon.\n",
    "xpv_journal = [\"text()\"]\n",
    "\n",
    "dbv_journal = [\"domain\", \n",
    "               \"vol\", \n",
    "               \"iss\", \n",
    "               \"label\"]"
   ]
  },
  {
   "cell_type": "markdown",
   "metadata": {
    "nbpresent": {
     "id": "4e316474-0b79-4974-85cd-a2b350d62899"
    }
   },
   "source": [
    "In order to get the dbv which is neat enought to act as dictionary keys or database column labels\n",
    "\n",
    "we need a function to strip 'text()', '@', '.' and replace '-' with '_'."
   ]
  },
  {
   "cell_type": "code",
   "execution_count": 7,
   "metadata": {
    "collapsed": true,
    "nbpresent": {
     "id": "d12c5605-cc08-4f28-9e9c-0da0d2b5db31"
    }
   },
   "outputs": [],
   "source": [
    "def xpv2dbv(xpv):\n",
    "    dbv = list(xpv)\n",
    "    # must add list() before xpv.\n",
    "    # because xpv is a list, which is mutable\n",
    "    # without list(), xpv will be changed, which means the same as dbv\n",
    "    \n",
    "    \n",
    "    for i in range(len(dbv)):\n",
    "    # every element in the input list, must be modified\n",
    "        if \"text()\" in dbv[i]:\n",
    "            dbv[i]=dbv[i].replace(\"text()\", '')\n",
    "        if \"@\" in dbv[i]:\n",
    "            dbv[i]=dbv[i].replace(\"@\",'')\n",
    "        if \"-\" in dbv[i]:\n",
    "            dbv[i]=dbv[i].replace('-','_')\n",
    "        if\".\" in dbv[i]:\n",
    "            dbv[i]=dbv[i].replace(\".\",'')\n",
    "        if\"/\" in dbv[i]:\n",
    "            dbv[i]=dbv[i].replace('/','')\n",
    "    return dbv"
   ]
  },
  {
   "cell_type": "code",
   "execution_count": 8,
   "metadata": {
    "collapsed": false,
    "nbpresent": {
     "id": "8ff05594-cee1-4982-9f2b-d9b1e705fa90"
    }
   },
   "outputs": [
    {
     "data": {
      "text/plain": [
       "['title/text()',\n",
       " 'abstract/text()',\n",
       " 'publication-title/text()',\n",
       " 'publication-date/text()',\n",
       " 'submission-date/text()',\n",
       " 'coverpage-url/text()',\n",
       " 'fulltext-url/text()',\n",
       " 'fpage/text()',\n",
       " 'lpage/text()',\n",
       " 'document-type/text()',\n",
       " 'type/text()',\n",
       " 'articleid/text()',\n",
       " 'context-key/text()',\n",
       " 'submission-path/text()',\n",
       " 'label/text()']"
      ]
     },
     "execution_count": 8,
     "metadata": {},
     "output_type": "execute_result"
    }
   ],
   "source": [
    "# test this function\n",
    "dbv_document = xpv2dbv(xpv_document)\n",
    "xpv_document"
   ]
  },
  {
   "cell_type": "markdown",
   "metadata": {
    "nbpresent": {
     "id": "470dcdd5-5701-438c-910f-e2b68ccafc30"
    }
   },
   "source": [
    "#### 4  from file to blocks\n",
    "We need five tables, therefore, we need to divide the file into five blocks where each block represents a table"
   ]
  },
  {
   "cell_type": "code",
   "execution_count": 9,
   "metadata": {
    "collapsed": false,
    "nbpresent": {
     "id": "31129999-7423-4a6e-91ef-cff0a106e707"
    }
   },
   "outputs": [
    {
     "data": {
      "text/plain": [
       "['document', 'author', 'keyword', 'field', 'submission_path']"
      ]
     },
     "execution_count": 9,
     "metadata": {},
     "output_type": "execute_result"
    }
   ],
   "source": [
    "# Illustration of the way from file to blocks\n",
    "\n",
    "path1 = \"/Users/floyd/Projects/misq/misq/vol40/iss1/13/metadata.xml\"\n",
    "# get ElementTree\n",
    "tree = etree.parse(path1)\n",
    "\n",
    "# as shown above, the xpv_blocks is a list of xpaths.\n",
    "xpv_blocks = [\".//document\", \n",
    "              \".//author\",\n",
    "              \".//keyword\",\n",
    "              \".//field\",\n",
    "              \".//submission-path\"]\n",
    "    \n",
    "dbv_blocks = xpv2dbv(xpv_blocks)\n",
    "\n",
    "#have a look at this list\n",
    "dbv_blocks"
   ]
  },
  {
   "cell_type": "code",
   "execution_count": 10,
   "metadata": {
    "collapsed": false,
    "nbpresent": {
     "id": "054e89e2-ca87-49d0-852f-cb74bc9d52d5"
    }
   },
   "outputs": [
    {
     "data": {
      "text/plain": [
       "[<Element keyword at 0x104584f08>,\n",
       " <Element keyword at 0x104584f88>,\n",
       " <Element keyword at 0x104584fc8>,\n",
       " <Element keyword at 0x10456b048>,\n",
       " <Element keyword at 0x10456bd88>]"
      ]
     },
     "execution_count": 10,
     "metadata": {},
     "output_type": "execute_result"
    }
   ],
   "source": [
    "tree.xpath('.//keyword')"
   ]
  },
  {
   "cell_type": "code",
   "execution_count": 11,
   "metadata": {
    "collapsed": false,
    "nbpresent": {
     "id": "eea16fb5-8d7c-4758-b3d2-6f6a066fb1e8"
    }
   },
   "outputs": [
    {
     "data": {
      "text/plain": [
       "[[<Element document at 0x10456bf48>],\n",
       " [<Element author at 0x10456bf88>,\n",
       "  <Element author at 0x10456bfc8>,\n",
       "  <Element author at 0x104589048>],\n",
       " [<Element keyword at 0x104589088>,\n",
       "  <Element keyword at 0x1045890c8>,\n",
       "  <Element keyword at 0x104589108>,\n",
       "  <Element keyword at 0x104589148>,\n",
       "  <Element keyword at 0x104589188>],\n",
       " [<Element field at 0x1045891c8>,\n",
       "  <Element field at 0x104589208>,\n",
       "  <Element field at 0x104589248>,\n",
       "  <Element field at 0x104589288>],\n",
       " [<Element submission-path at 0x1045892c8>]]"
      ]
     },
     "execution_count": 11,
     "metadata": {},
     "output_type": "execute_result"
    }
   ],
   "source": [
    "# using functional programming to get a list.\n",
    "tree = etree.parse(path1)\n",
    "\n",
    "# we also add list() before map, because map will return a generator.\n",
    "blockslist = list(map(tree.xpath, xpv_blocks))\n",
    "blockslist"
   ]
  },
  {
   "cell_type": "code",
   "execution_count": 12,
   "metadata": {
    "collapsed": false,
    "nbpresent": {
     "id": "15d38df1-2291-4996-8886-ebd955612fda"
    }
   },
   "outputs": [
    {
     "data": {
      "text/plain": [
       "{'author': [<Element author at 0x10456bf88>,\n",
       "  <Element author at 0x10456bfc8>,\n",
       "  <Element author at 0x104589048>],\n",
       " 'document': [<Element document at 0x10456bf48>],\n",
       " 'field': [<Element field at 0x1045891c8>,\n",
       "  <Element field at 0x104589208>,\n",
       "  <Element field at 0x104589248>,\n",
       "  <Element field at 0x104589288>],\n",
       " 'keyword': [<Element keyword at 0x104589088>,\n",
       "  <Element keyword at 0x1045890c8>,\n",
       "  <Element keyword at 0x104589108>,\n",
       "  <Element keyword at 0x104589148>,\n",
       "  <Element keyword at 0x104589188>],\n",
       " 'submission_path': [<Element submission-path at 0x1045892c8>]}"
      ]
     },
     "execution_count": 12,
     "metadata": {},
     "output_type": "execute_result"
    }
   ],
   "source": [
    "# get dictionary of blocks\n",
    "\n",
    "blocksdict = dict(zip(dbv_blocks, blockslist))\n",
    "\n",
    "#show blocksdict\n",
    "blocksdict"
   ]
  },
  {
   "cell_type": "markdown",
   "metadata": {
    "nbpresent": {
     "id": "928a1a6c-68ca-4598-b4cd-0b2a69a56c48"
    }
   },
   "source": [
    "#### 5 from blocks to elements\n",
    "\n",
    "We got a dictionary -- blocksdict.\n",
    "\n",
    "For each pair of key and value\n",
    "\n",
    "Key is table label, value is table blocks. More specifically, values are lists of elements for each table.\n",
    "\n",
    "What we should do is turn the element to a dictionary with keys from dbv list."
   ]
  },
  {
   "cell_type": "code",
   "execution_count": 13,
   "metadata": {
    "collapsed": false,
    "nbpresent": {
     "id": "9f12d0fc-3284-47ff-9be8-7010ed5b463c"
    }
   },
   "outputs": [
    {
     "data": {
      "text/plain": [
       "[<Element author at 0x10456bf88>,\n",
       " <Element author at 0x10456bfc8>,\n",
       " <Element author at 0x104589048>]"
      ]
     },
     "execution_count": 13,
     "metadata": {},
     "output_type": "execute_result"
    }
   ],
   "source": [
    "# take author as example\n",
    "\n",
    "auth_table = blocksdict['author']\n",
    "# then we get a list of element\n",
    "auth_table"
   ]
  },
  {
   "cell_type": "code",
   "execution_count": 14,
   "metadata": {
    "collapsed": false,
    "nbpresent": {
     "id": "774198dc-454a-4ab5-a62d-7157adef1f2b"
    }
   },
   "outputs": [
    {
     "data": {
      "text/plain": [
       "<Element author at 0x10456bf88>"
      ]
     },
     "execution_count": 14,
     "metadata": {},
     "output_type": "execute_result"
    }
   ],
   "source": [
    "# get an element\n",
    "auth1 = auth_table[0]\n",
    "auth1"
   ]
  },
  {
   "cell_type": "code",
   "execution_count": 15,
   "metadata": {
    "collapsed": false,
    "nbpresent": {
     "id": "22502bce-e972-417c-b510-2510e7f010d0"
    }
   },
   "outputs": [
    {
     "data": {
      "text/plain": [
       "[['Jie Mein'], [], ['Goh'], ['jmgoh@sfu.ca'], ['Simon Fraser University']]"
      ]
     },
     "execution_count": 15,
     "metadata": {},
     "output_type": "execute_result"
    }
   ],
   "source": [
    "authlist = list(map(auth1.xpath, xpv_author))\n",
    "authlist"
   ]
  },
  {
   "cell_type": "code",
   "execution_count": 16,
   "metadata": {
    "collapsed": false,
    "nbpresent": {
     "id": "f58b8da4-5266-473f-bbf4-4e3304608d36"
    }
   },
   "outputs": [
    {
     "data": {
      "text/plain": [
       "['Jie Mein', '', 'Goh', 'jmgoh@sfu.ca', 'Simon Fraser University']"
      ]
     },
     "execution_count": 16,
     "metadata": {},
     "output_type": "execute_result"
    }
   ],
   "source": [
    "for i in range(len(authlist)):\n",
    "    tem = authlist[i]\n",
    "    try:\n",
    "        authlist[i] = tem[0]\n",
    "    except:\n",
    "        authlist[i] = ''\n",
    "authlist"
   ]
  },
  {
   "cell_type": "code",
   "execution_count": 17,
   "metadata": {
    "collapsed": false,
    "nbpresent": {
     "id": "535fc9a9-1d18-412c-8f87-bfb47211c171"
    }
   },
   "outputs": [
    {
     "data": {
      "text/plain": [
       "{'email': 'jmgoh@sfu.ca',\n",
       " 'fname': 'Jie Mein',\n",
       " 'institution': 'Simon Fraser University',\n",
       " 'lname': 'Goh',\n",
       " 'mname': ''}"
      ]
     },
     "execution_count": 17,
     "metadata": {},
     "output_type": "execute_result"
    }
   ],
   "source": [
    "auth1dict = dict(zip(xpv2dbv(xpv_author), authlist))\n",
    "auth1dict"
   ]
  },
  {
   "cell_type": "code",
   "execution_count": 18,
   "metadata": {
    "collapsed": false,
    "nbpresent": {
     "id": "16677412-d904-4143-8692-d3d22563495b"
    }
   },
   "outputs": [
    {
     "name": "stdout",
     "output_type": "stream",
     "text": [
      "<class 'lxml.etree._Element'>\n"
     ]
    },
    {
     "data": {
      "text/plain": [
       "<Element author at 0x10456bf88>"
      ]
     },
     "execution_count": 18,
     "metadata": {},
     "output_type": "execute_result"
    }
   ],
   "source": [
    "# input\n",
    "\n",
    "print(type(auth1))\n",
    "auth1"
   ]
  },
  {
   "cell_type": "code",
   "execution_count": 19,
   "metadata": {
    "collapsed": false,
    "nbpresent": {
     "id": "0ead1dc7-a1d3-48b9-8253-f936bcc4838b"
    }
   },
   "outputs": [
    {
     "name": "stdout",
     "output_type": "stream",
     "text": [
      "<class 'dict'>\n"
     ]
    },
    {
     "data": {
      "text/plain": [
       "{'email': 'jmgoh@sfu.ca',\n",
       " 'fname': 'Jie Mein',\n",
       " 'institution': 'Simon Fraser University',\n",
       " 'lname': 'Goh',\n",
       " 'mname': ''}"
      ]
     },
     "execution_count": 19,
     "metadata": {},
     "output_type": "execute_result"
    }
   ],
   "source": [
    "# output\n",
    "\n",
    "print(type(auth1dict))\n",
    "auth1dict"
   ]
  },
  {
   "cell_type": "markdown",
   "metadata": {
    "nbpresent": {
     "id": "7a2cf069-ce94-4688-8c2a-080a2815caf5"
    }
   },
   "source": [
    "Folliwing this logic, we can design a function to transfer Element to dictionary.\n",
    "\n"
   ]
  },
  {
   "cell_type": "code",
   "execution_count": 20,
   "metadata": {
    "collapsed": true,
    "nbpresent": {
     "id": "e6fa0fda-cb4a-4556-80ff-d70fd60d1a4b"
    }
   },
   "outputs": [],
   "source": [
    "# for this function, we input a list of element\n",
    "# then each element is transformed to a dictionary.\n",
    "# and finially, a list of dictionaries are returned.\n",
    "\n",
    "\n",
    "# blocksdict is a dictionary following the pattern from file to blocks.\n",
    "# keys are keys of blocksdict as well as table labels.\n",
    "# xpv is a list of xpath.\n",
    "# dbv = None, which can be indicated, otherwise.\n",
    "\n",
    "\n",
    "def ele2dictlist(blocksdict, key, xpv, dbv=None):\n",
    "    dictlist = []\n",
    "    if dbv == None:\n",
    "        dbv = xpv2dbv(xpv)\n",
    "        \n",
    "        \n",
    "    # this 'if' block is used to handle the special case, which will be explained soon.\n",
    "    if key == \"submission_path\":\n",
    "        \n",
    "        # ele is the first element in the list\n",
    "        ele = blocksdict[key][0]\n",
    "        # xpv is a list\n",
    "        raw = ele.xpath(xpv[0]) \n",
    "        elelist = raw[0].split('/')\n",
    "        dictlist.append(dict((zip(dbv, elelist))))\n",
    "        return dictlist\n",
    "    \n",
    "    for ele in blocksdict[key]:\n",
    "        elelist = list(map(ele.xpath, xpv))\n",
    "        for i in range(len(elelist)):\n",
    "            tem = elelist[i]\n",
    "            try:\n",
    "                elelist[i] = tem[0]\n",
    "            except:\n",
    "                elelist[i] = ''\n",
    "        eledict = dict(zip(dbv, elelist))\n",
    "        \n",
    "        dictlist.append(eledict)\n",
    "\n",
    "    return dictlist\n",
    "    "
   ]
  },
  {
   "cell_type": "markdown",
   "metadata": {
    "nbpresent": {
     "id": "f06b8cf2-fcaf-4aa9-97ad-4901f63c75dc"
    }
   },
   "source": [
    "#### Handling special cases\n",
    "\n",
    "among these five tables, some special things needed to be handled.\n",
    "\n",
    "1 `journal` table: unique to other fours. To get element dictionary, we need to extract from the element \"submission-path\"\n",
    "\n"
   ]
  },
  {
   "cell_type": "code",
   "execution_count": 21,
   "metadata": {
    "collapsed": false,
    "nbpresent": {
     "id": "77bf3078-ff31-41ea-8c84-010c1b87b010"
    }
   },
   "outputs": [
    {
     "name": "stdout",
     "output_type": "stream",
     "text": [
      "submission_path ['text()'] ['domain', 'vol', 'iss', 'label']\n"
     ]
    }
   ],
   "source": [
    "# the four arguments\n",
    "\n",
    "# when key == \"submission_path\"\n",
    "# xpv = xpv_journal\n",
    "\n",
    "\n",
    "blocksdict = blocksdict\n",
    "key = \"submission_path\"\n",
    "xpv = xpv_journal\n",
    "dbv = dbv_journal # which is define at very first part. \n",
    "print(key, xpv, dbv)"
   ]
  },
  {
   "cell_type": "code",
   "execution_count": 22,
   "metadata": {
    "collapsed": false,
    "nbpresent": {
     "id": "85392803-62ce-4320-9930-f6e82487ce83"
    }
   },
   "outputs": [
    {
     "data": {
      "text/plain": [
       "[{'domain': 'misq', 'iss': 'iss1', 'label': '13', 'vol': 'vol40'}]"
      ]
     },
     "execution_count": 22,
     "metadata": {},
     "output_type": "execute_result"
    }
   ],
   "source": [
    "# ele is the first element in the list\n",
    "dictlist = []\n",
    "ele = blocksdict[key][0]\n",
    "# xpv is a list\n",
    "raw = ele.xpath(xpv[0]) \n",
    "elelist = raw[0].split('/')\n",
    "dictlist.append(dict((zip(dbv, elelist))))\n",
    "dictlist"
   ]
  },
  {
   "cell_type": "markdown",
   "metadata": {
    "nbpresent": {
     "id": "07abaab0-8885-4f5f-bfe0-1183006a9c1d"
    }
   },
   "source": [
    "2 other tables: need to add some other column labels\n",
    "+ document: pages = lpage - fpage + 1\n",
    "+ author: full name = fname + '/' + mname + '/' + 'lname'\n",
    "+ keyword: change element dictionary's keys from '' to 'keyword'"
   ]
  },
  {
   "cell_type": "code",
   "execution_count": 23,
   "metadata": {
    "collapsed": false,
    "nbpresent": {
     "id": "cb3db5b9-64f6-49a3-9de7-0f782112433e"
    }
   },
   "outputs": [
    {
     "data": {
      "text/plain": [
       "{'Author': [{'email': 'jmgoh@sfu.ca',\n",
       "   'fname': 'Jie Mein',\n",
       "   'full_name': 'Jie Mein//Goh',\n",
       "   'institution': 'Simon Fraser University',\n",
       "   'lname': 'Goh',\n",
       "   'mname': ''},\n",
       "  {'email': 'ggao@rhsmith.umd.edu',\n",
       "   'fname': 'Guodong',\n",
       "   'full_name': 'Guodong/(Gordon)/Gao',\n",
       "   'institution': 'University of Maryland - College Park',\n",
       "   'lname': 'Gao',\n",
       "   'mname': '(Gordon)'},\n",
       "  {'email': 'ragarwal@rhsmith.umd.edu',\n",
       "   'fname': 'Ritu',\n",
       "   'full_name': 'Ritu//Agarwal',\n",
       "   'institution': 'University of Maryland',\n",
       "   'lname': 'Agarwal',\n",
       "   'mname': ''}],\n",
       " 'Document': [{'abstract': '<p><em>The striking growth of online communities in recent years has sparked significant interest in understanding and quantifying benefits of participation. While research has begun to document the economic outcomes associated with online communities, quantifying the social value created in these collectives has been largely overlooked. This study proposes that online health communities create social value by addressing ruralâ\\x80\\x93urban health disparities via improved health capabilities. Using a unique data set from a rare disease community, we provide one of the first empirical studies of social value creation. Our quantitative analysis using exponential random graph models reveals patterns of social support exchanged between users and the variations in these patterns based on usersâ\\x80\\x99 location. We find that, overall, urban users are net suppliers of social support while rural participants are net recipients, suggesting that technology-mediated online health communities are able to alleviate ruralâ\\x80\\x93urban health disparities. This study advances extant understanding of value production in online collectives, and yields implications for policy. </em></p>',\n",
       "   'articleid': '3281',\n",
       "   'context_key': '8235621',\n",
       "   'coverpage_url': 'http://aisel.aisnet.org/misq/vol40/iss1/13',\n",
       "   'document_type': 'article',\n",
       "   'fpage': '247',\n",
       "   'fulltext_url': 'http://aisel.aisnet.org/cgi/viewcontent.cgi?article=3281&amp;context=misq&amp;unstamped=1',\n",
       "   'label': '13',\n",
       "   'lpage': '263',\n",
       "   'pages': '17',\n",
       "   'publication_date': '2016-03-01T00:00:00-08:00',\n",
       "   'publication_title': 'Management Information Systems Quarterly',\n",
       "   'submission_date': '2016-02-29T08:26:26-08:00',\n",
       "   'submission_path': 'misq/vol40/iss1/13',\n",
       "   'title': 'The Creation of Social Value:  Can an Online Health Community Reduce Rural-Urban Health Disparities?',\n",
       "   'type': 'article'}],\n",
       " 'Field': [{'name': 'embargo_date',\n",
       "   'type': 'date',\n",
       "   'value': '2016-02-29T00:00:00-08:00'},\n",
       "  {'name': 'peer_reviewed', 'type': 'boolean', 'value': 'true'},\n",
       "  {'name': 'publication_date',\n",
       "   'type': 'date',\n",
       "   'value': '2016-03-01T00:00:00-08:00'},\n",
       "  {'name': 'short_title',\n",
       "   'type': 'string',\n",
       "   'value': '/Creation of Social Value with Online Health Communities'}],\n",
       " 'Journal': [{'domain': 'misq', 'iss': 'iss1', 'label': '13', 'vol': 'vol40'}],\n",
       " 'Keyword': [{'keyword': 'Healthcare'},\n",
       "  {'keyword': 'online communities'},\n",
       "  {'keyword': 'social value'},\n",
       "  {'keyword': 'disparities'},\n",
       "  {'keyword': 'social network'}]}"
      ]
     },
     "execution_count": 23,
     "metadata": {},
     "output_type": "execute_result"
    }
   ],
   "source": [
    "#generate the diclist\n",
    "\n",
    "# document_dictlist\n",
    "doc_dict = ele2dictlist(blocksdict,\"document\",xpv_document)\n",
    "for i in doc_dict:\n",
    "    try:\n",
    "        i[\"pages\"]=str(int(i[\"lpage\"])-int(i[\"fpage\"])+1)\n",
    "    except:\n",
    "        i[\"pages\"]=''\n",
    "\n",
    "# author_dictlist\n",
    "auth_dict = ele2dictlist(blocksdict,\"author\",xpv_author)\n",
    "for i in auth_dict:\n",
    "    i[\"full_name\"]=i['fname']+'/'+i[\"mname\"]+'/'+i['lname']\n",
    "\n",
    "# field_dictlist\n",
    "fid_dict = ele2dictlist(blocksdict,\"field\",xpv_field)\n",
    "\n",
    "# key_dictlist\n",
    "key_dict = ele2dictlist(blocksdict,\"keyword\",xpv_keyword)\n",
    "for i in key_dict:\n",
    "    for j in i.keys():\n",
    "        if j=='':\n",
    "            i[\"keyword\"]=i[j]\n",
    "            i.pop(j)           \n",
    "\n",
    "# journal_dictlist\n",
    "jour_dict = ele2dictlist(blocksdict,\"submission_path\",xpv_journal,dbv=dbv_journal)\n",
    "\n",
    "dict(zip([\"Document\",\"Author\",\"Journal\",\"Field\",\"Keyword\"],[doc_dict, auth_dict, jour_dict, fid_dict, key_dict]))"
   ]
  },
  {
   "cell_type": "code",
   "execution_count": 24,
   "metadata": {
    "collapsed": false,
    "nbpresent": {
     "id": "e10b8edf-706f-4e6b-b1c2-a2a011774880"
    }
   },
   "outputs": [
    {
     "data": {
      "text/plain": [
       "{'author': [<Element author at 0x10456bf88>,\n",
       "  <Element author at 0x10456bfc8>,\n",
       "  <Element author at 0x104589048>],\n",
       " 'document': [<Element document at 0x10456bf48>],\n",
       " 'field': [<Element field at 0x1045891c8>,\n",
       "  <Element field at 0x104589208>,\n",
       "  <Element field at 0x104589248>,\n",
       "  <Element field at 0x104589288>],\n",
       " 'keyword': [<Element keyword at 0x104589088>,\n",
       "  <Element keyword at 0x1045890c8>,\n",
       "  <Element keyword at 0x104589108>,\n",
       "  <Element keyword at 0x104589148>,\n",
       "  <Element keyword at 0x104589188>],\n",
       " 'submission_path': [<Element submission-path at 0x1045892c8>]}"
      ]
     },
     "execution_count": 24,
     "metadata": {},
     "output_type": "execute_result"
    }
   ],
   "source": [
    "# compare with blocksdict\n",
    "blocksdict"
   ]
  },
  {
   "cell_type": "markdown",
   "metadata": {
    "nbpresent": {
     "id": "950b7e87-be07-47f7-97c7-3f50f44d6e78"
    }
   },
   "source": [
    "#### 6 final function: parseXML2dict( )"
   ]
  },
  {
   "cell_type": "code",
   "execution_count": 25,
   "metadata": {
    "collapsed": true,
    "nbpresent": {
     "id": "4cc465cf-50fd-4cc6-9484-f76ec3fbefea"
    }
   },
   "outputs": [],
   "source": [
    "# integrate all together\n",
    "\n",
    "# input: abspath of XML file is the only argument.\n",
    "# output: a dictionary where values are lists of element-dictionaries.\n",
    "\n",
    "def parseXML2dict(abspath):\n",
    "    \n",
    "    # get blocksdict from file\n",
    "    tree = etree.parse(abspath)\n",
    "    \n",
    "    blockslist = list(map(tree.xpath, xpv_blocks)) # xpv_blocks from setting.\n",
    "    dbv_blocks = xpv2dbv(xpv_blocks)               # xpv2dbv() from setting\n",
    "    blocksdict = dict(zip(dbv_blocks, blockslist))\n",
    "    #generate the diclist\n",
    "\n",
    "    # document_dictlist\n",
    "    doc_dict = ele2dictlist(blocksdict,\"document\",xpv_document) # function ele2dictlist() from setting.\n",
    "    for i in doc_dict:\n",
    "        try:\n",
    "            i[\"pages\"]=str(int(i[\"lpage\"])-int(i[\"fpage\"])+1)\n",
    "        except:\n",
    "            i[\"pages\"]=''\n",
    "\n",
    "    # author_dictlist\n",
    "    auth_dict = ele2dictlist(blocksdict,\"author\",xpv_author)\n",
    "    for i in auth_dict:\n",
    "        i[\"full_name\"]=i['fname']+'/'+i[\"mname\"]+'/'+i['lname']\n",
    "\n",
    "    # field_dictlist\n",
    "    fid_dict = ele2dictlist(blocksdict,\"field\",xpv_field)\n",
    "\n",
    "    # key_dictlist\n",
    "    key_dict = ele2dictlist(blocksdict,\"keyword\",xpv_keyword)\n",
    "    for i in key_dict:\n",
    "        for j in i.keys():\n",
    "            if j=='':\n",
    "                i[\"keyword\"]=i[j]\n",
    "                i.pop(j)           \n",
    "\n",
    "    # journal_dictlist\n",
    "    jour_dict = ele2dictlist(blocksdict,\"submission_path\",xpv_journal,dbv=dbv_journal)\n",
    "\n",
    "    return dict(zip([\"Document\",\"Author\",\"Journal\",\"Field\",\"Keyword\"],[doc_dict, auth_dict, jour_dict, fid_dict, key_dict]))"
   ]
  },
  {
   "cell_type": "markdown",
   "metadata": {
    "nbpresent": {
     "id": "4c1317ab-4483-46b0-95e9-58b16441f800"
    }
   },
   "source": [
    "### testing"
   ]
  },
  {
   "cell_type": "code",
   "execution_count": 26,
   "metadata": {
    "collapsed": false,
    "nbpresent": {
     "id": "bac73c20-e01c-4151-a86c-a202f211facc"
    }
   },
   "outputs": [
    {
     "data": {
      "text/plain": [
       "'/Users/floyd/Projects/misq/misq/vol40/iss1/13/metadata.xml'"
      ]
     },
     "execution_count": 26,
     "metadata": {},
     "output_type": "execute_result"
    }
   ],
   "source": [
    "path1"
   ]
  },
  {
   "cell_type": "code",
   "execution_count": 27,
   "metadata": {
    "collapsed": false,
    "nbpresent": {
     "id": "270514c5-91d8-4f5d-b45a-b08fe94d6c57"
    }
   },
   "outputs": [
    {
     "data": {
      "text/plain": [
       "{'Author': [{'email': 'jmgoh@sfu.ca',\n",
       "   'fname': 'Jie Mein',\n",
       "   'full_name': 'Jie Mein//Goh',\n",
       "   'institution': 'Simon Fraser University',\n",
       "   'lname': 'Goh',\n",
       "   'mname': ''},\n",
       "  {'email': 'ggao@rhsmith.umd.edu',\n",
       "   'fname': 'Guodong',\n",
       "   'full_name': 'Guodong/(Gordon)/Gao',\n",
       "   'institution': 'University of Maryland - College Park',\n",
       "   'lname': 'Gao',\n",
       "   'mname': '(Gordon)'},\n",
       "  {'email': 'ragarwal@rhsmith.umd.edu',\n",
       "   'fname': 'Ritu',\n",
       "   'full_name': 'Ritu//Agarwal',\n",
       "   'institution': 'University of Maryland',\n",
       "   'lname': 'Agarwal',\n",
       "   'mname': ''}],\n",
       " 'Document': [{'abstract': '<p><em>The striking growth of online communities in recent years has sparked significant interest in understanding and quantifying benefits of participation. While research has begun to document the economic outcomes associated with online communities, quantifying the social value created in these collectives has been largely overlooked. This study proposes that online health communities create social value by addressing ruralâ\\x80\\x93urban health disparities via improved health capabilities. Using a unique data set from a rare disease community, we provide one of the first empirical studies of social value creation. Our quantitative analysis using exponential random graph models reveals patterns of social support exchanged between users and the variations in these patterns based on usersâ\\x80\\x99 location. We find that, overall, urban users are net suppliers of social support while rural participants are net recipients, suggesting that technology-mediated online health communities are able to alleviate ruralâ\\x80\\x93urban health disparities. This study advances extant understanding of value production in online collectives, and yields implications for policy. </em></p>',\n",
       "   'articleid': '3281',\n",
       "   'context_key': '8235621',\n",
       "   'coverpage_url': 'http://aisel.aisnet.org/misq/vol40/iss1/13',\n",
       "   'document_type': 'article',\n",
       "   'fpage': '247',\n",
       "   'fulltext_url': 'http://aisel.aisnet.org/cgi/viewcontent.cgi?article=3281&amp;context=misq&amp;unstamped=1',\n",
       "   'label': '13',\n",
       "   'lpage': '263',\n",
       "   'pages': '17',\n",
       "   'publication_date': '2016-03-01T00:00:00-08:00',\n",
       "   'publication_title': 'Management Information Systems Quarterly',\n",
       "   'submission_date': '2016-02-29T08:26:26-08:00',\n",
       "   'submission_path': 'misq/vol40/iss1/13',\n",
       "   'title': 'The Creation of Social Value:  Can an Online Health Community Reduce Rural-Urban Health Disparities?',\n",
       "   'type': 'article'}],\n",
       " 'Field': [{'name': 'embargo_date',\n",
       "   'type': 'date',\n",
       "   'value': '2016-02-29T00:00:00-08:00'},\n",
       "  {'name': 'peer_reviewed', 'type': 'boolean', 'value': 'true'},\n",
       "  {'name': 'publication_date',\n",
       "   'type': 'date',\n",
       "   'value': '2016-03-01T00:00:00-08:00'},\n",
       "  {'name': 'short_title',\n",
       "   'type': 'string',\n",
       "   'value': '/Creation of Social Value with Online Health Communities'}],\n",
       " 'Journal': [{'domain': 'misq', 'iss': 'iss1', 'label': '13', 'vol': 'vol40'}],\n",
       " 'Keyword': [{'keyword': 'Healthcare'},\n",
       "  {'keyword': 'online communities'},\n",
       "  {'keyword': 'social value'},\n",
       "  {'keyword': 'disparities'},\n",
       "  {'keyword': 'social network'}]}"
      ]
     },
     "execution_count": 27,
     "metadata": {},
     "output_type": "execute_result"
    }
   ],
   "source": [
    "parseXML2dict(path1)"
   ]
  },
  {
   "cell_type": "code",
   "execution_count": 28,
   "metadata": {
    "collapsed": true,
    "nbpresent": {
     "id": "3179e45c-a432-4b91-9332-57127060ef72"
    }
   },
   "outputs": [],
   "source": [
    "# change path1\n",
    "path2 = '/Users/floyd/Projects/misq/misq/vol39/iss1/13/metadata.xml'"
   ]
  },
  {
   "cell_type": "code",
   "execution_count": 29,
   "metadata": {
    "collapsed": false,
    "nbpresent": {
     "id": "1945d013-36e3-490e-ad66-089ba2469014"
    }
   },
   "outputs": [
    {
     "data": {
      "text/plain": [
       "{'Author': [{'email': 'be.itm@cbs.dk',\n",
       "   'fname': 'Ben',\n",
       "   'full_name': 'Ben//Eaton',\n",
       "   'institution': 'Copenhagen Business School',\n",
       "   'lname': 'Eaton',\n",
       "   'mname': ''},\n",
       "  {'email': 'S.M.Elaluf-Calderwood@lse.ac.uk',\n",
       "   'fname': 'Silvia',\n",
       "   'full_name': 'Silvia//Elaluf-Calderwood',\n",
       "   'institution': 'London School of Economics and Political Science',\n",
       "   'lname': 'Elaluf-Calderwood',\n",
       "   'mname': ''},\n",
       "  {'email': 'c.sorensen@lse.ac.uk',\n",
       "   'fname': 'Carsten',\n",
       "   'full_name': 'Carsten//Sorensen',\n",
       "   'institution': 'London School of Economics and Political Science',\n",
       "   'lname': 'Sorensen',\n",
       "   'mname': ''},\n",
       "  {'email': 'youngjin.yoo@temple.edu',\n",
       "   'fname': 'Youngjin',\n",
       "   'full_name': 'Youngjin//Yoo',\n",
       "   'institution': '',\n",
       "   'lname': 'Yoo',\n",
       "   'mname': ''}],\n",
       " 'Document': [{'abstract': '<p><em>The digital age has seen the rise of service systems involving highly distributed, heterogeneous, and resource-integrating actors whose relationships are governed by shared institutional logics, standards, and digital technology. The cocreation of service within these service systems takes place in the context of a paradoxical tension between the logic of generative and democratic innovations and the logic of infrastructural control. Boundary resources play a critical role in managing the tension as a firm that owns the infrastructure can secure its control over the service system while independent firms can participate in the service system. In this study, we explore the evolution of boundary resources. Drawing on Pickeringâ\\x80\\x99s (1993) and Barrett et al.â\\x80\\x99s (2012) conceptualizations of tuning, the paper seeks to forward our understanding of how heterogeneous actors engage in the tuning of boundary resources within Appleâ\\x80\\x99s iOS service system. We conduct an embedded case study of Appleâ\\x80\\x99s iOS service system with an in-depth analysis of 4,664 blog articles concerned with 30 boundary resources covering 6 distinct themes. Our analysis reveals that boundary resources of service systems enabled by digital technology are shaped and reshaped through distributed tuning, which involves cascading actions of accommodations and rejections of a network of heterogeneous actors and artifacts. Our study also shows the dualistic role of power in the distributed tuning process.</em></p>',\n",
       "   'articleid': '3229',\n",
       "   'context_key': '6759459',\n",
       "   'coverpage_url': 'http://aisel.aisnet.org/misq/vol39/iss1/13',\n",
       "   'document_type': 'article',\n",
       "   'fpage': '217',\n",
       "   'fulltext_url': 'http://aisel.aisnet.org/cgi/viewcontent.cgi?article=3229&amp;context=misq&amp;unstamped=1',\n",
       "   'label': '13',\n",
       "   'lpage': '243',\n",
       "   'pages': '27',\n",
       "   'publication_date': '2015-03-01T00:00:00-08:00',\n",
       "   'publication_title': 'Management Information Systems Quarterly',\n",
       "   'submission_date': '2015-03-02T12:13:08-08:00',\n",
       "   'submission_path': 'misq/vol39/iss1/13',\n",
       "   'title': \"Distributed Tuning of Boundary Resources:  The Case of Apple's iOS Service System\",\n",
       "   'type': 'article'}],\n",
       " 'Field': [{'name': 'embargo_date',\n",
       "   'type': 'date',\n",
       "   'value': '2015-03-02T00:00:00-08:00'},\n",
       "  {'name': 'peer_reviewed', 'type': 'boolean', 'value': 'true'},\n",
       "  {'name': 'publication_date',\n",
       "   'type': 'date',\n",
       "   'value': '2015-03-01T00:00:00-08:00'},\n",
       "  {'name': 'short_title',\n",
       "   'type': 'string',\n",
       "   'value': 'Distributed Tuning of Boundary Resources'}],\n",
       " 'Journal': [{'domain': 'misq', 'iss': 'iss1', 'label': '13', 'vol': 'vol39'}],\n",
       " 'Keyword': [{'keyword': 'Service system innovation'},\n",
       "  {'keyword': 'mobile platform'},\n",
       "  {'keyword': 'ecosystem'},\n",
       "  {'keyword': 'digital infrastructure'},\n",
       "  {'keyword': 'boundary resource dynamics'},\n",
       "  {'keyword': 'tuning'},\n",
       "  {'keyword': 'sociomateriality'},\n",
       "  {'keyword': 'iOS'}]}"
      ]
     },
     "execution_count": 29,
     "metadata": {},
     "output_type": "execute_result"
    }
   ],
   "source": [
    "parseXML2dict(path2)"
   ]
  },
  {
   "cell_type": "code",
   "execution_count": 30,
   "metadata": {
    "collapsed": true,
    "nbpresent": {
     "id": "310869ad-89eb-4c68-a70c-265f8c2f33b6"
    }
   },
   "outputs": [],
   "source": [
    "path3 = '/Users/floyd/Projects/misq/misq/vol1/iss1/1/metadata.xml'"
   ]
  },
  {
   "cell_type": "code",
   "execution_count": 31,
   "metadata": {
    "collapsed": false,
    "nbpresent": {
     "id": "0e75a954-dd8d-41a0-91bd-adf801ed845c"
    }
   },
   "outputs": [
    {
     "data": {
      "text/plain": [
       "{'Author': [{'email': '',\n",
       "   'fname': 'Gerald',\n",
       "   'full_name': 'Gerald//Matlin',\n",
       "   'institution': '',\n",
       "   'lname': 'Matlin',\n",
       "   'mname': ''}],\n",
       " 'Document': [{'abstract': '',\n",
       "   'articleid': '1801',\n",
       "   'context_key': '583177',\n",
       "   'coverpage_url': 'http://aisel.aisnet.org/misq/vol1/iss1/1',\n",
       "   'document_type': 'article',\n",
       "   'fpage': '',\n",
       "   'fulltext_url': 'http://aisel.aisnet.org/cgi/viewcontent.cgi?article=1801&amp;context=misq&amp;unstamped=1',\n",
       "   'label': '1',\n",
       "   'lpage': '',\n",
       "   'pages': '',\n",
       "   'publication_date': '1977-12-31T00:00:00-08:00',\n",
       "   'publication_title': 'Management Information Systems Quarterly',\n",
       "   'submission_date': '2008-08-18T07:00:03-07:00',\n",
       "   'submission_path': 'misq/vol1/iss1/1',\n",
       "   'title': 'How to Survive a Management Assessment',\n",
       "   'type': 'article'}],\n",
       " 'Field': [{'name': 'peer_reviewed', 'type': 'boolean', 'value': 'true'},\n",
       "  {'name': 'publication_date',\n",
       "   'type': 'date',\n",
       "   'value': '1977-12-31T00:00:00-08:00'}],\n",
       " 'Journal': [{'domain': 'misq', 'iss': 'iss1', 'label': '1', 'vol': 'vol1'}],\n",
       " 'Keyword': []}"
      ]
     },
     "execution_count": 31,
     "metadata": {},
     "output_type": "execute_result"
    }
   ],
   "source": [
    "parseXML2dict(path3)"
   ]
  },
  {
   "cell_type": "code",
   "execution_count": null,
   "metadata": {
    "collapsed": false,
    "nbpresent": {
     "id": "fb5c55e1-6f1b-4ca1-88f3-e0822caf070c"
    }
   },
   "outputs": [],
   "source": []
  },
  {
   "cell_type": "code",
   "execution_count": null,
   "metadata": {
    "collapsed": false,
    "nbpresent": {
     "id": "c8a50bff-64dc-4861-bbd9-8ea7c85fe136"
    }
   },
   "outputs": [],
   "source": []
  },
  {
   "cell_type": "markdown",
   "metadata": {
    "collapsed": true,
    "nbpresent": {
     "id": "3ba51991-be40-4026-9878-6014e1c3feba"
    }
   },
   "source": [
    "## 2. `Models.py`: construct database models to store the data\n",
    "\n",
    "This part's focus is how to use sqlalchemy to construct database models.\n",
    "\n",
    "For further information about `sqlalchemy`, visit: http://docs.sqlalchemy.org/en/latest/\n",
    "\n",
    "And this tutorial uses `sqlite3` instead of `MySQL` or `PostgreSQL`.\n",
    "\n",
    "These models will be the containers which store the dictionary returned by function `parseXML2dict()`.\n",
    "\n",
    "Two main sections:\n",
    "\n",
    "1. Building basic mapping table classes\n",
    "2. Building relationships\n",
    "\n",
    "\n"
   ]
  },
  {
   "cell_type": "markdown",
   "metadata": {
    "nbpresent": {
     "id": "f7d16e11-cc94-47b1-a1cf-5b088429ed6e"
    }
   },
   "source": [
    "### 1 Building basic mapping table classes\n",
    "\n",
    "Import the needed packages or methods."
   ]
  },
  {
   "cell_type": "code",
   "execution_count": 32,
   "metadata": {
    "collapsed": true,
    "nbpresent": {
     "id": "b3d8d311-0bd1-43ce-863e-e22fb4053c3f"
    }
   },
   "outputs": [],
   "source": [
    "# to get the database's absolute path.\n",
    "import os\n",
    "\n",
    "from sqlalchemy import create_engine\n",
    "from sqlalchemy.ext.declarative import declarative_base\n",
    "\n",
    "# for building the basic mapping table classes.\n",
    "from sqlalchemy import Column, String, Integer, Table\n",
    "\n",
    "# for building relationships among tables.\n",
    "from sqlalchemy import ForeignKey\n",
    "from sqlalchemy.orm import relationship\n"
   ]
  },
  {
   "cell_type": "markdown",
   "metadata": {
    "nbpresent": {
     "id": "296c93bd-5ebb-4eb8-aa38-d590a6c7c6ff"
    }
   },
   "source": [
    "Define the function to create connection with database and to create essential table class"
   ]
  },
  {
   "cell_type": "code",
   "execution_count": 33,
   "metadata": {
    "collapsed": true,
    "nbpresent": {
     "id": "1bdeb128-6050-426c-8e9a-ca0409712e9d"
    }
   },
   "outputs": [],
   "source": [
    "# create_engine need database URI as the augument.\n",
    "# sqlite3's URI form (for Mac) is such: 'sqlite:////absolute/path/to/database'\n",
    "def db_connect(basedir):\n",
    "    return create_engine('sqlite:///'+os.path.join(basedir, 'data.sqlite'))\n",
    "\n",
    "# we get Base from the initializaiton of class declarative_base\n",
    "# Base will be the basic table which will be extended to other tables\n",
    "# then we connect this basic table to the engine.\n",
    "Base= declarative_base()\n",
    "def create_table(engine):\n",
    "    Base.metadata.create_all(engine)"
   ]
  },
  {
   "cell_type": "markdown",
   "metadata": {
    "nbpresent": {
     "id": "0014450f-4bc9-47ed-8ab3-614a4d5a3fb8"
    }
   },
   "source": [
    "Construct table classes"
   ]
  },
  {
   "cell_type": "markdown",
   "metadata": {
    "nbpresent": {
     "id": "cadac239-aa36-461c-a8fc-8ae67e61eed9"
    }
   },
   "source": [
    "```python\n",
    "\n",
    "# let's first take document table class as an example\n",
    "class Document(Base):\n",
    "    # the tablename in Database\n",
    "    __tablename__='documents'\n",
    "\n",
    "    # every column is an object of class Column\n",
    "    # Integer, String: datatype\n",
    "    # 'title', 'abstract': column label. optional\n",
    "    id = Column(Integer, primary_key=True)\n",
    "\n",
    "    title=Column('title', String)\n",
    "\n",
    "    abstract=Column('abstract', String)\n",
    "\n",
    "    publication_date=Column(\"publication_date\", String)\n",
    "\n",
    "    submission_date=Column(\"submission_date\", String)\n",
    "\n",
    "    coverpage_url=Column(\"cover_url\", String)\n",
    "    fulltext_url=Column(\"full_url\", String)\n",
    "\n",
    "    fpage=Column(\"first_page\", String)\n",
    "    lpage=Column(\"last_page\", String)\n",
    "    pages=Column(\"pages\", String)\n",
    "\n",
    "    document_type=Column(\"document_type\", String)\n",
    "\n",
    "    type=Column(\"type\", String)\n",
    "    articleid=Column(\"article_id\",String)\n",
    "\n",
    "    context_key=Column(\"context_key\", String)\n",
    "\n",
    "    label=Column(\"label\", String)\n",
    "\n",
    "    publication_title=Column(String)\n",
    "\n",
    "    submission_path=Column(\"submission_path\", String) \n",
    "    \n",
    "    \n",
    "    def __repr__(self):\n",
    "        return \"<Document(title=%r)>\" %self.title\n",
    "    \n",
    "    \n",
    "# essentially, every column label is from list: dbv_documents.\n",
    "\n",
    "# other table classes follow the same pattern\n",
    "\n",
    "```"
   ]
  },
  {
   "cell_type": "markdown",
   "metadata": {
    "nbpresent": {
     "id": "039d9511-324c-4b27-8f22-603306882909"
    }
   },
   "source": [
    "### 2 Construct relationships between tables.\n",
    "\n",
    "We must notice that there are relationships between tables\n",
    "\n",
    "> __One to One__:\n",
    ">\n",
    "> For `documents` and `journal`, there is a one to one relationship\n",
    ">\n",
    "> (journal's entry is generated from document's submission_path)\n",
    ">\n",
    ">\n",
    "> __One to Many__:\n",
    ">\n",
    "> There exits one to many relationship.\n",
    ">\n",
    "> Take a classes table and a students table for instance.\n",
    ">\n",
    "> A class will have many students who are in this class.\n",
    ">\n",
    "> A student will only have one class generally.\n",
    ">\n",
    "> So this is a one to many relationship.\n",
    ">\n",
    ">\n",
    "> __Many to Many__:\n",
    ">\n",
    "> For many to many relationship, take this example\n",
    ">\n",
    "> A courses table and a students table\n",
    ">\n",
    "> A course will have many students who attend this course\n",
    ">\n",
    "> And a student will have many courses for the courses he or she attends.\n",
    "\n",
    "\n",
    "And will have many \"m:m\" relationships here:\n",
    "+ documents : authors\n",
    "+ documents : keywords\n",
    "+ documents : fields\n",
    "\n",
    "It is true that between `authors` table and `keyword` table, there are also a m:m relationship between them.\n",
    "\n",
    "However, we can achieve this by using the SQL language.\n",
    "\n",
    "So, to make life easy, we do not establish this relationship in `models.py`.\n",
    "\n",
    "\n",
    "\n",
    "##### Take documents and authors tables as example."
   ]
  },
  {
   "cell_type": "markdown",
   "metadata": {
    "nbpresent": {
     "id": "30ae2738-b0f2-49f5-a21c-882f6ee6f0a2"
    }
   },
   "source": [
    "```python\n",
    "\n",
    "# we create an register table here.\n",
    "# this table has two columns: 'documents_id' and 'authors_id'\n",
    "\n",
    "documents_authors = Table('documents_authors', Base.metadata,\n",
    "                          Column('documents_id', ForeignKey(\"documents.id\"), primary_key=True),\n",
    "                          Column('authors_id', ForeignKey(\"authors.id\"), primary_key=True))\n",
    "\n",
    "class Document(Base):\n",
    "    #### This part is not change, is the same as above ####\n",
    "    __tablename__='documents'\n",
    "\n",
    "    id = Column(Integer, primary_key=True)\n",
    "\n",
    "    title=Column('title', String)\n",
    "\n",
    "    abstract=Column('abstract', String)\n",
    "\n",
    "    publication_date=Column(\"publication_date\", String)\n",
    "\n",
    "    submission_date=Column(\"submission_date\", String)\n",
    "\n",
    "    coverpage_url=Column(\"cover_url\", String)\n",
    "    fulltext_url=Column(\"full_url\", String)\n",
    "\n",
    "    fpage=Column(\"first_page\", String)\n",
    "    lpage=Column(\"last_page\", String)\n",
    "    pages=Column(\"pages\", String)\n",
    "\n",
    "    document_type=Column(\"document_type\", String)\n",
    "\n",
    "    type=Column(\"type\", String)\n",
    "    articleid=Column(\"article_id\",String)\n",
    "\n",
    "    context_key=Column(\"context_key\", String)\n",
    "\n",
    "    label=Column(\"label\", String)\n",
    "\n",
    "    publication_title=Column(String)\n",
    "\n",
    "    submission_path=Column(\"submission_path\", String) \n",
    "    ##### So you can skip this part ####\n",
    "    \n",
    "    \n",
    "    # this is corresponding to the register table above.\n",
    "    # here we use the relationship() method\n",
    "    \n",
    "    authors=relationship(\"Author\", \n",
    "                         secondary=documents_authors,\n",
    "                         back_populates=\"documents\")\n",
    "    \n",
    "    def __repr__(self):\n",
    "        return \"<Document(title=%r)>\" %self.title\n",
    "\n",
    "    \n",
    "class Author(Base):\n",
    "    __tablename__='authors'\n",
    "    #### this part is in the same pattern of document table ####\n",
    "    id= Column(Integer,primary_key=True)\n",
    "    \n",
    "    email=Column(\"email\", String)\n",
    "    institution=Column(\"institution\", String)\n",
    "    \n",
    "    lname=Column(\"last_name\", String)\n",
    "    fname=Column(\"first_name\", String)\n",
    "    mname=Column(\"middle_name\", String)\n",
    "    full_name=Column(\"full_name\", String, nullable=True)\n",
    "    ### these are mapping columns, the column labels are from the list: dbv_author. ###\n",
    "    \n",
    "    \n",
    "    \n",
    "    documents=relationship('Document', \n",
    "                           secondary=documents_authors,\n",
    "                           back_populates=\"authors\")\n",
    "    \n",
    "    def __repr__(self):\n",
    "        return \"<Author(full_name=%r)>\" %self.full_name\n",
    "        \n",
    "```\n"
   ]
  },
  {
   "cell_type": "markdown",
   "metadata": {
    "nbpresent": {
     "id": "5d022499-81d6-4090-81b2-6318bdd2c4e6"
    }
   },
   "source": [
    "Following this pattern, we can draw the whole `models.py`."
   ]
  },
  {
   "cell_type": "markdown",
   "metadata": {
    "nbpresent": {
     "id": "4be29ee5-02ff-4c44-a2d3-837632939ae1"
    }
   },
   "source": [
    "## 3 `pipeline.py`: transfer dictionary data to database\n",
    "\n",
    "We first combine the database, and then create the session.\n",
    "\n",
    "and we use `parseXML2dict()` here.\n"
   ]
  },
  {
   "cell_type": "code",
   "execution_count": 34,
   "metadata": {
    "collapsed": false,
    "nbpresent": {
     "id": "eaf07f01-eb7c-4d48-90cb-89bd1a5eac97"
    }
   },
   "outputs": [],
   "source": [
    "from models import Document, Author, Keyword, Field, Journal"
   ]
  },
  {
   "cell_type": "code",
   "execution_count": 35,
   "metadata": {
    "collapsed": false,
    "nbpresent": {
     "id": "b7cbbd18-63d8-46bc-a41c-36c8796e8649"
    }
   },
   "outputs": [
    {
     "data": {
      "text/plain": [
       "function"
      ]
     },
     "execution_count": 35,
     "metadata": {},
     "output_type": "execute_result"
    }
   ],
   "source": [
    "type(parseXML2dict)"
   ]
  },
  {
   "cell_type": "code",
   "execution_count": 36,
   "metadata": {
    "collapsed": true,
    "nbpresent": {
     "id": "67cd9191-1384-44a5-9998-0638f27a875c"
    }
   },
   "outputs": [],
   "source": [
    "# using an easy name.\n",
    "par = parseXML2dict"
   ]
  },
  {
   "cell_type": "markdown",
   "metadata": {
    "nbpresent": {
     "id": "27ea5343-04d6-430d-8853-2a1c73a362f3"
    }
   },
   "source": [
    "#### Transfer entries to the database"
   ]
  },
  {
   "cell_type": "code",
   "execution_count": 37,
   "metadata": {
    "collapsed": true,
    "nbpresent": {
     "id": "4029c4b8-049d-486b-b7c1-ece7df8bf59c"
    }
   },
   "outputs": [],
   "source": [
    "\n",
    "# take absolute path and session as input\n",
    "# return nothing\n",
    "# but add all the entries to the database session\n",
    "\n",
    "def pipeline(abspath,session):\n",
    "    \n",
    "    #par() is parseXML2dict() imported from parse.py\n",
    "    d = par(abspath)\n",
    "    \n",
    "    # d[\"Document\"] is a list of dictionary\n",
    "    # as there is only one dict in this list.\n",
    "    # so by d['Document'][0]\n",
    "    # we directly get a document_dictionary: doc. \n",
    "    \n",
    "    doc = d[\"Document\"][0]\n",
    "    \n",
    "    # the argument **doc is keyword argument.\n",
    "    # we initialize Document with dictionary: doc\n",
    "    # then we get a model object doc_t\n",
    "    doc_t = Document(**doc)\n",
    "\n",
    "    # this object should be add to session, otherwise you cannot find it in session.\n",
    "    session.add(doc_t)\n",
    "    \n",
    "    # jour is the same pattern.\n",
    "    jour=d['Journal'][0]\n",
    "    jour_t=Journal(**jour)\n",
    "    \n",
    "    # here, for the documents column, we add doc_t to it.\n",
    "    jour_t.documents.append(doc_t)\n",
    "    \n",
    "    session.add(jour_t)\n",
    "\n",
    "    \n",
    "    # we use loop here, because len(d['Author']) != 1\n",
    "    for auth in d[\"Author\"]:\n",
    "        # we first check whether there is the same author in this session\n",
    "        auth_t = session.query(Author).filter_by(full_name=auth[\"full_name\"]).first()\n",
    "        if auth_t == None:\n",
    "            auth_t = Author(**auth)\n",
    "        \n",
    "        # if there exits this author, update his or her information\n",
    "        else:\n",
    "            for k, v in auth.items():\n",
    "                auth_t.__setattr__(k,v)\n",
    "                \n",
    "        # append doc_t\n",
    "        auth_t.documents.append(doc_t)\n",
    "        session.add(auth_t)\n",
    "    \n",
    "    \n",
    "    for key in d[\"Keyword\"]:\n",
    "        # some documents may not have keywords\n",
    "        # if we omit this line, an Error will be raised.\n",
    "        if len(key) != 0:\n",
    "            \n",
    "            key_t=session.query(Keyword).filter_by(keyword=key[\"keyword\"]).first()\n",
    "            if key_t == None:\n",
    "                key_t = Keyword(**key)\n",
    "            else:\n",
    "                for k,v in key.items():\n",
    "                    key_t.__setattr__(k,v)\n",
    "            key_t.documents.append(doc_t)\n",
    "            session.add(key_t)\n",
    "    \n",
    "    \n",
    "    for fld in d[\"Field\"]:\n",
    "        fld_t=session.query(Field).filter_by(name=fld[\"name\"],value=fld[\"value\"],type=fld[\"type\"]).first()\n",
    "        if fld_t == None:\n",
    "            fld_t = Field(**fld)\n",
    "        else:\n",
    "            for k,v in fld.items():\n",
    "                fld_t.__setattr__(k,v)\n",
    "        fld_t.documents.append(doc_t)\n",
    "        session.add(fld_t)\n",
    "\n"
   ]
  },
  {
   "cell_type": "markdown",
   "metadata": {
    "nbpresent": {
     "id": "7a9b730b-6f0f-46a7-8cf3-3e15e1f68540"
    }
   },
   "source": [
    "## 4 `main.py`\n",
    "\n",
    "This module will do this three main things:\n",
    "\n",
    "1. Connecting to database\n",
    "2. Walking through the directory\n",
    "3. Reporting the information"
   ]
  },
  {
   "cell_type": "markdown",
   "metadata": {
    "nbpresent": {
     "id": "185194b2-20d6-48c5-8287-1615e4b6ecd0"
    }
   },
   "source": [
    "### 1 Connecting to database"
   ]
  },
  {
   "cell_type": "code",
   "execution_count": 38,
   "metadata": {
    "collapsed": true,
    "nbpresent": {
     "id": "84e1f157-1224-420e-8898-83dc1fdf2740"
    }
   },
   "outputs": [],
   "source": [
    "import os\n",
    "\n",
    "# input function pipeline()\n",
    "from pipeline import pipeline\n",
    "\n",
    "# input database related methods\n",
    "from models import db_connect, create_table\n",
    "from sqlalchemy.orm import sessionmaker\n",
    "from sqlalchemy import create_engine\n",
    "\n"
   ]
  },
  {
   "cell_type": "code",
   "execution_count": 39,
   "metadata": {
    "collapsed": false,
    "nbpresent": {
     "id": "7ee083cd-f7cf-4a82-8b0c-64e33785933f"
    }
   },
   "outputs": [
    {
     "data": {
      "text/plain": [
       "'/Users/floyd/Projects/misq'"
      ]
     },
     "execution_count": 39,
     "metadata": {},
     "output_type": "execute_result"
    }
   ],
   "source": [
    "os.getcwd()"
   ]
  },
  {
   "cell_type": "code",
   "execution_count": 40,
   "metadata": {
    "collapsed": true,
    "nbpresent": {
     "id": "a2f5468d-59a4-472e-843d-7b181c197926"
    }
   },
   "outputs": [],
   "source": [
    "engine = db_connect(os.getcwd())\n",
    "create_table(engine)\n",
    "Session = sessionmaker(bind=engine)\n",
    "session = Session()"
   ]
  },
  {
   "cell_type": "markdown",
   "metadata": {
    "nbpresent": {
     "id": "50dfe8c8-260e-4e83-99d2-16d257db0019"
    }
   },
   "source": [
    "### 2 Walking through directory"
   ]
  },
  {
   "cell_type": "code",
   "execution_count": 41,
   "metadata": {
    "collapsed": true,
    "nbpresent": {
     "id": "fdc9ef02-6014-4289-b1b6-f94c9a5da740"
    }
   },
   "outputs": [],
   "source": [
    "# here we use os.walk to try to get all the xml file absolute path.\n",
    "\n",
    "def generate_path(rootpath):\n",
    "    for dirpath, dirnames, filenames in os.walk(rootpath):\n",
    "        for filename in filenames:\n",
    "            if \".xml\" in filename:\n",
    "                if \"._\" not in filename:\n",
    "                    yield os.path.join(dirpath,filename)"
   ]
  },
  {
   "cell_type": "code",
   "execution_count": 42,
   "metadata": {
    "collapsed": false,
    "nbpresent": {
     "id": "5531099e-8c69-4c7b-bc95-40351150c42c"
    }
   },
   "outputs": [
    {
     "data": {
      "text/plain": [
       "'/Users/floyd/Projects/misq/misq'"
      ]
     },
     "execution_count": 42,
     "metadata": {},
     "output_type": "execute_result"
    }
   ],
   "source": [
    "rootpath=os.getcwd()+'/misq'\n",
    "rootpath"
   ]
  },
  {
   "cell_type": "code",
   "execution_count": 43,
   "metadata": {
    "collapsed": true,
    "nbpresent": {
     "id": "9b2467d6-c3a4-4c5c-b032-8711adec7db9"
    }
   },
   "outputs": [],
   "source": [
    "xmlpath=generate_path(rootpath)"
   ]
  },
  {
   "cell_type": "code",
   "execution_count": 44,
   "metadata": {
    "collapsed": false,
    "nbpresent": {
     "id": "0a33f1f1-1f57-4f5c-b321-715a3fbda651"
    }
   },
   "outputs": [
    {
     "data": {
      "text/plain": [
       "generator"
      ]
     },
     "execution_count": 44,
     "metadata": {},
     "output_type": "execute_result"
    }
   ],
   "source": [
    "# xlmpath is a generator.\n",
    "type(xmlpath)"
   ]
  },
  {
   "cell_type": "code",
   "execution_count": 45,
   "metadata": {
    "collapsed": false,
    "nbpresent": {
     "id": "f136934e-c839-44e7-bc45-96ff271895d6"
    }
   },
   "outputs": [
    {
     "name": "stdout",
     "output_type": "stream",
     "text": [
      "/Users/floyd/Projects/misq/misq/vol1/iss1/1/metadata.xml\n",
      "/Users/floyd/Projects/misq/misq/vol1/iss1/10/metadata.xml\n",
      "/Users/floyd/Projects/misq/misq/vol1/iss1/11/metadata.xml\n",
      "/Users/floyd/Projects/misq/misq/vol1/iss1/12/metadata.xml\n",
      "/Users/floyd/Projects/misq/misq/vol1/iss1/13/metadata.xml\n",
      "/Users/floyd/Projects/misq/misq/vol1/iss1/14/metadata.xml\n",
      "/Users/floyd/Projects/misq/misq/vol1/iss1/15/metadata.xml\n",
      "/Users/floyd/Projects/misq/misq/vol1/iss1/2/metadata.xml\n",
      "/Users/floyd/Projects/misq/misq/vol1/iss1/3/metadata.xml\n",
      "/Users/floyd/Projects/misq/misq/vol1/iss1/4/metadata.xml\n",
      "/Users/floyd/Projects/misq/misq/vol1/iss1/5/metadata.xml\n",
      "/Users/floyd/Projects/misq/misq/vol1/iss1/6/metadata.xml\n",
      "/Users/floyd/Projects/misq/misq/vol1/iss1/7/metadata.xml\n",
      "/Users/floyd/Projects/misq/misq/vol1/iss1/8/metadata.xml\n",
      "/Users/floyd/Projects/misq/misq/vol1/iss1/9/metadata.xml\n",
      "/Users/floyd/Projects/misq/misq/vol10/iss1/1/metadata.xml\n",
      "/Users/floyd/Projects/misq/misq/vol10/iss1/2/metadata.xml\n",
      "/Users/floyd/Projects/misq/misq/vol10/iss1/3/metadata.xml\n",
      "/Users/floyd/Projects/misq/misq/vol10/iss1/4/metadata.xml\n",
      "/Users/floyd/Projects/misq/misq/vol10/iss1/5/metadata.xml\n",
      "/Users/floyd/Projects/misq/misq/vol10/iss2/1/metadata.xml\n",
      "/Users/floyd/Projects/misq/misq/vol10/iss2/2/metadata.xml\n",
      "/Users/floyd/Projects/misq/misq/vol10/iss2/3/metadata.xml\n",
      "/Users/floyd/Projects/misq/misq/vol10/iss2/4/metadata.xml\n",
      "/Users/floyd/Projects/misq/misq/vol10/iss2/5/metadata.xml\n",
      "/Users/floyd/Projects/misq/misq/vol10/iss2/6/metadata.xml\n",
      "/Users/floyd/Projects/misq/misq/vol10/iss3/1/metadata.xml\n",
      "/Users/floyd/Projects/misq/misq/vol10/iss3/2/metadata.xml\n",
      "/Users/floyd/Projects/misq/misq/vol10/iss3/3/metadata.xml\n",
      "/Users/floyd/Projects/misq/misq/vol10/iss3/4/metadata.xml\n",
      "/Users/floyd/Projects/misq/misq/vol10/iss3/5/metadata.xml\n",
      "/Users/floyd/Projects/misq/misq/vol10/iss3/6/metadata.xml\n",
      "/Users/floyd/Projects/misq/misq/vol10/iss3/7/metadata.xml\n",
      "/Users/floyd/Projects/misq/misq/vol10/iss4/1/metadata.xml\n",
      "/Users/floyd/Projects/misq/misq/vol10/iss4/2/metadata.xml\n",
      "/Users/floyd/Projects/misq/misq/vol10/iss4/3/metadata.xml\n",
      "/Users/floyd/Projects/misq/misq/vol10/iss4/4/metadata.xml\n",
      "/Users/floyd/Projects/misq/misq/vol10/iss4/5/metadata.xml\n",
      "/Users/floyd/Projects/misq/misq/vol10/iss4/6/metadata.xml\n",
      "/Users/floyd/Projects/misq/misq/vol10/iss4/7/metadata.xml\n",
      "/Users/floyd/Projects/misq/misq/vol10/iss4/8/metadata.xml\n",
      "/Users/floyd/Projects/misq/misq/vol11/iss1/1/metadata.xml\n",
      "/Users/floyd/Projects/misq/misq/vol11/iss1/2/metadata.xml\n",
      "/Users/floyd/Projects/misq/misq/vol11/iss1/3/metadata.xml\n",
      "/Users/floyd/Projects/misq/misq/vol11/iss1/4/metadata.xml\n",
      "/Users/floyd/Projects/misq/misq/vol11/iss1/5/metadata.xml\n",
      "/Users/floyd/Projects/misq/misq/vol11/iss1/6/metadata.xml\n",
      "/Users/floyd/Projects/misq/misq/vol11/iss1/7/metadata.xml\n",
      "/Users/floyd/Projects/misq/misq/vol11/iss1/8/metadata.xml\n",
      "/Users/floyd/Projects/misq/misq/vol11/iss2/1/metadata.xml\n",
      "/Users/floyd/Projects/misq/misq/vol11/iss2/2/metadata.xml\n",
      "/Users/floyd/Projects/misq/misq/vol11/iss2/3/metadata.xml\n",
      "/Users/floyd/Projects/misq/misq/vol11/iss2/4/metadata.xml\n",
      "/Users/floyd/Projects/misq/misq/vol11/iss2/5/metadata.xml\n",
      "/Users/floyd/Projects/misq/misq/vol11/iss2/6/metadata.xml\n",
      "/Users/floyd/Projects/misq/misq/vol11/iss2/7/metadata.xml\n",
      "/Users/floyd/Projects/misq/misq/vol11/iss2/8/metadata.xml\n",
      "/Users/floyd/Projects/misq/misq/vol11/iss3/1/metadata.xml\n",
      "/Users/floyd/Projects/misq/misq/vol11/iss3/2/metadata.xml\n",
      "/Users/floyd/Projects/misq/misq/vol11/iss3/3/metadata.xml\n",
      "/Users/floyd/Projects/misq/misq/vol11/iss3/4/metadata.xml\n",
      "/Users/floyd/Projects/misq/misq/vol11/iss3/5/metadata.xml\n",
      "/Users/floyd/Projects/misq/misq/vol11/iss3/6/metadata.xml\n",
      "/Users/floyd/Projects/misq/misq/vol11/iss3/7/metadata.xml\n",
      "/Users/floyd/Projects/misq/misq/vol11/iss3/8/metadata.xml\n",
      "/Users/floyd/Projects/misq/misq/vol11/iss3/9/metadata.xml\n",
      "/Users/floyd/Projects/misq/misq/vol11/iss4/1/metadata.xml\n",
      "/Users/floyd/Projects/misq/misq/vol11/iss4/2/metadata.xml\n",
      "/Users/floyd/Projects/misq/misq/vol11/iss4/3/metadata.xml\n",
      "/Users/floyd/Projects/misq/misq/vol11/iss4/4/metadata.xml\n",
      "/Users/floyd/Projects/misq/misq/vol11/iss4/5/metadata.xml\n",
      "/Users/floyd/Projects/misq/misq/vol11/iss4/6/metadata.xml\n",
      "/Users/floyd/Projects/misq/misq/vol11/iss4/7/metadata.xml\n",
      "/Users/floyd/Projects/misq/misq/vol11/iss4/8/metadata.xml\n",
      "/Users/floyd/Projects/misq/misq/vol12/iss1/1/metadata.xml\n",
      "/Users/floyd/Projects/misq/misq/vol12/iss1/10/metadata.xml\n",
      "/Users/floyd/Projects/misq/misq/vol12/iss1/11/metadata.xml\n",
      "/Users/floyd/Projects/misq/misq/vol12/iss1/12/metadata.xml\n",
      "/Users/floyd/Projects/misq/misq/vol12/iss1/13/metadata.xml\n",
      "/Users/floyd/Projects/misq/misq/vol12/iss1/14/metadata.xml\n",
      "/Users/floyd/Projects/misq/misq/vol12/iss1/15/metadata.xml\n",
      "/Users/floyd/Projects/misq/misq/vol12/iss1/16/metadata.xml\n",
      "/Users/floyd/Projects/misq/misq/vol12/iss1/17/metadata.xml\n",
      "/Users/floyd/Projects/misq/misq/vol12/iss1/18/metadata.xml\n",
      "/Users/floyd/Projects/misq/misq/vol12/iss1/2/metadata.xml\n",
      "/Users/floyd/Projects/misq/misq/vol12/iss1/3/metadata.xml\n",
      "/Users/floyd/Projects/misq/misq/vol12/iss1/4/metadata.xml\n",
      "/Users/floyd/Projects/misq/misq/vol12/iss1/5/metadata.xml\n",
      "/Users/floyd/Projects/misq/misq/vol12/iss1/6/metadata.xml\n",
      "/Users/floyd/Projects/misq/misq/vol12/iss1/7/metadata.xml\n",
      "/Users/floyd/Projects/misq/misq/vol12/iss1/8/metadata.xml\n",
      "/Users/floyd/Projects/misq/misq/vol12/iss1/9/metadata.xml\n",
      "/Users/floyd/Projects/misq/misq/vol12/iss2/1/metadata.xml\n",
      "/Users/floyd/Projects/misq/misq/vol12/iss2/10/metadata.xml\n",
      "/Users/floyd/Projects/misq/misq/vol12/iss2/11/metadata.xml\n",
      "/Users/floyd/Projects/misq/misq/vol12/iss2/12/metadata.xml\n",
      "/Users/floyd/Projects/misq/misq/vol12/iss2/13/metadata.xml\n",
      "/Users/floyd/Projects/misq/misq/vol12/iss2/14/metadata.xml\n",
      "/Users/floyd/Projects/misq/misq/vol12/iss2/15/metadata.xml\n",
      "/Users/floyd/Projects/misq/misq/vol12/iss2/16/metadata.xml\n",
      "/Users/floyd/Projects/misq/misq/vol12/iss2/17/metadata.xml\n",
      "/Users/floyd/Projects/misq/misq/vol12/iss2/18/metadata.xml\n",
      "/Users/floyd/Projects/misq/misq/vol12/iss2/19/metadata.xml\n",
      "/Users/floyd/Projects/misq/misq/vol12/iss2/2/metadata.xml\n",
      "/Users/floyd/Projects/misq/misq/vol12/iss2/20/metadata.xml\n",
      "/Users/floyd/Projects/misq/misq/vol12/iss2/3/metadata.xml\n",
      "/Users/floyd/Projects/misq/misq/vol12/iss2/4/metadata.xml\n",
      "/Users/floyd/Projects/misq/misq/vol12/iss2/5/metadata.xml\n",
      "/Users/floyd/Projects/misq/misq/vol12/iss2/6/metadata.xml\n",
      "/Users/floyd/Projects/misq/misq/vol12/iss2/7/metadata.xml\n",
      "/Users/floyd/Projects/misq/misq/vol12/iss2/8/metadata.xml\n",
      "/Users/floyd/Projects/misq/misq/vol12/iss2/9/metadata.xml\n",
      "/Users/floyd/Projects/misq/misq/vol12/iss3/1/metadata.xml\n",
      "/Users/floyd/Projects/misq/misq/vol12/iss3/10/metadata.xml\n",
      "/Users/floyd/Projects/misq/misq/vol12/iss3/11/metadata.xml\n",
      "/Users/floyd/Projects/misq/misq/vol12/iss3/12/metadata.xml\n",
      "/Users/floyd/Projects/misq/misq/vol12/iss3/13/metadata.xml\n",
      "/Users/floyd/Projects/misq/misq/vol12/iss3/14/metadata.xml\n",
      "/Users/floyd/Projects/misq/misq/vol12/iss3/15/metadata.xml\n",
      "/Users/floyd/Projects/misq/misq/vol12/iss3/16/metadata.xml\n",
      "/Users/floyd/Projects/misq/misq/vol12/iss3/2/metadata.xml\n",
      "/Users/floyd/Projects/misq/misq/vol12/iss3/3/metadata.xml\n",
      "/Users/floyd/Projects/misq/misq/vol12/iss3/4/metadata.xml\n",
      "/Users/floyd/Projects/misq/misq/vol12/iss3/5/metadata.xml\n",
      "/Users/floyd/Projects/misq/misq/vol12/iss3/6/metadata.xml\n",
      "/Users/floyd/Projects/misq/misq/vol12/iss3/7/metadata.xml\n",
      "/Users/floyd/Projects/misq/misq/vol12/iss3/8/metadata.xml\n",
      "/Users/floyd/Projects/misq/misq/vol12/iss3/9/metadata.xml\n",
      "/Users/floyd/Projects/misq/misq/vol12/iss4/1/metadata.xml\n",
      "/Users/floyd/Projects/misq/misq/vol12/iss4/10/metadata.xml\n",
      "/Users/floyd/Projects/misq/misq/vol12/iss4/11/metadata.xml\n",
      "/Users/floyd/Projects/misq/misq/vol12/iss4/12/metadata.xml\n",
      "/Users/floyd/Projects/misq/misq/vol12/iss4/13/metadata.xml\n",
      "/Users/floyd/Projects/misq/misq/vol12/iss4/14/metadata.xml\n",
      "/Users/floyd/Projects/misq/misq/vol12/iss4/15/metadata.xml\n",
      "/Users/floyd/Projects/misq/misq/vol12/iss4/16/metadata.xml\n",
      "/Users/floyd/Projects/misq/misq/vol12/iss4/17/metadata.xml\n",
      "/Users/floyd/Projects/misq/misq/vol12/iss4/18/metadata.xml\n",
      "/Users/floyd/Projects/misq/misq/vol12/iss4/2/metadata.xml\n",
      "/Users/floyd/Projects/misq/misq/vol12/iss4/3/metadata.xml\n",
      "/Users/floyd/Projects/misq/misq/vol12/iss4/4/metadata.xml\n",
      "/Users/floyd/Projects/misq/misq/vol12/iss4/5/metadata.xml\n",
      "/Users/floyd/Projects/misq/misq/vol12/iss4/6/metadata.xml\n",
      "/Users/floyd/Projects/misq/misq/vol12/iss4/7/metadata.xml\n",
      "/Users/floyd/Projects/misq/misq/vol12/iss4/8/metadata.xml\n",
      "/Users/floyd/Projects/misq/misq/vol12/iss4/9/metadata.xml\n",
      "/Users/floyd/Projects/misq/misq/vol13/iss1/1/metadata.xml\n",
      "/Users/floyd/Projects/misq/misq/vol13/iss1/2/metadata.xml\n",
      "/Users/floyd/Projects/misq/misq/vol13/iss1/3/metadata.xml\n",
      "/Users/floyd/Projects/misq/misq/vol13/iss1/4/metadata.xml\n",
      "/Users/floyd/Projects/misq/misq/vol13/iss1/5/metadata.xml\n",
      "/Users/floyd/Projects/misq/misq/vol13/iss2/1/metadata.xml\n",
      "/Users/floyd/Projects/misq/misq/vol13/iss2/2/metadata.xml\n",
      "/Users/floyd/Projects/misq/misq/vol13/iss2/3/metadata.xml\n",
      "/Users/floyd/Projects/misq/misq/vol13/iss2/4/metadata.xml\n",
      "/Users/floyd/Projects/misq/misq/vol13/iss2/5/metadata.xml\n",
      "/Users/floyd/Projects/misq/misq/vol13/iss2/6/metadata.xml\n",
      "/Users/floyd/Projects/misq/misq/vol13/iss2/7/metadata.xml\n",
      "/Users/floyd/Projects/misq/misq/vol13/iss2/8/metadata.xml\n",
      "/Users/floyd/Projects/misq/misq/vol13/iss3/1/metadata.xml\n",
      "/Users/floyd/Projects/misq/misq/vol13/iss3/2/metadata.xml\n",
      "/Users/floyd/Projects/misq/misq/vol13/iss3/3/metadata.xml\n",
      "/Users/floyd/Projects/misq/misq/vol13/iss3/4/metadata.xml\n",
      "/Users/floyd/Projects/misq/misq/vol13/iss3/5/metadata.xml\n",
      "/Users/floyd/Projects/misq/misq/vol13/iss3/6/metadata.xml\n",
      "/Users/floyd/Projects/misq/misq/vol13/iss3/7/metadata.xml\n",
      "/Users/floyd/Projects/misq/misq/vol13/iss3/8/metadata.xml\n",
      "/Users/floyd/Projects/misq/misq/vol13/iss4/1/metadata.xml\n",
      "/Users/floyd/Projects/misq/misq/vol13/iss4/2/metadata.xml\n",
      "/Users/floyd/Projects/misq/misq/vol13/iss4/3/metadata.xml\n",
      "/Users/floyd/Projects/misq/misq/vol13/iss4/4/metadata.xml\n",
      "/Users/floyd/Projects/misq/misq/vol13/iss4/5/metadata.xml\n",
      "/Users/floyd/Projects/misq/misq/vol13/iss4/6/metadata.xml\n",
      "/Users/floyd/Projects/misq/misq/vol13/iss4/7/metadata.xml\n",
      "/Users/floyd/Projects/misq/misq/vol13/iss4/8/metadata.xml\n",
      "/Users/floyd/Projects/misq/misq/vol14/iss1/1/metadata.xml\n",
      "/Users/floyd/Projects/misq/misq/vol14/iss1/2/metadata.xml\n",
      "/Users/floyd/Projects/misq/misq/vol14/iss1/3/metadata.xml\n",
      "/Users/floyd/Projects/misq/misq/vol14/iss1/4/metadata.xml\n",
      "/Users/floyd/Projects/misq/misq/vol14/iss1/5/metadata.xml\n",
      "/Users/floyd/Projects/misq/misq/vol14/iss1/6/metadata.xml\n",
      "/Users/floyd/Projects/misq/misq/vol14/iss2/1/metadata.xml\n",
      "/Users/floyd/Projects/misq/misq/vol14/iss2/2/metadata.xml\n",
      "/Users/floyd/Projects/misq/misq/vol14/iss2/3/metadata.xml\n",
      "/Users/floyd/Projects/misq/misq/vol14/iss2/4/metadata.xml\n",
      "/Users/floyd/Projects/misq/misq/vol14/iss2/5/metadata.xml\n",
      "/Users/floyd/Projects/misq/misq/vol14/iss2/6/metadata.xml\n",
      "/Users/floyd/Projects/misq/misq/vol14/iss3/1/metadata.xml\n",
      "/Users/floyd/Projects/misq/misq/vol14/iss3/2/metadata.xml\n",
      "/Users/floyd/Projects/misq/misq/vol14/iss3/3/metadata.xml\n",
      "/Users/floyd/Projects/misq/misq/vol14/iss3/4/metadata.xml\n",
      "/Users/floyd/Projects/misq/misq/vol14/iss3/5/metadata.xml\n",
      "/Users/floyd/Projects/misq/misq/vol14/iss4/1/metadata.xml\n",
      "/Users/floyd/Projects/misq/misq/vol14/iss4/2/metadata.xml\n",
      "/Users/floyd/Projects/misq/misq/vol14/iss4/3/metadata.xml\n",
      "/Users/floyd/Projects/misq/misq/vol14/iss4/4/metadata.xml\n",
      "/Users/floyd/Projects/misq/misq/vol14/iss4/5/metadata.xml\n",
      "/Users/floyd/Projects/misq/misq/vol14/iss4/6/metadata.xml\n",
      "/Users/floyd/Projects/misq/misq/vol14/iss4/7/metadata.xml\n",
      "/Users/floyd/Projects/misq/misq/vol15/iss1/1/metadata.xml\n",
      "/Users/floyd/Projects/misq/misq/vol15/iss1/2/metadata.xml\n",
      "/Users/floyd/Projects/misq/misq/vol15/iss1/3/metadata.xml\n",
      "/Users/floyd/Projects/misq/misq/vol15/iss1/4/metadata.xml\n",
      "/Users/floyd/Projects/misq/misq/vol15/iss1/5/metadata.xml\n",
      "/Users/floyd/Projects/misq/misq/vol15/iss1/6/metadata.xml\n",
      "/Users/floyd/Projects/misq/misq/vol15/iss1/7/metadata.xml\n",
      "/Users/floyd/Projects/misq/misq/vol15/iss2/1/metadata.xml\n",
      "/Users/floyd/Projects/misq/misq/vol15/iss2/2/metadata.xml\n",
      "/Users/floyd/Projects/misq/misq/vol15/iss2/3/metadata.xml\n",
      "/Users/floyd/Projects/misq/misq/vol15/iss2/4/metadata.xml\n",
      "/Users/floyd/Projects/misq/misq/vol15/iss2/5/metadata.xml\n",
      "/Users/floyd/Projects/misq/misq/vol15/iss2/6/metadata.xml\n",
      "/Users/floyd/Projects/misq/misq/vol15/iss3/1/metadata.xml\n",
      "/Users/floyd/Projects/misq/misq/vol15/iss3/2/metadata.xml\n",
      "/Users/floyd/Projects/misq/misq/vol15/iss3/3/metadata.xml\n",
      "/Users/floyd/Projects/misq/misq/vol15/iss3/4/metadata.xml\n",
      "/Users/floyd/Projects/misq/misq/vol15/iss3/5/metadata.xml\n",
      "/Users/floyd/Projects/misq/misq/vol15/iss3/6/metadata.xml\n",
      "/Users/floyd/Projects/misq/misq/vol15/iss3/7/metadata.xml\n",
      "/Users/floyd/Projects/misq/misq/vol15/iss4/1/metadata.xml\n",
      "/Users/floyd/Projects/misq/misq/vol15/iss4/2/metadata.xml\n",
      "/Users/floyd/Projects/misq/misq/vol15/iss4/3/metadata.xml\n",
      "/Users/floyd/Projects/misq/misq/vol15/iss4/4/metadata.xml\n",
      "/Users/floyd/Projects/misq/misq/vol15/iss4/5/metadata.xml\n",
      "/Users/floyd/Projects/misq/misq/vol15/iss4/6/metadata.xml\n",
      "/Users/floyd/Projects/misq/misq/vol15/iss4/7/metadata.xml\n",
      "/Users/floyd/Projects/misq/misq/vol15/iss4/8/metadata.xml\n",
      "/Users/floyd/Projects/misq/misq/vol16/iss1/1/metadata.xml\n",
      "/Users/floyd/Projects/misq/misq/vol16/iss1/2/metadata.xml\n",
      "/Users/floyd/Projects/misq/misq/vol16/iss1/3/metadata.xml\n",
      "/Users/floyd/Projects/misq/misq/vol16/iss1/4/metadata.xml\n",
      "/Users/floyd/Projects/misq/misq/vol16/iss1/5/metadata.xml\n",
      "/Users/floyd/Projects/misq/misq/vol16/iss1/6/metadata.xml\n",
      "/Users/floyd/Projects/misq/misq/vol16/iss2/1/metadata.xml\n",
      "/Users/floyd/Projects/misq/misq/vol16/iss2/2/metadata.xml\n",
      "/Users/floyd/Projects/misq/misq/vol16/iss2/3/metadata.xml\n",
      "/Users/floyd/Projects/misq/misq/vol16/iss2/4/metadata.xml\n",
      "/Users/floyd/Projects/misq/misq/vol16/iss2/5/metadata.xml\n",
      "/Users/floyd/Projects/misq/misq/vol16/iss2/6/metadata.xml\n",
      "/Users/floyd/Projects/misq/misq/vol16/iss3/1/metadata.xml\n",
      "/Users/floyd/Projects/misq/misq/vol16/iss3/2/metadata.xml\n",
      "/Users/floyd/Projects/misq/misq/vol16/iss3/3/metadata.xml\n",
      "/Users/floyd/Projects/misq/misq/vol16/iss3/4/metadata.xml\n",
      "/Users/floyd/Projects/misq/misq/vol16/iss3/5/metadata.xml\n",
      "/Users/floyd/Projects/misq/misq/vol16/iss3/6/metadata.xml\n",
      "/Users/floyd/Projects/misq/misq/vol16/iss3/7/metadata.xml\n",
      "/Users/floyd/Projects/misq/misq/vol16/iss4/1/metadata.xml\n",
      "/Users/floyd/Projects/misq/misq/vol16/iss4/2/metadata.xml\n",
      "/Users/floyd/Projects/misq/misq/vol16/iss4/3/metadata.xml\n",
      "/Users/floyd/Projects/misq/misq/vol16/iss4/4/metadata.xml\n",
      "/Users/floyd/Projects/misq/misq/vol16/iss4/5/metadata.xml\n",
      "/Users/floyd/Projects/misq/misq/vol16/iss4/6/metadata.xml\n",
      "/Users/floyd/Projects/misq/misq/vol17/iss1/1/metadata.xml\n",
      "/Users/floyd/Projects/misq/misq/vol17/iss1/2/metadata.xml\n",
      "/Users/floyd/Projects/misq/misq/vol17/iss1/3/metadata.xml\n",
      "/Users/floyd/Projects/misq/misq/vol17/iss1/4/metadata.xml\n",
      "/Users/floyd/Projects/misq/misq/vol17/iss1/5/metadata.xml\n",
      "/Users/floyd/Projects/misq/misq/vol17/iss1/6/metadata.xml\n",
      "/Users/floyd/Projects/misq/misq/vol17/iss1/7/metadata.xml\n",
      "/Users/floyd/Projects/misq/misq/vol17/iss2/1/metadata.xml\n",
      "/Users/floyd/Projects/misq/misq/vol17/iss2/2/metadata.xml\n",
      "/Users/floyd/Projects/misq/misq/vol17/iss2/3/metadata.xml\n",
      "/Users/floyd/Projects/misq/misq/vol17/iss2/4/metadata.xml\n",
      "/Users/floyd/Projects/misq/misq/vol17/iss2/5/metadata.xml\n",
      "/Users/floyd/Projects/misq/misq/vol17/iss2/6/metadata.xml\n",
      "/Users/floyd/Projects/misq/misq/vol17/iss3/1/metadata.xml\n",
      "/Users/floyd/Projects/misq/misq/vol17/iss3/2/metadata.xml\n",
      "/Users/floyd/Projects/misq/misq/vol17/iss3/3/metadata.xml\n",
      "/Users/floyd/Projects/misq/misq/vol17/iss3/4/metadata.xml\n",
      "/Users/floyd/Projects/misq/misq/vol17/iss3/5/metadata.xml\n",
      "/Users/floyd/Projects/misq/misq/vol17/iss3/6/metadata.xml\n",
      "/Users/floyd/Projects/misq/misq/vol17/iss4/1/metadata.xml\n",
      "/Users/floyd/Projects/misq/misq/vol17/iss4/2/metadata.xml\n",
      "/Users/floyd/Projects/misq/misq/vol17/iss4/3/metadata.xml\n",
      "/Users/floyd/Projects/misq/misq/vol17/iss4/4/metadata.xml\n",
      "/Users/floyd/Projects/misq/misq/vol17/iss4/5/metadata.xml\n",
      "/Users/floyd/Projects/misq/misq/vol17/iss4/6/metadata.xml\n",
      "/Users/floyd/Projects/misq/misq/vol17/iss4/7/metadata.xml\n",
      "/Users/floyd/Projects/misq/misq/vol18/iss1/1/metadata.xml\n",
      "/Users/floyd/Projects/misq/misq/vol18/iss1/2/metadata.xml\n",
      "/Users/floyd/Projects/misq/misq/vol18/iss1/3/metadata.xml\n",
      "/Users/floyd/Projects/misq/misq/vol18/iss1/4/metadata.xml\n",
      "/Users/floyd/Projects/misq/misq/vol18/iss1/5/metadata.xml\n",
      "/Users/floyd/Projects/misq/misq/vol18/iss2/1/metadata.xml\n",
      "/Users/floyd/Projects/misq/misq/vol18/iss2/2/metadata.xml\n",
      "/Users/floyd/Projects/misq/misq/vol18/iss2/3/metadata.xml\n",
      "/Users/floyd/Projects/misq/misq/vol18/iss2/4/metadata.xml\n",
      "/Users/floyd/Projects/misq/misq/vol18/iss2/5/metadata.xml\n",
      "/Users/floyd/Projects/misq/misq/vol18/iss3/1/metadata.xml\n",
      "/Users/floyd/Projects/misq/misq/vol18/iss3/2/metadata.xml\n",
      "/Users/floyd/Projects/misq/misq/vol18/iss3/3/metadata.xml\n",
      "/Users/floyd/Projects/misq/misq/vol18/iss3/4/metadata.xml\n",
      "/Users/floyd/Projects/misq/misq/vol18/iss3/5/metadata.xml\n",
      "/Users/floyd/Projects/misq/misq/vol18/iss4/1/metadata.xml\n",
      "/Users/floyd/Projects/misq/misq/vol18/iss4/2/metadata.xml\n",
      "/Users/floyd/Projects/misq/misq/vol18/iss4/3/metadata.xml\n",
      "/Users/floyd/Projects/misq/misq/vol18/iss4/4/metadata.xml\n",
      "/Users/floyd/Projects/misq/misq/vol18/iss4/5/metadata.xml\n",
      "/Users/floyd/Projects/misq/misq/vol18/iss4/6/metadata.xml\n",
      "/Users/floyd/Projects/misq/misq/vol19/iss1/1/metadata.xml\n",
      "/Users/floyd/Projects/misq/misq/vol19/iss1/2/metadata.xml\n",
      "/Users/floyd/Projects/misq/misq/vol19/iss1/3/metadata.xml\n",
      "/Users/floyd/Projects/misq/misq/vol19/iss1/4/metadata.xml\n",
      "/Users/floyd/Projects/misq/misq/vol19/iss1/5/metadata.xml\n",
      "/Users/floyd/Projects/misq/misq/vol19/iss2/1/metadata.xml\n",
      "/Users/floyd/Projects/misq/misq/vol19/iss2/2/metadata.xml\n",
      "/Users/floyd/Projects/misq/misq/vol19/iss2/3/metadata.xml\n",
      "/Users/floyd/Projects/misq/misq/vol19/iss2/4/metadata.xml\n",
      "/Users/floyd/Projects/misq/misq/vol19/iss2/5/metadata.xml\n",
      "/Users/floyd/Projects/misq/misq/vol19/iss2/6/metadata.xml\n",
      "/Users/floyd/Projects/misq/misq/vol19/iss2/7/metadata.xml\n",
      "/Users/floyd/Projects/misq/misq/vol19/iss3/1/metadata.xml\n",
      "/Users/floyd/Projects/misq/misq/vol19/iss3/2/metadata.xml\n",
      "/Users/floyd/Projects/misq/misq/vol19/iss3/3/metadata.xml\n",
      "/Users/floyd/Projects/misq/misq/vol19/iss3/4/metadata.xml\n",
      "/Users/floyd/Projects/misq/misq/vol19/iss3/5/metadata.xml\n",
      "/Users/floyd/Projects/misq/misq/vol19/iss3/6/metadata.xml\n",
      "/Users/floyd/Projects/misq/misq/vol19/iss4/1/metadata.xml\n",
      "/Users/floyd/Projects/misq/misq/vol19/iss4/2/metadata.xml\n",
      "/Users/floyd/Projects/misq/misq/vol19/iss4/3/metadata.xml\n",
      "/Users/floyd/Projects/misq/misq/vol19/iss4/4/metadata.xml\n",
      "/Users/floyd/Projects/misq/misq/vol19/iss4/5/metadata.xml\n",
      "/Users/floyd/Projects/misq/misq/vol19/iss4/6/metadata.xml\n",
      "/Users/floyd/Projects/misq/misq/vol19/iss4/7/metadata.xml\n",
      "/Users/floyd/Projects/misq/misq/vol2/iss1/1/metadata.xml\n",
      "/Users/floyd/Projects/misq/misq/vol2/iss1/10/metadata.xml\n",
      "/Users/floyd/Projects/misq/misq/vol2/iss1/11/metadata.xml\n",
      "/Users/floyd/Projects/misq/misq/vol2/iss1/12/metadata.xml\n",
      "/Users/floyd/Projects/misq/misq/vol2/iss1/13/metadata.xml\n",
      "/Users/floyd/Projects/misq/misq/vol2/iss1/14/metadata.xml\n",
      "/Users/floyd/Projects/misq/misq/vol2/iss1/15/metadata.xml\n",
      "/Users/floyd/Projects/misq/misq/vol2/iss1/16/metadata.xml\n",
      "/Users/floyd/Projects/misq/misq/vol2/iss1/17/metadata.xml\n",
      "/Users/floyd/Projects/misq/misq/vol2/iss1/18/metadata.xml\n",
      "/Users/floyd/Projects/misq/misq/vol2/iss1/2/metadata.xml\n",
      "/Users/floyd/Projects/misq/misq/vol2/iss1/3/metadata.xml\n",
      "/Users/floyd/Projects/misq/misq/vol2/iss1/4/metadata.xml\n",
      "/Users/floyd/Projects/misq/misq/vol2/iss1/5/metadata.xml\n",
      "/Users/floyd/Projects/misq/misq/vol2/iss1/6/metadata.xml\n",
      "/Users/floyd/Projects/misq/misq/vol2/iss1/7/metadata.xml\n",
      "/Users/floyd/Projects/misq/misq/vol2/iss1/8/metadata.xml\n",
      "/Users/floyd/Projects/misq/misq/vol2/iss1/9/metadata.xml\n",
      "/Users/floyd/Projects/misq/misq/vol20/iss1/1/metadata.xml\n",
      "/Users/floyd/Projects/misq/misq/vol20/iss1/2/metadata.xml\n",
      "/Users/floyd/Projects/misq/misq/vol20/iss1/3/metadata.xml\n",
      "/Users/floyd/Projects/misq/misq/vol20/iss1/4/metadata.xml\n",
      "/Users/floyd/Projects/misq/misq/vol20/iss1/5/metadata.xml\n",
      "/Users/floyd/Projects/misq/misq/vol20/iss2/1/metadata.xml\n",
      "/Users/floyd/Projects/misq/misq/vol20/iss2/2/metadata.xml\n",
      "/Users/floyd/Projects/misq/misq/vol20/iss2/3/metadata.xml\n",
      "/Users/floyd/Projects/misq/misq/vol20/iss2/4/metadata.xml\n",
      "/Users/floyd/Projects/misq/misq/vol20/iss2/5/metadata.xml\n",
      "/Users/floyd/Projects/misq/misq/vol20/iss3/1/metadata.xml\n",
      "/Users/floyd/Projects/misq/misq/vol20/iss3/2/metadata.xml\n",
      "/Users/floyd/Projects/misq/misq/vol20/iss3/3/metadata.xml\n",
      "/Users/floyd/Projects/misq/misq/vol20/iss3/4/metadata.xml\n",
      "/Users/floyd/Projects/misq/misq/vol20/iss3/5/metadata.xml\n",
      "/Users/floyd/Projects/misq/misq/vol20/iss3/6/metadata.xml\n",
      "/Users/floyd/Projects/misq/misq/vol20/iss4/1/metadata.xml\n",
      "/Users/floyd/Projects/misq/misq/vol20/iss4/2/metadata.xml\n",
      "/Users/floyd/Projects/misq/misq/vol20/iss4/3/metadata.xml\n",
      "/Users/floyd/Projects/misq/misq/vol20/iss4/4/metadata.xml\n",
      "/Users/floyd/Projects/misq/misq/vol20/iss4/5/metadata.xml\n",
      "/Users/floyd/Projects/misq/misq/vol21/iss1/1/metadata.xml\n",
      "/Users/floyd/Projects/misq/misq/vol21/iss1/2/metadata.xml\n",
      "/Users/floyd/Projects/misq/misq/vol21/iss1/3/metadata.xml\n",
      "/Users/floyd/Projects/misq/misq/vol21/iss1/4/metadata.xml\n",
      "/Users/floyd/Projects/misq/misq/vol21/iss1/5/metadata.xml\n",
      "/Users/floyd/Projects/misq/misq/vol21/iss2/1/metadata.xml\n",
      "/Users/floyd/Projects/misq/misq/vol21/iss2/2/metadata.xml\n",
      "/Users/floyd/Projects/misq/misq/vol21/iss2/3/metadata.xml\n",
      "/Users/floyd/Projects/misq/misq/vol21/iss2/4/metadata.xml\n",
      "/Users/floyd/Projects/misq/misq/vol21/iss2/5/metadata.xml\n",
      "/Users/floyd/Projects/misq/misq/vol21/iss2/6/metadata.xml\n",
      "/Users/floyd/Projects/misq/misq/vol21/iss3/1/metadata.xml\n",
      "/Users/floyd/Projects/misq/misq/vol21/iss3/2/metadata.xml\n",
      "/Users/floyd/Projects/misq/misq/vol21/iss3/3/metadata.xml\n",
      "/Users/floyd/Projects/misq/misq/vol21/iss3/4/metadata.xml\n",
      "/Users/floyd/Projects/misq/misq/vol21/iss3/5/metadata.xml\n",
      "/Users/floyd/Projects/misq/misq/vol21/iss3/6/metadata.xml\n",
      "/Users/floyd/Projects/misq/misq/vol21/iss4/1/metadata.xml\n",
      "/Users/floyd/Projects/misq/misq/vol21/iss4/2/metadata.xml\n",
      "/Users/floyd/Projects/misq/misq/vol21/iss4/3/metadata.xml\n",
      "/Users/floyd/Projects/misq/misq/vol21/iss4/4/metadata.xml\n",
      "/Users/floyd/Projects/misq/misq/vol21/iss4/5/metadata.xml\n",
      "/Users/floyd/Projects/misq/misq/vol22/iss1/1/metadata.xml\n",
      "/Users/floyd/Projects/misq/misq/vol22/iss1/2/metadata.xml\n",
      "/Users/floyd/Projects/misq/misq/vol22/iss1/3/metadata.xml\n",
      "/Users/floyd/Projects/misq/misq/vol22/iss1/4/metadata.xml\n",
      "/Users/floyd/Projects/misq/misq/vol22/iss1/5/metadata.xml\n",
      "/Users/floyd/Projects/misq/misq/vol22/iss1/6/metadata.xml\n",
      "/Users/floyd/Projects/misq/misq/vol22/iss1/7/metadata.xml\n",
      "/Users/floyd/Projects/misq/misq/vol22/iss1/8/metadata.xml\n",
      "/Users/floyd/Projects/misq/misq/vol22/iss2/1/metadata.xml\n",
      "/Users/floyd/Projects/misq/misq/vol22/iss2/2/metadata.xml\n",
      "/Users/floyd/Projects/misq/misq/vol22/iss2/3/metadata.xml\n",
      "/Users/floyd/Projects/misq/misq/vol22/iss2/4/metadata.xml\n",
      "/Users/floyd/Projects/misq/misq/vol22/iss2/5/metadata.xml\n",
      "/Users/floyd/Projects/misq/misq/vol22/iss3/1/metadata.xml\n",
      "/Users/floyd/Projects/misq/misq/vol22/iss3/2/metadata.xml\n",
      "/Users/floyd/Projects/misq/misq/vol22/iss3/3/metadata.xml\n",
      "/Users/floyd/Projects/misq/misq/vol22/iss3/4/metadata.xml\n",
      "/Users/floyd/Projects/misq/misq/vol22/iss3/5/metadata.xml\n",
      "/Users/floyd/Projects/misq/misq/vol22/iss3/6/metadata.xml\n",
      "/Users/floyd/Projects/misq/misq/vol22/iss4/1/metadata.xml\n",
      "/Users/floyd/Projects/misq/misq/vol22/iss4/2/metadata.xml\n",
      "/Users/floyd/Projects/misq/misq/vol22/iss4/3/metadata.xml\n",
      "/Users/floyd/Projects/misq/misq/vol22/iss4/4/metadata.xml\n",
      "/Users/floyd/Projects/misq/misq/vol22/iss4/5/metadata.xml\n",
      "/Users/floyd/Projects/misq/misq/vol22/iss4/6/metadata.xml\n",
      "/Users/floyd/Projects/misq/misq/vol23/iss1/1/metadata.xml\n",
      "/Users/floyd/Projects/misq/misq/vol23/iss1/2/metadata.xml\n",
      "/Users/floyd/Projects/misq/misq/vol23/iss1/3/metadata.xml\n",
      "/Users/floyd/Projects/misq/misq/vol23/iss1/4/metadata.xml\n",
      "/Users/floyd/Projects/misq/misq/vol23/iss1/5/metadata.xml\n",
      "/Users/floyd/Projects/misq/misq/vol23/iss2/1/metadata.xml\n",
      "/Users/floyd/Projects/misq/misq/vol23/iss2/2/metadata.xml\n",
      "/Users/floyd/Projects/misq/misq/vol23/iss2/3/metadata.xml\n",
      "/Users/floyd/Projects/misq/misq/vol23/iss2/4/metadata.xml\n",
      "/Users/floyd/Projects/misq/misq/vol23/iss2/5/metadata.xml\n",
      "/Users/floyd/Projects/misq/misq/vol23/iss2/6/metadata.xml\n",
      "/Users/floyd/Projects/misq/misq/vol23/iss3/1/metadata.xml\n",
      "/Users/floyd/Projects/misq/misq/vol23/iss3/2/metadata.xml\n",
      "/Users/floyd/Projects/misq/misq/vol23/iss3/3/metadata.xml\n",
      "/Users/floyd/Projects/misq/misq/vol23/iss3/4/metadata.xml\n",
      "/Users/floyd/Projects/misq/misq/vol23/iss3/5/metadata.xml\n",
      "/Users/floyd/Projects/misq/misq/vol23/iss4/1/metadata.xml\n",
      "/Users/floyd/Projects/misq/misq/vol23/iss4/2/metadata.xml\n",
      "/Users/floyd/Projects/misq/misq/vol23/iss4/3/metadata.xml\n",
      "/Users/floyd/Projects/misq/misq/vol23/iss4/4/metadata.xml\n",
      "/Users/floyd/Projects/misq/misq/vol23/iss4/5/metadata.xml\n",
      "/Users/floyd/Projects/misq/misq/vol23/iss4/6/metadata.xml\n",
      "/Users/floyd/Projects/misq/misq/vol24/iss1/1/metadata.xml\n",
      "/Users/floyd/Projects/misq/misq/vol24/iss1/2/metadata.xml\n",
      "/Users/floyd/Projects/misq/misq/vol24/iss1/3/metadata.xml\n",
      "/Users/floyd/Projects/misq/misq/vol24/iss1/4/metadata.xml\n",
      "/Users/floyd/Projects/misq/misq/vol24/iss1/5/metadata.xml\n",
      "/Users/floyd/Projects/misq/misq/vol24/iss1/6/metadata.xml\n",
      "/Users/floyd/Projects/misq/misq/vol24/iss1/7/metadata.xml\n",
      "/Users/floyd/Projects/misq/misq/vol24/iss2/1/metadata.xml\n",
      "/Users/floyd/Projects/misq/misq/vol24/iss2/2/metadata.xml\n",
      "/Users/floyd/Projects/misq/misq/vol24/iss2/3/metadata.xml\n",
      "/Users/floyd/Projects/misq/misq/vol24/iss2/4/metadata.xml\n",
      "/Users/floyd/Projects/misq/misq/vol24/iss2/5/metadata.xml\n",
      "/Users/floyd/Projects/misq/misq/vol24/iss2/6/metadata.xml\n",
      "/Users/floyd/Projects/misq/misq/vol24/iss2/7/metadata.xml\n",
      "/Users/floyd/Projects/misq/misq/vol24/iss3/1/metadata.xml\n",
      "/Users/floyd/Projects/misq/misq/vol24/iss3/2/metadata.xml\n",
      "/Users/floyd/Projects/misq/misq/vol24/iss3/3/metadata.xml\n",
      "/Users/floyd/Projects/misq/misq/vol24/iss3/4/metadata.xml\n",
      "/Users/floyd/Projects/misq/misq/vol24/iss3/5/metadata.xml\n",
      "/Users/floyd/Projects/misq/misq/vol24/iss3/6/metadata.xml\n",
      "/Users/floyd/Projects/misq/misq/vol24/iss3/7/metadata.xml\n",
      "/Users/floyd/Projects/misq/misq/vol24/iss3/8/metadata.xml\n",
      "/Users/floyd/Projects/misq/misq/vol24/iss4/1/metadata.xml\n",
      "/Users/floyd/Projects/misq/misq/vol24/iss4/2/metadata.xml\n",
      "/Users/floyd/Projects/misq/misq/vol24/iss4/3/metadata.xml\n",
      "/Users/floyd/Projects/misq/misq/vol24/iss4/4/metadata.xml\n",
      "/Users/floyd/Projects/misq/misq/vol24/iss4/5/metadata.xml\n",
      "/Users/floyd/Projects/misq/misq/vol24/iss4/6/metadata.xml\n",
      "/Users/floyd/Projects/misq/misq/vol25/iss1/1/metadata.xml\n",
      "/Users/floyd/Projects/misq/misq/vol25/iss1/2/metadata.xml\n",
      "/Users/floyd/Projects/misq/misq/vol25/iss1/3/metadata.xml\n",
      "/Users/floyd/Projects/misq/misq/vol25/iss1/4/metadata.xml\n",
      "/Users/floyd/Projects/misq/misq/vol25/iss1/5/metadata.xml\n",
      "/Users/floyd/Projects/misq/misq/vol25/iss1/6/metadata.xml\n",
      "/Users/floyd/Projects/misq/misq/vol25/iss2/1/metadata.xml\n",
      "/Users/floyd/Projects/misq/misq/vol25/iss2/2/metadata.xml\n",
      "/Users/floyd/Projects/misq/misq/vol25/iss2/3/metadata.xml\n",
      "/Users/floyd/Projects/misq/misq/vol25/iss2/4/metadata.xml\n",
      "/Users/floyd/Projects/misq/misq/vol25/iss2/5/metadata.xml\n",
      "/Users/floyd/Projects/misq/misq/vol25/iss3/1/metadata.xml\n",
      "/Users/floyd/Projects/misq/misq/vol25/iss3/2/metadata.xml\n",
      "/Users/floyd/Projects/misq/misq/vol25/iss3/3/metadata.xml\n",
      "/Users/floyd/Projects/misq/misq/vol25/iss4/1/metadata.xml\n",
      "/Users/floyd/Projects/misq/misq/vol25/iss4/2/metadata.xml\n",
      "/Users/floyd/Projects/misq/misq/vol25/iss4/3/metadata.xml\n",
      "/Users/floyd/Projects/misq/misq/vol26/iss1/1/metadata.xml\n",
      "/Users/floyd/Projects/misq/misq/vol26/iss1/2/metadata.xml\n",
      "/Users/floyd/Projects/misq/misq/vol26/iss1/3/metadata.xml\n",
      "/Users/floyd/Projects/misq/misq/vol26/iss1/4/metadata.xml\n",
      "/Users/floyd/Projects/misq/misq/vol26/iss1/5/metadata.xml\n",
      "/Users/floyd/Projects/misq/misq/vol26/iss2/1/metadata.xml\n",
      "/Users/floyd/Projects/misq/misq/vol26/iss2/2/metadata.xml\n",
      "/Users/floyd/Projects/misq/misq/vol26/iss2/3/metadata.xml\n",
      "/Users/floyd/Projects/misq/misq/vol26/iss2/4/metadata.xml\n",
      "/Users/floyd/Projects/misq/misq/vol26/iss2/5/metadata.xml\n",
      "/Users/floyd/Projects/misq/misq/vol26/iss2/6/metadata.xml\n",
      "/Users/floyd/Projects/misq/misq/vol26/iss2/7/metadata.xml\n",
      "/Users/floyd/Projects/misq/misq/vol26/iss3/1/metadata.xml\n",
      "/Users/floyd/Projects/misq/misq/vol26/iss3/2/metadata.xml\n",
      "/Users/floyd/Projects/misq/misq/vol26/iss3/3/metadata.xml\n",
      "/Users/floyd/Projects/misq/misq/vol26/iss3/4/metadata.xml\n",
      "/Users/floyd/Projects/misq/misq/vol26/iss3/5/metadata.xml\n",
      "/Users/floyd/Projects/misq/misq/vol26/iss3/6/metadata.xml\n",
      "/Users/floyd/Projects/misq/misq/vol26/iss3/7/metadata.xml\n",
      "/Users/floyd/Projects/misq/misq/vol26/iss4/1/metadata.xml\n",
      "/Users/floyd/Projects/misq/misq/vol26/iss4/10/metadata.xml\n",
      "/Users/floyd/Projects/misq/misq/vol26/iss4/2/metadata.xml\n",
      "/Users/floyd/Projects/misq/misq/vol26/iss4/3/metadata.xml\n",
      "/Users/floyd/Projects/misq/misq/vol26/iss4/4/metadata.xml\n",
      "/Users/floyd/Projects/misq/misq/vol26/iss4/5/metadata.xml\n",
      "/Users/floyd/Projects/misq/misq/vol26/iss4/6/metadata.xml\n",
      "/Users/floyd/Projects/misq/misq/vol26/iss4/7/metadata.xml\n",
      "/Users/floyd/Projects/misq/misq/vol26/iss4/8/metadata.xml\n",
      "/Users/floyd/Projects/misq/misq/vol26/iss4/9/metadata.xml\n",
      "/Users/floyd/Projects/misq/misq/vol27/iss1/1/metadata.xml\n",
      "/Users/floyd/Projects/misq/misq/vol27/iss1/2/metadata.xml\n",
      "/Users/floyd/Projects/misq/misq/vol27/iss1/3/metadata.xml\n",
      "/Users/floyd/Projects/misq/misq/vol27/iss1/4/metadata.xml\n",
      "/Users/floyd/Projects/misq/misq/vol27/iss1/5/metadata.xml\n",
      "/Users/floyd/Projects/misq/misq/vol27/iss1/6/metadata.xml\n",
      "/Users/floyd/Projects/misq/misq/vol27/iss2/1/metadata.xml\n",
      "/Users/floyd/Projects/misq/misq/vol27/iss2/2/metadata.xml\n",
      "/Users/floyd/Projects/misq/misq/vol27/iss2/3/metadata.xml\n",
      "/Users/floyd/Projects/misq/misq/vol27/iss2/4/metadata.xml\n",
      "/Users/floyd/Projects/misq/misq/vol27/iss2/5/metadata.xml\n",
      "/Users/floyd/Projects/misq/misq/vol27/iss2/6/metadata.xml\n",
      "/Users/floyd/Projects/misq/misq/vol27/iss3/1/metadata.xml\n",
      "/Users/floyd/Projects/misq/misq/vol27/iss3/2/metadata.xml\n",
      "/Users/floyd/Projects/misq/misq/vol27/iss3/3/metadata.xml\n",
      "/Users/floyd/Projects/misq/misq/vol27/iss3/4/metadata.xml\n",
      "/Users/floyd/Projects/misq/misq/vol27/iss3/5/metadata.xml\n",
      "/Users/floyd/Projects/misq/misq/vol27/iss3/6/metadata.xml\n",
      "/Users/floyd/Projects/misq/misq/vol27/iss4/1/metadata.xml\n",
      "/Users/floyd/Projects/misq/misq/vol27/iss4/2/metadata.xml\n",
      "/Users/floyd/Projects/misq/misq/vol27/iss4/3/metadata.xml\n",
      "/Users/floyd/Projects/misq/misq/vol27/iss4/4/metadata.xml\n",
      "/Users/floyd/Projects/misq/misq/vol27/iss4/5/metadata.xml\n",
      "/Users/floyd/Projects/misq/misq/vol27/iss4/6/metadata.xml\n",
      "/Users/floyd/Projects/misq/misq/vol27/iss4/7/metadata.xml\n",
      "/Users/floyd/Projects/misq/misq/vol27/iss4/8/metadata.xml\n",
      "/Users/floyd/Projects/misq/misq/vol28/iss1/1/metadata.xml\n",
      "/Users/floyd/Projects/misq/misq/vol28/iss1/2/metadata.xml\n",
      "/Users/floyd/Projects/misq/misq/vol28/iss1/3/metadata.xml\n",
      "/Users/floyd/Projects/misq/misq/vol28/iss1/4/metadata.xml\n",
      "/Users/floyd/Projects/misq/misq/vol28/iss1/5/metadata.xml\n",
      "/Users/floyd/Projects/misq/misq/vol28/iss1/6/metadata.xml\n",
      "/Users/floyd/Projects/misq/misq/vol28/iss1/7/metadata.xml\n",
      "/Users/floyd/Projects/misq/misq/vol28/iss2/1/metadata.xml\n",
      "/Users/floyd/Projects/misq/misq/vol28/iss2/2/metadata.xml\n",
      "/Users/floyd/Projects/misq/misq/vol28/iss2/3/metadata.xml\n",
      "/Users/floyd/Projects/misq/misq/vol28/iss2/4/metadata.xml\n",
      "/Users/floyd/Projects/misq/misq/vol28/iss2/5/metadata.xml\n",
      "/Users/floyd/Projects/misq/misq/vol28/iss2/6/metadata.xml\n",
      "/Users/floyd/Projects/misq/misq/vol28/iss2/7/metadata.xml\n",
      "/Users/floyd/Projects/misq/misq/vol28/iss2/8/metadata.xml\n",
      "/Users/floyd/Projects/misq/misq/vol28/iss3/1/metadata.xml\n",
      "/Users/floyd/Projects/misq/misq/vol28/iss3/2/metadata.xml\n",
      "/Users/floyd/Projects/misq/misq/vol28/iss3/3/metadata.xml\n",
      "/Users/floyd/Projects/misq/misq/vol28/iss3/4/metadata.xml\n",
      "/Users/floyd/Projects/misq/misq/vol28/iss3/5/metadata.xml\n",
      "/Users/floyd/Projects/misq/misq/vol28/iss3/6/metadata.xml\n",
      "/Users/floyd/Projects/misq/misq/vol28/iss3/7/metadata.xml\n",
      "/Users/floyd/Projects/misq/misq/vol28/iss3/8/metadata.xml\n",
      "/Users/floyd/Projects/misq/misq/vol28/iss4/1/metadata.xml\n",
      "/Users/floyd/Projects/misq/misq/vol28/iss4/10/metadata.xml\n",
      "/Users/floyd/Projects/misq/misq/vol28/iss4/11/metadata.xml\n",
      "/Users/floyd/Projects/misq/misq/vol28/iss4/2/metadata.xml\n",
      "/Users/floyd/Projects/misq/misq/vol28/iss4/3/metadata.xml\n",
      "/Users/floyd/Projects/misq/misq/vol28/iss4/4/metadata.xml\n",
      "/Users/floyd/Projects/misq/misq/vol28/iss4/5/metadata.xml\n",
      "/Users/floyd/Projects/misq/misq/vol28/iss4/6/metadata.xml\n",
      "/Users/floyd/Projects/misq/misq/vol28/iss4/7/metadata.xml\n",
      "/Users/floyd/Projects/misq/misq/vol28/iss4/8/metadata.xml\n",
      "/Users/floyd/Projects/misq/misq/vol28/iss4/9/metadata.xml\n",
      "/Users/floyd/Projects/misq/misq/vol29/iss1/1/metadata.xml\n",
      "/Users/floyd/Projects/misq/misq/vol29/iss1/2/metadata.xml\n",
      "/Users/floyd/Projects/misq/misq/vol29/iss1/3/metadata.xml\n",
      "/Users/floyd/Projects/misq/misq/vol29/iss1/4/metadata.xml\n",
      "/Users/floyd/Projects/misq/misq/vol29/iss1/5/metadata.xml\n",
      "/Users/floyd/Projects/misq/misq/vol29/iss1/6/metadata.xml\n",
      "/Users/floyd/Projects/misq/misq/vol29/iss1/7/metadata.xml\n",
      "/Users/floyd/Projects/misq/misq/vol29/iss1/8/metadata.xml\n",
      "/Users/floyd/Projects/misq/misq/vol29/iss1/9/metadata.xml\n",
      "/Users/floyd/Projects/misq/misq/vol29/iss2/1/metadata.xml\n",
      "/Users/floyd/Projects/misq/misq/vol29/iss2/2/metadata.xml\n",
      "/Users/floyd/Projects/misq/misq/vol29/iss2/3/metadata.xml\n",
      "/Users/floyd/Projects/misq/misq/vol29/iss2/4/metadata.xml\n",
      "/Users/floyd/Projects/misq/misq/vol29/iss2/5/metadata.xml\n",
      "/Users/floyd/Projects/misq/misq/vol29/iss2/6/metadata.xml\n",
      "/Users/floyd/Projects/misq/misq/vol29/iss2/7/metadata.xml\n",
      "/Users/floyd/Projects/misq/misq/vol29/iss2/8/metadata.xml\n",
      "/Users/floyd/Projects/misq/misq/vol29/iss2/9/metadata.xml\n",
      "/Users/floyd/Projects/misq/misq/vol29/iss3/1/metadata.xml\n",
      "/Users/floyd/Projects/misq/misq/vol29/iss3/2/metadata.xml\n",
      "/Users/floyd/Projects/misq/misq/vol29/iss3/3/metadata.xml\n",
      "/Users/floyd/Projects/misq/misq/vol29/iss3/4/metadata.xml\n",
      "/Users/floyd/Projects/misq/misq/vol29/iss3/5/metadata.xml\n",
      "/Users/floyd/Projects/misq/misq/vol29/iss3/6/metadata.xml\n",
      "/Users/floyd/Projects/misq/misq/vol29/iss3/7/metadata.xml\n",
      "/Users/floyd/Projects/misq/misq/vol29/iss3/8/metadata.xml\n",
      "/Users/floyd/Projects/misq/misq/vol29/iss3/9/metadata.xml\n",
      "/Users/floyd/Projects/misq/misq/vol29/iss4/1/metadata.xml\n",
      "/Users/floyd/Projects/misq/misq/vol29/iss4/10/metadata.xml\n",
      "/Users/floyd/Projects/misq/misq/vol29/iss4/11/metadata.xml\n",
      "/Users/floyd/Projects/misq/misq/vol29/iss4/12/metadata.xml\n",
      "/Users/floyd/Projects/misq/misq/vol29/iss4/13/metadata.xml\n",
      "/Users/floyd/Projects/misq/misq/vol29/iss4/2/metadata.xml\n",
      "/Users/floyd/Projects/misq/misq/vol29/iss4/3/metadata.xml\n",
      "/Users/floyd/Projects/misq/misq/vol29/iss4/4/metadata.xml\n",
      "/Users/floyd/Projects/misq/misq/vol29/iss4/5/metadata.xml\n",
      "/Users/floyd/Projects/misq/misq/vol29/iss4/6/metadata.xml\n",
      "/Users/floyd/Projects/misq/misq/vol29/iss4/7/metadata.xml\n",
      "/Users/floyd/Projects/misq/misq/vol29/iss4/8/metadata.xml\n",
      "/Users/floyd/Projects/misq/misq/vol29/iss4/9/metadata.xml\n",
      "/Users/floyd/Projects/misq/misq/vol3/iss1/1/metadata.xml\n",
      "/Users/floyd/Projects/misq/misq/vol3/iss1/2/metadata.xml\n",
      "/Users/floyd/Projects/misq/misq/vol3/iss1/3/metadata.xml\n",
      "/Users/floyd/Projects/misq/misq/vol3/iss1/4/metadata.xml\n",
      "/Users/floyd/Projects/misq/misq/vol3/iss1/5/metadata.xml\n",
      "/Users/floyd/Projects/misq/misq/vol3/iss1/6/metadata.xml\n",
      "/Users/floyd/Projects/misq/misq/vol3/iss2/1/metadata.xml\n",
      "/Users/floyd/Projects/misq/misq/vol3/iss2/2/metadata.xml\n",
      "/Users/floyd/Projects/misq/misq/vol3/iss2/3/metadata.xml\n",
      "/Users/floyd/Projects/misq/misq/vol3/iss2/4/metadata.xml\n",
      "/Users/floyd/Projects/misq/misq/vol3/iss2/5/metadata.xml\n",
      "/Users/floyd/Projects/misq/misq/vol3/iss3/1/metadata.xml\n",
      "/Users/floyd/Projects/misq/misq/vol3/iss3/2/metadata.xml\n",
      "/Users/floyd/Projects/misq/misq/vol3/iss3/3/metadata.xml\n",
      "/Users/floyd/Projects/misq/misq/vol3/iss4/1/metadata.xml\n",
      "/Users/floyd/Projects/misq/misq/vol3/iss4/2/metadata.xml\n",
      "/Users/floyd/Projects/misq/misq/vol3/iss4/3/metadata.xml\n",
      "/Users/floyd/Projects/misq/misq/vol3/iss4/4/metadata.xml\n",
      "/Users/floyd/Projects/misq/misq/vol3/iss4/5/metadata.xml\n",
      "/Users/floyd/Projects/misq/misq/vol30/iss1/1/metadata.xml\n",
      "/Users/floyd/Projects/misq/misq/vol30/iss1/10/metadata.xml\n",
      "/Users/floyd/Projects/misq/misq/vol30/iss1/11/metadata.xml\n",
      "/Users/floyd/Projects/misq/misq/vol30/iss1/2/metadata.xml\n",
      "/Users/floyd/Projects/misq/misq/vol30/iss1/3/metadata.xml\n",
      "/Users/floyd/Projects/misq/misq/vol30/iss1/4/metadata.xml\n",
      "/Users/floyd/Projects/misq/misq/vol30/iss1/5/metadata.xml\n",
      "/Users/floyd/Projects/misq/misq/vol30/iss1/6/metadata.xml\n",
      "/Users/floyd/Projects/misq/misq/vol30/iss1/7/metadata.xml\n",
      "/Users/floyd/Projects/misq/misq/vol30/iss1/8/metadata.xml\n",
      "/Users/floyd/Projects/misq/misq/vol30/iss1/9/metadata.xml\n",
      "/Users/floyd/Projects/misq/misq/vol30/iss2/1/metadata.xml\n",
      "/Users/floyd/Projects/misq/misq/vol30/iss2/2/metadata.xml\n",
      "/Users/floyd/Projects/misq/misq/vol30/iss2/3/metadata.xml\n",
      "/Users/floyd/Projects/misq/misq/vol30/iss2/4/metadata.xml\n",
      "/Users/floyd/Projects/misq/misq/vol30/iss2/5/metadata.xml\n",
      "/Users/floyd/Projects/misq/misq/vol30/iss2/6/metadata.xml\n",
      "/Users/floyd/Projects/misq/misq/vol30/iss2/7/metadata.xml\n",
      "/Users/floyd/Projects/misq/misq/vol30/iss2/8/metadata.xml\n",
      "/Users/floyd/Projects/misq/misq/vol30/iss2/9/metadata.xml\n",
      "/Users/floyd/Projects/misq/misq/vol30/iss3/1/metadata.xml\n",
      "/Users/floyd/Projects/misq/misq/vol30/iss3/10/metadata.xml\n",
      "/Users/floyd/Projects/misq/misq/vol30/iss3/11/metadata.xml\n",
      "/Users/floyd/Projects/misq/misq/vol30/iss3/2/metadata.xml\n",
      "/Users/floyd/Projects/misq/misq/vol30/iss3/3/metadata.xml\n",
      "/Users/floyd/Projects/misq/misq/vol30/iss3/4/metadata.xml\n",
      "/Users/floyd/Projects/misq/misq/vol30/iss3/5/metadata.xml\n",
      "/Users/floyd/Projects/misq/misq/vol30/iss3/6/metadata.xml\n",
      "/Users/floyd/Projects/misq/misq/vol30/iss3/7/metadata.xml\n",
      "/Users/floyd/Projects/misq/misq/vol30/iss3/8/metadata.xml\n",
      "/Users/floyd/Projects/misq/misq/vol30/iss3/9/metadata.xml\n",
      "/Users/floyd/Projects/misq/misq/vol30/iss4/1/metadata.xml\n",
      "/Users/floyd/Projects/misq/misq/vol30/iss4/10/metadata.xml\n",
      "/Users/floyd/Projects/misq/misq/vol30/iss4/11/metadata.xml\n",
      "/Users/floyd/Projects/misq/misq/vol30/iss4/12/metadata.xml\n",
      "/Users/floyd/Projects/misq/misq/vol30/iss4/13/metadata.xml\n",
      "/Users/floyd/Projects/misq/misq/vol30/iss4/3/metadata.xml\n",
      "/Users/floyd/Projects/misq/misq/vol30/iss4/4/metadata.xml\n",
      "/Users/floyd/Projects/misq/misq/vol30/iss4/5/metadata.xml\n",
      "/Users/floyd/Projects/misq/misq/vol30/iss4/6/metadata.xml\n",
      "/Users/floyd/Projects/misq/misq/vol30/iss4/7/metadata.xml\n",
      "/Users/floyd/Projects/misq/misq/vol30/iss4/8/metadata.xml\n",
      "/Users/floyd/Projects/misq/misq/vol30/iss4/9/metadata.xml\n",
      "/Users/floyd/Projects/misq/misq/vol31/iss1/1/metadata.xml\n",
      "/Users/floyd/Projects/misq/misq/vol31/iss1/2/0-MISQPodcast.xml\n",
      "/Users/floyd/Projects/misq/misq/vol31/iss1/2/metadata.xml\n",
      "/Users/floyd/Projects/misq/misq/vol31/iss1/3/metadata.xml\n",
      "/Users/floyd/Projects/misq/misq/vol31/iss1/4/metadata.xml\n",
      "/Users/floyd/Projects/misq/misq/vol31/iss1/5/metadata.xml\n",
      "/Users/floyd/Projects/misq/misq/vol31/iss1/6/metadata.xml\n",
      "/Users/floyd/Projects/misq/misq/vol31/iss1/7/metadata.xml\n",
      "/Users/floyd/Projects/misq/misq/vol31/iss1/8/metadata.xml\n",
      "/Users/floyd/Projects/misq/misq/vol31/iss1/9/metadata.xml\n",
      "/Users/floyd/Projects/misq/misq/vol31/iss2/1/metadata.xml\n",
      "/Users/floyd/Projects/misq/misq/vol31/iss2/10/metadata.xml\n",
      "/Users/floyd/Projects/misq/misq/vol31/iss2/2/metadata.xml\n",
      "/Users/floyd/Projects/misq/misq/vol31/iss2/3/metadata.xml\n",
      "/Users/floyd/Projects/misq/misq/vol31/iss2/4/metadata.xml\n",
      "/Users/floyd/Projects/misq/misq/vol31/iss2/5/metadata.xml\n",
      "/Users/floyd/Projects/misq/misq/vol31/iss2/6/metadata.xml\n",
      "/Users/floyd/Projects/misq/misq/vol31/iss2/7/metadata.xml\n",
      "/Users/floyd/Projects/misq/misq/vol31/iss2/8/metadata.xml\n",
      "/Users/floyd/Projects/misq/misq/vol31/iss2/9/metadata.xml\n",
      "/Users/floyd/Projects/misq/misq/vol31/iss3/1/metadata.xml\n",
      "/Users/floyd/Projects/misq/misq/vol31/iss3/2/metadata.xml\n",
      "/Users/floyd/Projects/misq/misq/vol31/iss3/3/metadata.xml\n",
      "/Users/floyd/Projects/misq/misq/vol31/iss3/4/metadata.xml\n",
      "/Users/floyd/Projects/misq/misq/vol31/iss3/5/metadata.xml\n",
      "/Users/floyd/Projects/misq/misq/vol31/iss3/6/metadata.xml\n",
      "/Users/floyd/Projects/misq/misq/vol31/iss3/7/metadata.xml\n",
      "/Users/floyd/Projects/misq/misq/vol31/iss3/8/metadata.xml\n",
      "/Users/floyd/Projects/misq/misq/vol31/iss3/9/metadata.xml\n",
      "/Users/floyd/Projects/misq/misq/vol31/iss4/1/metadata.xml\n",
      "/Users/floyd/Projects/misq/misq/vol31/iss4/10/metadata.xml\n",
      "/Users/floyd/Projects/misq/misq/vol31/iss4/11/metadata.xml\n",
      "/Users/floyd/Projects/misq/misq/vol31/iss4/12/metadata.xml\n",
      "/Users/floyd/Projects/misq/misq/vol31/iss4/2/metadata.xml\n",
      "/Users/floyd/Projects/misq/misq/vol31/iss4/3/metadata.xml\n",
      "/Users/floyd/Projects/misq/misq/vol31/iss4/4/metadata.xml\n",
      "/Users/floyd/Projects/misq/misq/vol31/iss4/5/metadata.xml\n",
      "/Users/floyd/Projects/misq/misq/vol31/iss4/6/metadata.xml\n",
      "/Users/floyd/Projects/misq/misq/vol31/iss4/7/metadata.xml\n",
      "/Users/floyd/Projects/misq/misq/vol31/iss4/8/metadata.xml\n",
      "/Users/floyd/Projects/misq/misq/vol31/iss4/9/metadata.xml\n",
      "/Users/floyd/Projects/misq/misq/vol32/iss1/1/metadata.xml\n",
      "/Users/floyd/Projects/misq/misq/vol32/iss1/10/metadata.xml\n",
      "/Users/floyd/Projects/misq/misq/vol32/iss1/2/metadata.xml\n",
      "/Users/floyd/Projects/misq/misq/vol32/iss1/3/metadata.xml\n",
      "/Users/floyd/Projects/misq/misq/vol32/iss1/4/metadata.xml\n",
      "/Users/floyd/Projects/misq/misq/vol32/iss1/5/metadata.xml\n",
      "/Users/floyd/Projects/misq/misq/vol32/iss1/6/metadata.xml\n",
      "/Users/floyd/Projects/misq/misq/vol32/iss1/7/metadata.xml\n",
      "/Users/floyd/Projects/misq/misq/vol32/iss1/8/metadata.xml\n",
      "/Users/floyd/Projects/misq/misq/vol32/iss1/9/metadata.xml\n",
      "/Users/floyd/Projects/misq/misq/vol32/iss2/1/metadata.xml\n",
      "/Users/floyd/Projects/misq/misq/vol32/iss2/10/metadata.xml\n",
      "/Users/floyd/Projects/misq/misq/vol32/iss2/11/metadata.xml\n",
      "/Users/floyd/Projects/misq/misq/vol32/iss2/12/metadata.xml\n",
      "/Users/floyd/Projects/misq/misq/vol32/iss2/13/metadata.xml\n",
      "/Users/floyd/Projects/misq/misq/vol32/iss2/14/metadata.xml\n",
      "/Users/floyd/Projects/misq/misq/vol32/iss2/2/metadata.xml\n",
      "/Users/floyd/Projects/misq/misq/vol32/iss2/3/metadata.xml\n",
      "/Users/floyd/Projects/misq/misq/vol32/iss2/4/metadata.xml\n",
      "/Users/floyd/Projects/misq/misq/vol32/iss2/5/metadata.xml\n",
      "/Users/floyd/Projects/misq/misq/vol32/iss2/6/metadata.xml\n",
      "/Users/floyd/Projects/misq/misq/vol32/iss2/7/metadata.xml\n",
      "/Users/floyd/Projects/misq/misq/vol32/iss2/8/metadata.xml\n",
      "/Users/floyd/Projects/misq/misq/vol32/iss2/9/metadata.xml\n",
      "/Users/floyd/Projects/misq/misq/vol32/iss3/1/metadata.xml\n",
      "/Users/floyd/Projects/misq/misq/vol32/iss3/10/metadata.xml\n",
      "/Users/floyd/Projects/misq/misq/vol32/iss3/11/metadata.xml\n",
      "/Users/floyd/Projects/misq/misq/vol32/iss3/2/metadata.xml\n",
      "/Users/floyd/Projects/misq/misq/vol32/iss3/3/metadata.xml\n",
      "/Users/floyd/Projects/misq/misq/vol32/iss3/4/metadata.xml\n",
      "/Users/floyd/Projects/misq/misq/vol32/iss3/5/metadata.xml\n",
      "/Users/floyd/Projects/misq/misq/vol32/iss3/6/metadata.xml\n",
      "/Users/floyd/Projects/misq/misq/vol32/iss3/7/metadata.xml\n",
      "/Users/floyd/Projects/misq/misq/vol32/iss3/8/metadata.xml\n",
      "/Users/floyd/Projects/misq/misq/vol32/iss3/9/metadata.xml\n",
      "/Users/floyd/Projects/misq/misq/vol32/iss4/1/metadata.xml\n",
      "/Users/floyd/Projects/misq/misq/vol32/iss4/10/metadata.xml\n",
      "/Users/floyd/Projects/misq/misq/vol32/iss4/11/metadata.xml\n",
      "/Users/floyd/Projects/misq/misq/vol32/iss4/12/metadata.xml\n",
      "/Users/floyd/Projects/misq/misq/vol32/iss4/2/metadata.xml\n",
      "/Users/floyd/Projects/misq/misq/vol32/iss4/3/metadata.xml\n",
      "/Users/floyd/Projects/misq/misq/vol32/iss4/4/metadata.xml\n",
      "/Users/floyd/Projects/misq/misq/vol32/iss4/5/metadata.xml\n",
      "/Users/floyd/Projects/misq/misq/vol32/iss4/6/metadata.xml\n",
      "/Users/floyd/Projects/misq/misq/vol32/iss4/7/metadata.xml\n",
      "/Users/floyd/Projects/misq/misq/vol32/iss4/8/metadata.xml\n",
      "/Users/floyd/Projects/misq/misq/vol32/iss4/9/metadata.xml\n",
      "/Users/floyd/Projects/misq/misq/vol33/iss1/1/metadata.xml\n",
      "/Users/floyd/Projects/misq/misq/vol33/iss1/10/metadata.xml\n",
      "/Users/floyd/Projects/misq/misq/vol33/iss1/11/metadata.xml\n",
      "/Users/floyd/Projects/misq/misq/vol33/iss1/12/metadata.xml\n",
      "/Users/floyd/Projects/misq/misq/vol33/iss1/2/metadata.xml\n",
      "/Users/floyd/Projects/misq/misq/vol33/iss1/3/metadata.xml\n",
      "/Users/floyd/Projects/misq/misq/vol33/iss1/4/metadata.xml\n",
      "/Users/floyd/Projects/misq/misq/vol33/iss1/5/metadata.xml\n",
      "/Users/floyd/Projects/misq/misq/vol33/iss1/6/metadata.xml\n",
      "/Users/floyd/Projects/misq/misq/vol33/iss1/7/metadata.xml\n",
      "/Users/floyd/Projects/misq/misq/vol33/iss1/8/metadata.xml\n",
      "/Users/floyd/Projects/misq/misq/vol33/iss1/9/metadata.xml\n",
      "/Users/floyd/Projects/misq/misq/vol33/iss2/1/metadata.xml\n",
      "/Users/floyd/Projects/misq/misq/vol33/iss2/10/metadata.xml\n",
      "/Users/floyd/Projects/misq/misq/vol33/iss2/11/metadata.xml\n",
      "/Users/floyd/Projects/misq/misq/vol33/iss2/2/metadata.xml\n",
      "/Users/floyd/Projects/misq/misq/vol33/iss2/3/metadata.xml\n",
      "/Users/floyd/Projects/misq/misq/vol33/iss2/4/metadata.xml\n",
      "/Users/floyd/Projects/misq/misq/vol33/iss2/5/metadata.xml\n",
      "/Users/floyd/Projects/misq/misq/vol33/iss2/6/metadata.xml\n",
      "/Users/floyd/Projects/misq/misq/vol33/iss2/7/metadata.xml\n",
      "/Users/floyd/Projects/misq/misq/vol33/iss2/8/metadata.xml\n",
      "/Users/floyd/Projects/misq/misq/vol33/iss2/9/metadata.xml\n",
      "/Users/floyd/Projects/misq/misq/vol33/iss3/1/metadata.xml\n",
      "/Users/floyd/Projects/misq/misq/vol33/iss3/10/metadata.xml\n",
      "/Users/floyd/Projects/misq/misq/vol33/iss3/11/metadata.xml\n",
      "/Users/floyd/Projects/misq/misq/vol33/iss3/12/metadata.xml\n",
      "/Users/floyd/Projects/misq/misq/vol33/iss3/13/metadata.xml\n",
      "/Users/floyd/Projects/misq/misq/vol33/iss3/2/metadata.xml\n",
      "/Users/floyd/Projects/misq/misq/vol33/iss3/3/metadata.xml\n",
      "/Users/floyd/Projects/misq/misq/vol33/iss3/4/metadata.xml\n",
      "/Users/floyd/Projects/misq/misq/vol33/iss3/5/metadata.xml\n",
      "/Users/floyd/Projects/misq/misq/vol33/iss3/6/metadata.xml\n",
      "/Users/floyd/Projects/misq/misq/vol33/iss3/7/metadata.xml\n",
      "/Users/floyd/Projects/misq/misq/vol33/iss3/8/metadata.xml\n",
      "/Users/floyd/Projects/misq/misq/vol33/iss3/9/metadata.xml\n",
      "/Users/floyd/Projects/misq/misq/vol33/iss4/1/metadata.xml\n",
      "/Users/floyd/Projects/misq/misq/vol33/iss4/10/metadata.xml\n",
      "/Users/floyd/Projects/misq/misq/vol33/iss4/11/metadata.xml\n",
      "/Users/floyd/Projects/misq/misq/vol33/iss4/12/metadata.xml\n",
      "/Users/floyd/Projects/misq/misq/vol33/iss4/13/metadata.xml\n",
      "/Users/floyd/Projects/misq/misq/vol33/iss4/14/metadata.xml\n",
      "/Users/floyd/Projects/misq/misq/vol33/iss4/15/metadata.xml\n",
      "/Users/floyd/Projects/misq/misq/vol33/iss4/16/metadata.xml\n",
      "/Users/floyd/Projects/misq/misq/vol33/iss4/17/metadata.xml\n",
      "/Users/floyd/Projects/misq/misq/vol33/iss4/2/metadata.xml\n",
      "/Users/floyd/Projects/misq/misq/vol33/iss4/3/metadata.xml\n",
      "/Users/floyd/Projects/misq/misq/vol33/iss4/4/metadata.xml\n",
      "/Users/floyd/Projects/misq/misq/vol33/iss4/5/metadata.xml\n",
      "/Users/floyd/Projects/misq/misq/vol33/iss4/6/metadata.xml\n",
      "/Users/floyd/Projects/misq/misq/vol33/iss4/7/metadata.xml\n",
      "/Users/floyd/Projects/misq/misq/vol33/iss4/8/metadata.xml\n",
      "/Users/floyd/Projects/misq/misq/vol33/iss4/9/metadata.xml\n",
      "/Users/floyd/Projects/misq/misq/vol34/iss1/1/metadata.xml\n",
      "/Users/floyd/Projects/misq/misq/vol34/iss1/10/metadata.xml\n",
      "/Users/floyd/Projects/misq/misq/vol34/iss1/11/metadata.xml\n",
      "/Users/floyd/Projects/misq/misq/vol34/iss1/2/metadata.xml\n",
      "/Users/floyd/Projects/misq/misq/vol34/iss1/3/metadata.xml\n",
      "/Users/floyd/Projects/misq/misq/vol34/iss1/4/metadata.xml\n",
      "/Users/floyd/Projects/misq/misq/vol34/iss1/5/metadata.xml\n",
      "/Users/floyd/Projects/misq/misq/vol34/iss1/6/metadata.xml\n",
      "/Users/floyd/Projects/misq/misq/vol34/iss1/7/metadata.xml\n",
      "/Users/floyd/Projects/misq/misq/vol34/iss1/8/metadata.xml\n",
      "/Users/floyd/Projects/misq/misq/vol34/iss1/9/metadata.xml\n",
      "/Users/floyd/Projects/misq/misq/vol34/iss2/1/metadata.xml\n",
      "/Users/floyd/Projects/misq/misq/vol34/iss2/10/metadata.xml\n",
      "/Users/floyd/Projects/misq/misq/vol34/iss2/11/metadata.xml\n",
      "/Users/floyd/Projects/misq/misq/vol34/iss2/12/metadata.xml\n",
      "/Users/floyd/Projects/misq/misq/vol34/iss2/2/metadata.xml\n",
      "/Users/floyd/Projects/misq/misq/vol34/iss2/3/metadata.xml\n",
      "/Users/floyd/Projects/misq/misq/vol34/iss2/4/metadata.xml\n",
      "/Users/floyd/Projects/misq/misq/vol34/iss2/5/metadata.xml\n",
      "/Users/floyd/Projects/misq/misq/vol34/iss2/6/metadata.xml\n",
      "/Users/floyd/Projects/misq/misq/vol34/iss2/7/metadata.xml\n",
      "/Users/floyd/Projects/misq/misq/vol34/iss2/8/metadata.xml\n",
      "/Users/floyd/Projects/misq/misq/vol34/iss2/9/metadata.xml\n",
      "/Users/floyd/Projects/misq/misq/vol34/iss3/1/metadata.xml\n",
      "/Users/floyd/Projects/misq/misq/vol34/iss3/10/metadata.xml\n",
      "/Users/floyd/Projects/misq/misq/vol34/iss3/11/metadata.xml\n",
      "/Users/floyd/Projects/misq/misq/vol34/iss3/12/metadata.xml\n",
      "/Users/floyd/Projects/misq/misq/vol34/iss3/13/metadata.xml\n",
      "/Users/floyd/Projects/misq/misq/vol34/iss3/2/metadata.xml\n",
      "/Users/floyd/Projects/misq/misq/vol34/iss3/3/metadata.xml\n",
      "/Users/floyd/Projects/misq/misq/vol34/iss3/4/metadata.xml\n",
      "/Users/floyd/Projects/misq/misq/vol34/iss3/5/metadata.xml\n",
      "/Users/floyd/Projects/misq/misq/vol34/iss3/6/metadata.xml\n",
      "/Users/floyd/Projects/misq/misq/vol34/iss3/7/metadata.xml\n",
      "/Users/floyd/Projects/misq/misq/vol34/iss3/8/metadata.xml\n",
      "/Users/floyd/Projects/misq/misq/vol34/iss3/9/metadata.xml\n",
      "/Users/floyd/Projects/misq/misq/vol34/iss4/1/metadata.xml\n",
      "/Users/floyd/Projects/misq/misq/vol34/iss4/10/metadata.xml\n",
      "/Users/floyd/Projects/misq/misq/vol34/iss4/11/metadata.xml\n",
      "/Users/floyd/Projects/misq/misq/vol34/iss4/12/metadata.xml\n",
      "/Users/floyd/Projects/misq/misq/vol34/iss4/13/metadata.xml\n",
      "/Users/floyd/Projects/misq/misq/vol34/iss4/2/metadata.xml\n",
      "/Users/floyd/Projects/misq/misq/vol34/iss4/3/metadata.xml\n",
      "/Users/floyd/Projects/misq/misq/vol34/iss4/4/metadata.xml\n",
      "/Users/floyd/Projects/misq/misq/vol34/iss4/5/metadata.xml\n",
      "/Users/floyd/Projects/misq/misq/vol34/iss4/6/metadata.xml\n",
      "/Users/floyd/Projects/misq/misq/vol34/iss4/7/metadata.xml\n",
      "/Users/floyd/Projects/misq/misq/vol34/iss4/8/metadata.xml\n",
      "/Users/floyd/Projects/misq/misq/vol34/iss4/9/metadata.xml\n",
      "/Users/floyd/Projects/misq/misq/vol35/iss1/1/metadata.xml\n",
      "/Users/floyd/Projects/misq/misq/vol35/iss1/10/metadata.xml\n",
      "/Users/floyd/Projects/misq/misq/vol35/iss1/11/metadata.xml\n",
      "/Users/floyd/Projects/misq/misq/vol35/iss1/12/metadata.xml\n",
      "/Users/floyd/Projects/misq/misq/vol35/iss1/13/metadata.xml\n",
      "/Users/floyd/Projects/misq/misq/vol35/iss1/2/metadata.xml\n",
      "/Users/floyd/Projects/misq/misq/vol35/iss1/3/metadata.xml\n",
      "/Users/floyd/Projects/misq/misq/vol35/iss1/4/metadata.xml\n",
      "/Users/floyd/Projects/misq/misq/vol35/iss1/5/metadata.xml\n",
      "/Users/floyd/Projects/misq/misq/vol35/iss1/6/metadata.xml\n",
      "/Users/floyd/Projects/misq/misq/vol35/iss1/7/metadata.xml\n",
      "/Users/floyd/Projects/misq/misq/vol35/iss1/8/metadata.xml\n",
      "/Users/floyd/Projects/misq/misq/vol35/iss1/9/metadata.xml\n",
      "/Users/floyd/Projects/misq/misq/vol35/iss2/1/metadata.xml\n",
      "/Users/floyd/Projects/misq/misq/vol35/iss2/10/metadata.xml\n",
      "/Users/floyd/Projects/misq/misq/vol35/iss2/11/metadata.xml\n",
      "/Users/floyd/Projects/misq/misq/vol35/iss2/12/metadata.xml\n",
      "/Users/floyd/Projects/misq/misq/vol35/iss2/13/metadata.xml\n",
      "/Users/floyd/Projects/misq/misq/vol35/iss2/14/metadata.xml\n",
      "/Users/floyd/Projects/misq/misq/vol35/iss2/2/metadata.xml\n",
      "/Users/floyd/Projects/misq/misq/vol35/iss2/3/metadata.xml\n",
      "/Users/floyd/Projects/misq/misq/vol35/iss2/4/metadata.xml\n",
      "/Users/floyd/Projects/misq/misq/vol35/iss2/5/metadata.xml\n",
      "/Users/floyd/Projects/misq/misq/vol35/iss2/6/metadata.xml\n",
      "/Users/floyd/Projects/misq/misq/vol35/iss2/7/metadata.xml\n",
      "/Users/floyd/Projects/misq/misq/vol35/iss2/8/metadata.xml\n",
      "/Users/floyd/Projects/misq/misq/vol35/iss2/9/metadata.xml\n",
      "/Users/floyd/Projects/misq/misq/vol35/iss3/1/metadata.xml\n",
      "/Users/floyd/Projects/misq/misq/vol35/iss3/10/metadata.xml\n",
      "/Users/floyd/Projects/misq/misq/vol35/iss3/11/metadata.xml\n",
      "/Users/floyd/Projects/misq/misq/vol35/iss3/12/metadata.xml\n",
      "/Users/floyd/Projects/misq/misq/vol35/iss3/13/metadata.xml\n",
      "/Users/floyd/Projects/misq/misq/vol35/iss3/14/metadata.xml\n",
      "/Users/floyd/Projects/misq/misq/vol35/iss3/15/metadata.xml\n",
      "/Users/floyd/Projects/misq/misq/vol35/iss3/16/metadata.xml\n",
      "/Users/floyd/Projects/misq/misq/vol35/iss3/17/metadata.xml\n",
      "/Users/floyd/Projects/misq/misq/vol35/iss3/2/metadata.xml\n",
      "/Users/floyd/Projects/misq/misq/vol35/iss3/3/metadata.xml\n",
      "/Users/floyd/Projects/misq/misq/vol35/iss3/4/metadata.xml\n",
      "/Users/floyd/Projects/misq/misq/vol35/iss3/5/metadata.xml\n",
      "/Users/floyd/Projects/misq/misq/vol35/iss3/6/metadata.xml\n",
      "/Users/floyd/Projects/misq/misq/vol35/iss3/7/metadata.xml\n",
      "/Users/floyd/Projects/misq/misq/vol35/iss3/8/metadata.xml\n",
      "/Users/floyd/Projects/misq/misq/vol35/iss3/9/metadata.xml\n",
      "/Users/floyd/Projects/misq/misq/vol35/iss4/1/metadata.xml\n",
      "/Users/floyd/Projects/misq/misq/vol35/iss4/10/metadata.xml\n",
      "/Users/floyd/Projects/misq/misq/vol35/iss4/11/metadata.xml\n",
      "/Users/floyd/Projects/misq/misq/vol35/iss4/12/metadata.xml\n",
      "/Users/floyd/Projects/misq/misq/vol35/iss4/13/metadata.xml\n",
      "/Users/floyd/Projects/misq/misq/vol35/iss4/14/metadata.xml\n",
      "/Users/floyd/Projects/misq/misq/vol35/iss4/15/metadata.xml\n",
      "/Users/floyd/Projects/misq/misq/vol35/iss4/16/metadata.xml\n",
      "/Users/floyd/Projects/misq/misq/vol35/iss4/17/metadata.xml\n",
      "/Users/floyd/Projects/misq/misq/vol35/iss4/18/metadata.xml\n",
      "/Users/floyd/Projects/misq/misq/vol35/iss4/19/metadata.xml\n",
      "/Users/floyd/Projects/misq/misq/vol35/iss4/2/metadata.xml\n",
      "/Users/floyd/Projects/misq/misq/vol35/iss4/20/metadata.xml\n",
      "/Users/floyd/Projects/misq/misq/vol35/iss4/3/metadata.xml\n",
      "/Users/floyd/Projects/misq/misq/vol35/iss4/4/metadata.xml\n",
      "/Users/floyd/Projects/misq/misq/vol35/iss4/5/metadata.xml\n",
      "/Users/floyd/Projects/misq/misq/vol35/iss4/6/metadata.xml\n",
      "/Users/floyd/Projects/misq/misq/vol35/iss4/7/metadata.xml\n",
      "/Users/floyd/Projects/misq/misq/vol35/iss4/8/metadata.xml\n",
      "/Users/floyd/Projects/misq/misq/vol35/iss4/9/metadata.xml\n",
      "/Users/floyd/Projects/misq/misq/vol36/iss1/1/metadata.xml\n",
      "/Users/floyd/Projects/misq/misq/vol36/iss1/10/metadata.xml\n",
      "/Users/floyd/Projects/misq/misq/vol36/iss1/11/metadata.xml\n",
      "/Users/floyd/Projects/misq/misq/vol36/iss1/12/metadata.xml\n",
      "/Users/floyd/Projects/misq/misq/vol36/iss1/13/metadata.xml\n",
      "/Users/floyd/Projects/misq/misq/vol36/iss1/14/metadata.xml\n",
      "/Users/floyd/Projects/misq/misq/vol36/iss1/15/metadata.xml\n",
      "/Users/floyd/Projects/misq/misq/vol36/iss1/16/metadata.xml\n",
      "/Users/floyd/Projects/misq/misq/vol36/iss1/17/metadata.xml\n",
      "/Users/floyd/Projects/misq/misq/vol36/iss1/18/metadata.xml\n",
      "/Users/floyd/Projects/misq/misq/vol36/iss1/19/metadata.xml\n",
      "/Users/floyd/Projects/misq/misq/vol36/iss1/2/metadata.xml\n",
      "/Users/floyd/Projects/misq/misq/vol36/iss1/3/metadata.xml\n",
      "/Users/floyd/Projects/misq/misq/vol36/iss1/4/metadata.xml\n",
      "/Users/floyd/Projects/misq/misq/vol36/iss1/5/metadata.xml\n",
      "/Users/floyd/Projects/misq/misq/vol36/iss1/6/metadata.xml\n",
      "/Users/floyd/Projects/misq/misq/vol36/iss1/7/metadata.xml\n",
      "/Users/floyd/Projects/misq/misq/vol36/iss1/8/metadata.xml\n",
      "/Users/floyd/Projects/misq/misq/vol36/iss1/9/metadata.xml\n",
      "/Users/floyd/Projects/misq/misq/vol36/iss2/1/metadata.xml\n",
      "/Users/floyd/Projects/misq/misq/vol36/iss2/10/metadata.xml\n",
      "/Users/floyd/Projects/misq/misq/vol36/iss2/11/metadata.xml\n",
      "/Users/floyd/Projects/misq/misq/vol36/iss2/12/metadata.xml\n",
      "/Users/floyd/Projects/misq/misq/vol36/iss2/13/metadata.xml\n",
      "/Users/floyd/Projects/misq/misq/vol36/iss2/14/metadata.xml\n",
      "/Users/floyd/Projects/misq/misq/vol36/iss2/15/metadata.xml\n",
      "/Users/floyd/Projects/misq/misq/vol36/iss2/16/metadata.xml\n",
      "/Users/floyd/Projects/misq/misq/vol36/iss2/2/metadata.xml\n",
      "/Users/floyd/Projects/misq/misq/vol36/iss2/3/metadata.xml\n",
      "/Users/floyd/Projects/misq/misq/vol36/iss2/4/metadata.xml\n",
      "/Users/floyd/Projects/misq/misq/vol36/iss2/5/metadata.xml\n",
      "/Users/floyd/Projects/misq/misq/vol36/iss2/6/metadata.xml\n",
      "/Users/floyd/Projects/misq/misq/vol36/iss2/7/metadata.xml\n",
      "/Users/floyd/Projects/misq/misq/vol36/iss2/8/metadata.xml\n",
      "/Users/floyd/Projects/misq/misq/vol36/iss2/9/metadata.xml\n",
      "/Users/floyd/Projects/misq/misq/vol36/iss3/1/metadata.xml\n",
      "/Users/floyd/Projects/misq/misq/vol36/iss3/10/metadata.xml\n",
      "/Users/floyd/Projects/misq/misq/vol36/iss3/11/metadata.xml\n",
      "/Users/floyd/Projects/misq/misq/vol36/iss3/12/metadata.xml\n",
      "/Users/floyd/Projects/misq/misq/vol36/iss3/13/metadata.xml\n",
      "/Users/floyd/Projects/misq/misq/vol36/iss3/14/metadata.xml\n",
      "/Users/floyd/Projects/misq/misq/vol36/iss3/15/metadata.xml\n",
      "/Users/floyd/Projects/misq/misq/vol36/iss3/16/metadata.xml\n",
      "/Users/floyd/Projects/misq/misq/vol36/iss3/17/metadata.xml\n",
      "/Users/floyd/Projects/misq/misq/vol36/iss3/18/metadata.xml\n",
      "/Users/floyd/Projects/misq/misq/vol36/iss3/19/metadata.xml\n",
      "/Users/floyd/Projects/misq/misq/vol36/iss3/2/metadata.xml\n",
      "/Users/floyd/Projects/misq/misq/vol36/iss3/3/metadata.xml\n",
      "/Users/floyd/Projects/misq/misq/vol36/iss3/4/metadata.xml\n",
      "/Users/floyd/Projects/misq/misq/vol36/iss3/5/metadata.xml\n",
      "/Users/floyd/Projects/misq/misq/vol36/iss3/6/metadata.xml\n",
      "/Users/floyd/Projects/misq/misq/vol36/iss3/7/metadata.xml\n",
      "/Users/floyd/Projects/misq/misq/vol36/iss3/8/metadata.xml\n",
      "/Users/floyd/Projects/misq/misq/vol36/iss3/9/metadata.xml\n",
      "/Users/floyd/Projects/misq/misq/vol36/iss4/1/metadata.xml\n",
      "/Users/floyd/Projects/misq/misq/vol36/iss4/10/metadata.xml\n",
      "/Users/floyd/Projects/misq/misq/vol36/iss4/11/metadata.xml\n",
      "/Users/floyd/Projects/misq/misq/vol36/iss4/12/metadata.xml\n",
      "/Users/floyd/Projects/misq/misq/vol36/iss4/13/metadata.xml\n",
      "/Users/floyd/Projects/misq/misq/vol36/iss4/14/metadata.xml\n",
      "/Users/floyd/Projects/misq/misq/vol36/iss4/15/metadata.xml\n",
      "/Users/floyd/Projects/misq/misq/vol36/iss4/16/metadata.xml\n",
      "/Users/floyd/Projects/misq/misq/vol36/iss4/17/metadata.xml\n",
      "/Users/floyd/Projects/misq/misq/vol36/iss4/18/metadata.xml\n",
      "/Users/floyd/Projects/misq/misq/vol36/iss4/19/metadata.xml\n",
      "/Users/floyd/Projects/misq/misq/vol36/iss4/2/metadata.xml\n",
      "/Users/floyd/Projects/misq/misq/vol36/iss4/20/metadata.xml\n",
      "/Users/floyd/Projects/misq/misq/vol36/iss4/21/metadata.xml\n",
      "/Users/floyd/Projects/misq/misq/vol36/iss4/22/metadata.xml\n",
      "/Users/floyd/Projects/misq/misq/vol36/iss4/3/metadata.xml\n",
      "/Users/floyd/Projects/misq/misq/vol36/iss4/4/metadata.xml\n",
      "/Users/floyd/Projects/misq/misq/vol36/iss4/5/metadata.xml\n",
      "/Users/floyd/Projects/misq/misq/vol36/iss4/6/metadata.xml\n",
      "/Users/floyd/Projects/misq/misq/vol36/iss4/7/metadata.xml\n",
      "/Users/floyd/Projects/misq/misq/vol36/iss4/8/metadata.xml\n",
      "/Users/floyd/Projects/misq/misq/vol36/iss4/9/metadata.xml\n",
      "/Users/floyd/Projects/misq/misq/vol37/iss1/1/metadata.xml\n",
      "/Users/floyd/Projects/misq/misq/vol37/iss1/10/metadata.xml\n",
      "/Users/floyd/Projects/misq/misq/vol37/iss1/11/metadata.xml\n",
      "/Users/floyd/Projects/misq/misq/vol37/iss1/12/metadata.xml\n",
      "/Users/floyd/Projects/misq/misq/vol37/iss1/13/metadata.xml\n",
      "/Users/floyd/Projects/misq/misq/vol37/iss1/14/metadata.xml\n",
      "/Users/floyd/Projects/misq/misq/vol37/iss1/15/metadata.xml\n",
      "/Users/floyd/Projects/misq/misq/vol37/iss1/2/metadata.xml\n",
      "/Users/floyd/Projects/misq/misq/vol37/iss1/3/metadata.xml\n",
      "/Users/floyd/Projects/misq/misq/vol37/iss1/4/metadata.xml\n",
      "/Users/floyd/Projects/misq/misq/vol37/iss1/5/metadata.xml\n",
      "/Users/floyd/Projects/misq/misq/vol37/iss1/6/metadata.xml\n",
      "/Users/floyd/Projects/misq/misq/vol37/iss1/7/metadata.xml\n",
      "/Users/floyd/Projects/misq/misq/vol37/iss1/8/metadata.xml\n",
      "/Users/floyd/Projects/misq/misq/vol37/iss1/9/metadata.xml\n",
      "/Users/floyd/Projects/misq/misq/vol37/iss2/1/metadata.xml\n",
      "/Users/floyd/Projects/misq/misq/vol37/iss2/10/metadata.xml\n",
      "/Users/floyd/Projects/misq/misq/vol37/iss2/11/metadata.xml\n",
      "/Users/floyd/Projects/misq/misq/vol37/iss2/12/metadata.xml\n",
      "/Users/floyd/Projects/misq/misq/vol37/iss2/13/metadata.xml\n",
      "/Users/floyd/Projects/misq/misq/vol37/iss2/14/metadata.xml\n",
      "/Users/floyd/Projects/misq/misq/vol37/iss2/15/metadata.xml\n",
      "/Users/floyd/Projects/misq/misq/vol37/iss2/16/metadata.xml\n",
      "/Users/floyd/Projects/misq/misq/vol37/iss2/17/metadata.xml\n",
      "/Users/floyd/Projects/misq/misq/vol37/iss2/2/metadata.xml\n",
      "/Users/floyd/Projects/misq/misq/vol37/iss2/3/metadata.xml\n",
      "/Users/floyd/Projects/misq/misq/vol37/iss2/4/metadata.xml\n",
      "/Users/floyd/Projects/misq/misq/vol37/iss2/5/metadata.xml\n",
      "/Users/floyd/Projects/misq/misq/vol37/iss2/6/metadata.xml\n",
      "/Users/floyd/Projects/misq/misq/vol37/iss2/7/metadata.xml\n",
      "/Users/floyd/Projects/misq/misq/vol37/iss2/8/metadata.xml\n",
      "/Users/floyd/Projects/misq/misq/vol37/iss2/9/metadata.xml\n",
      "/Users/floyd/Projects/misq/misq/vol37/iss3/1/metadata.xml\n",
      "/Users/floyd/Projects/misq/misq/vol37/iss3/10/metadata.xml\n",
      "/Users/floyd/Projects/misq/misq/vol37/iss3/11/metadata.xml\n",
      "/Users/floyd/Projects/misq/misq/vol37/iss3/12/metadata.xml\n",
      "/Users/floyd/Projects/misq/misq/vol37/iss3/13/metadata.xml\n",
      "/Users/floyd/Projects/misq/misq/vol37/iss3/14/metadata.xml\n",
      "/Users/floyd/Projects/misq/misq/vol37/iss3/15/metadata.xml\n",
      "/Users/floyd/Projects/misq/misq/vol37/iss3/16/metadata.xml\n",
      "/Users/floyd/Projects/misq/misq/vol37/iss3/2/metadata.xml\n",
      "/Users/floyd/Projects/misq/misq/vol37/iss3/3/metadata.xml\n",
      "/Users/floyd/Projects/misq/misq/vol37/iss3/4/metadata.xml\n",
      "/Users/floyd/Projects/misq/misq/vol37/iss3/5/metadata.xml\n",
      "/Users/floyd/Projects/misq/misq/vol37/iss3/6/metadata.xml\n",
      "/Users/floyd/Projects/misq/misq/vol37/iss3/7/metadata.xml\n",
      "/Users/floyd/Projects/misq/misq/vol37/iss3/8/metadata.xml\n",
      "/Users/floyd/Projects/misq/misq/vol37/iss3/9/metadata.xml\n",
      "/Users/floyd/Projects/misq/misq/vol37/iss4/1/metadata.xml\n",
      "/Users/floyd/Projects/misq/misq/vol37/iss4/10/metadata.xml\n",
      "/Users/floyd/Projects/misq/misq/vol37/iss4/11/metadata.xml\n",
      "/Users/floyd/Projects/misq/misq/vol37/iss4/12/metadata.xml\n",
      "/Users/floyd/Projects/misq/misq/vol37/iss4/13/metadata.xml\n",
      "/Users/floyd/Projects/misq/misq/vol37/iss4/14/metadata.xml\n",
      "/Users/floyd/Projects/misq/misq/vol37/iss4/15/metadata.xml\n",
      "/Users/floyd/Projects/misq/misq/vol37/iss4/16/metadata.xml\n",
      "/Users/floyd/Projects/misq/misq/vol37/iss4/17/metadata.xml\n",
      "/Users/floyd/Projects/misq/misq/vol37/iss4/18/metadata.xml\n",
      "/Users/floyd/Projects/misq/misq/vol37/iss4/19/metadata.xml\n",
      "/Users/floyd/Projects/misq/misq/vol37/iss4/2/metadata.xml\n",
      "/Users/floyd/Projects/misq/misq/vol37/iss4/20/metadata.xml\n",
      "/Users/floyd/Projects/misq/misq/vol37/iss4/21/metadata.xml\n",
      "/Users/floyd/Projects/misq/misq/vol37/iss4/22/metadata.xml\n",
      "/Users/floyd/Projects/misq/misq/vol37/iss4/23/metadata.xml\n",
      "/Users/floyd/Projects/misq/misq/vol37/iss4/3/metadata.xml\n",
      "/Users/floyd/Projects/misq/misq/vol37/iss4/4/metadata.xml\n",
      "/Users/floyd/Projects/misq/misq/vol37/iss4/5/metadata.xml\n",
      "/Users/floyd/Projects/misq/misq/vol37/iss4/6/metadata.xml\n",
      "/Users/floyd/Projects/misq/misq/vol37/iss4/7/metadata.xml\n",
      "/Users/floyd/Projects/misq/misq/vol37/iss4/8/metadata.xml\n",
      "/Users/floyd/Projects/misq/misq/vol37/iss4/9/metadata.xml\n",
      "/Users/floyd/Projects/misq/misq/vol38/iss1/1/metadata.xml\n",
      "/Users/floyd/Projects/misq/misq/vol38/iss1/10/metadata.xml\n",
      "/Users/floyd/Projects/misq/misq/vol38/iss1/11/metadata.xml\n",
      "/Users/floyd/Projects/misq/misq/vol38/iss1/12/metadata.xml\n",
      "/Users/floyd/Projects/misq/misq/vol38/iss1/13/metadata.xml\n",
      "/Users/floyd/Projects/misq/misq/vol38/iss1/14/metadata.xml\n",
      "/Users/floyd/Projects/misq/misq/vol38/iss1/15/metadata.xml\n",
      "/Users/floyd/Projects/misq/misq/vol38/iss1/16/metadata.xml\n",
      "/Users/floyd/Projects/misq/misq/vol38/iss1/2/metadata.xml\n",
      "/Users/floyd/Projects/misq/misq/vol38/iss1/3/metadata.xml\n",
      "/Users/floyd/Projects/misq/misq/vol38/iss1/4/metadata.xml\n",
      "/Users/floyd/Projects/misq/misq/vol38/iss1/5/metadata.xml\n",
      "/Users/floyd/Projects/misq/misq/vol38/iss1/6/metadata.xml\n",
      "/Users/floyd/Projects/misq/misq/vol38/iss1/7/metadata.xml\n",
      "/Users/floyd/Projects/misq/misq/vol38/iss1/8/metadata.xml\n",
      "/Users/floyd/Projects/misq/misq/vol38/iss1/9/metadata.xml\n",
      "/Users/floyd/Projects/misq/misq/vol38/iss2/1/metadata.xml\n",
      "/Users/floyd/Projects/misq/misq/vol38/iss2/10/metadata.xml\n",
      "/Users/floyd/Projects/misq/misq/vol38/iss2/11/metadata.xml\n",
      "/Users/floyd/Projects/misq/misq/vol38/iss2/12/metadata.xml\n",
      "/Users/floyd/Projects/misq/misq/vol38/iss2/13/metadata.xml\n",
      "/Users/floyd/Projects/misq/misq/vol38/iss2/14/metadata.xml\n",
      "/Users/floyd/Projects/misq/misq/vol38/iss2/15/metadata.xml\n",
      "/Users/floyd/Projects/misq/misq/vol38/iss2/2/metadata.xml\n",
      "/Users/floyd/Projects/misq/misq/vol38/iss2/3/metadata.xml\n",
      "/Users/floyd/Projects/misq/misq/vol38/iss2/4/metadata.xml\n",
      "/Users/floyd/Projects/misq/misq/vol38/iss2/5/metadata.xml\n",
      "/Users/floyd/Projects/misq/misq/vol38/iss2/6/metadata.xml\n",
      "/Users/floyd/Projects/misq/misq/vol38/iss2/7/metadata.xml\n",
      "/Users/floyd/Projects/misq/misq/vol38/iss2/8/metadata.xml\n",
      "/Users/floyd/Projects/misq/misq/vol38/iss2/9/metadata.xml\n",
      "/Users/floyd/Projects/misq/misq/vol38/iss3/1/metadata.xml\n",
      "/Users/floyd/Projects/misq/misq/vol38/iss3/10/metadata.xml\n",
      "/Users/floyd/Projects/misq/misq/vol38/iss3/11/metadata.xml\n",
      "/Users/floyd/Projects/misq/misq/vol38/iss3/12/metadata.xml\n",
      "/Users/floyd/Projects/misq/misq/vol38/iss3/13/metadata.xml\n",
      "/Users/floyd/Projects/misq/misq/vol38/iss3/14/metadata.xml\n",
      "/Users/floyd/Projects/misq/misq/vol38/iss3/15/metadata.xml\n",
      "/Users/floyd/Projects/misq/misq/vol38/iss3/16/metadata.xml\n",
      "/Users/floyd/Projects/misq/misq/vol38/iss3/2/metadata.xml\n",
      "/Users/floyd/Projects/misq/misq/vol38/iss3/3/metadata.xml\n",
      "/Users/floyd/Projects/misq/misq/vol38/iss3/4/metadata.xml\n",
      "/Users/floyd/Projects/misq/misq/vol38/iss3/5/metadata.xml\n",
      "/Users/floyd/Projects/misq/misq/vol38/iss3/6/metadata.xml\n",
      "/Users/floyd/Projects/misq/misq/vol38/iss3/7/metadata.xml\n",
      "/Users/floyd/Projects/misq/misq/vol38/iss3/8/metadata.xml\n",
      "/Users/floyd/Projects/misq/misq/vol38/iss3/9/metadata.xml\n",
      "/Users/floyd/Projects/misq/misq/vol38/iss4/1/metadata.xml\n",
      "/Users/floyd/Projects/misq/misq/vol38/iss4/10/metadata.xml\n",
      "/Users/floyd/Projects/misq/misq/vol38/iss4/11/metadata.xml\n",
      "/Users/floyd/Projects/misq/misq/vol38/iss4/12/metadata.xml\n",
      "/Users/floyd/Projects/misq/misq/vol38/iss4/13/metadata.xml\n",
      "/Users/floyd/Projects/misq/misq/vol38/iss4/14/metadata.xml\n",
      "/Users/floyd/Projects/misq/misq/vol38/iss4/15/metadata.xml\n",
      "/Users/floyd/Projects/misq/misq/vol38/iss4/16/metadata.xml\n",
      "/Users/floyd/Projects/misq/misq/vol38/iss4/17/metadata.xml\n",
      "/Users/floyd/Projects/misq/misq/vol38/iss4/2/metadata.xml\n",
      "/Users/floyd/Projects/misq/misq/vol38/iss4/3/metadata.xml\n",
      "/Users/floyd/Projects/misq/misq/vol38/iss4/4/metadata.xml\n",
      "/Users/floyd/Projects/misq/misq/vol38/iss4/5/metadata.xml\n",
      "/Users/floyd/Projects/misq/misq/vol38/iss4/6/metadata.xml\n",
      "/Users/floyd/Projects/misq/misq/vol38/iss4/7/metadata.xml\n",
      "/Users/floyd/Projects/misq/misq/vol38/iss4/8/metadata.xml\n",
      "/Users/floyd/Projects/misq/misq/vol38/iss4/9/metadata.xml\n",
      "/Users/floyd/Projects/misq/misq/vol39/iss1/1/metadata.xml\n",
      "/Users/floyd/Projects/misq/misq/vol39/iss1/10/metadata.xml\n",
      "/Users/floyd/Projects/misq/misq/vol39/iss1/11/metadata.xml\n",
      "/Users/floyd/Projects/misq/misq/vol39/iss1/12/metadata.xml\n",
      "/Users/floyd/Projects/misq/misq/vol39/iss1/13/metadata.xml\n",
      "/Users/floyd/Projects/misq/misq/vol39/iss1/14/metadata.xml\n",
      "/Users/floyd/Projects/misq/misq/vol39/iss1/2/metadata.xml\n",
      "/Users/floyd/Projects/misq/misq/vol39/iss1/3/metadata.xml\n",
      "/Users/floyd/Projects/misq/misq/vol39/iss1/4/metadata.xml\n",
      "/Users/floyd/Projects/misq/misq/vol39/iss1/5/metadata.xml\n",
      "/Users/floyd/Projects/misq/misq/vol39/iss1/6/metadata.xml\n",
      "/Users/floyd/Projects/misq/misq/vol39/iss1/7/metadata.xml\n",
      "/Users/floyd/Projects/misq/misq/vol39/iss1/8/metadata.xml\n",
      "/Users/floyd/Projects/misq/misq/vol39/iss1/9/metadata.xml\n",
      "/Users/floyd/Projects/misq/misq/vol39/iss2/1/metadata.xml\n",
      "/Users/floyd/Projects/misq/misq/vol39/iss2/10/metadata.xml\n",
      "/Users/floyd/Projects/misq/misq/vol39/iss2/11/metadata.xml\n",
      "/Users/floyd/Projects/misq/misq/vol39/iss2/12/metadata.xml\n",
      "/Users/floyd/Projects/misq/misq/vol39/iss2/13/metadata.xml\n",
      "/Users/floyd/Projects/misq/misq/vol39/iss2/2/metadata.xml\n",
      "/Users/floyd/Projects/misq/misq/vol39/iss2/3/metadata.xml\n",
      "/Users/floyd/Projects/misq/misq/vol39/iss2/4/metadata.xml\n",
      "/Users/floyd/Projects/misq/misq/vol39/iss2/5/metadata.xml\n",
      "/Users/floyd/Projects/misq/misq/vol39/iss2/6/metadata.xml\n",
      "/Users/floyd/Projects/misq/misq/vol39/iss2/7/metadata.xml\n",
      "/Users/floyd/Projects/misq/misq/vol39/iss2/8/metadata.xml\n",
      "/Users/floyd/Projects/misq/misq/vol39/iss2/9/metadata.xml\n",
      "/Users/floyd/Projects/misq/misq/vol39/iss3/1/metadata.xml\n",
      "/Users/floyd/Projects/misq/misq/vol39/iss3/10/metadata.xml\n",
      "/Users/floyd/Projects/misq/misq/vol39/iss3/11/metadata.xml\n",
      "/Users/floyd/Projects/misq/misq/vol39/iss3/12/metadata.xml\n",
      "/Users/floyd/Projects/misq/misq/vol39/iss3/13/metadata.xml\n",
      "/Users/floyd/Projects/misq/misq/vol39/iss3/2/metadata.xml\n",
      "/Users/floyd/Projects/misq/misq/vol39/iss3/3/metadata.xml\n",
      "/Users/floyd/Projects/misq/misq/vol39/iss3/4/metadata.xml\n",
      "/Users/floyd/Projects/misq/misq/vol39/iss3/5/metadata.xml\n",
      "/Users/floyd/Projects/misq/misq/vol39/iss3/6/metadata.xml\n",
      "/Users/floyd/Projects/misq/misq/vol39/iss3/7/metadata.xml\n",
      "/Users/floyd/Projects/misq/misq/vol39/iss3/8/metadata.xml\n",
      "/Users/floyd/Projects/misq/misq/vol39/iss3/9/metadata.xml\n",
      "/Users/floyd/Projects/misq/misq/vol39/iss4/1/metadata.xml\n",
      "/Users/floyd/Projects/misq/misq/vol39/iss4/10/metadata.xml\n",
      "/Users/floyd/Projects/misq/misq/vol39/iss4/11/metadata.xml\n",
      "/Users/floyd/Projects/misq/misq/vol39/iss4/12/metadata.xml\n",
      "/Users/floyd/Projects/misq/misq/vol39/iss4/2/metadata.xml\n",
      "/Users/floyd/Projects/misq/misq/vol39/iss4/3/metadata.xml\n",
      "/Users/floyd/Projects/misq/misq/vol39/iss4/4/metadata.xml\n",
      "/Users/floyd/Projects/misq/misq/vol39/iss4/5/metadata.xml\n",
      "/Users/floyd/Projects/misq/misq/vol39/iss4/6/metadata.xml\n",
      "/Users/floyd/Projects/misq/misq/vol39/iss4/7/metadata.xml\n",
      "/Users/floyd/Projects/misq/misq/vol39/iss4/8/metadata.xml\n",
      "/Users/floyd/Projects/misq/misq/vol39/iss4/9/metadata.xml\n",
      "/Users/floyd/Projects/misq/misq/vol4/iss1/1/metadata.xml\n",
      "/Users/floyd/Projects/misq/misq/vol4/iss1/2/metadata.xml\n",
      "/Users/floyd/Projects/misq/misq/vol4/iss1/3/metadata.xml\n",
      "/Users/floyd/Projects/misq/misq/vol4/iss1/4/metadata.xml\n",
      "/Users/floyd/Projects/misq/misq/vol4/iss1/5/metadata.xml\n",
      "/Users/floyd/Projects/misq/misq/vol4/iss2/1/metadata.xml\n",
      "/Users/floyd/Projects/misq/misq/vol4/iss2/2/metadata.xml\n",
      "/Users/floyd/Projects/misq/misq/vol4/iss2/3/metadata.xml\n",
      "/Users/floyd/Projects/misq/misq/vol4/iss2/4/metadata.xml\n",
      "/Users/floyd/Projects/misq/misq/vol4/iss2/5/metadata.xml\n",
      "/Users/floyd/Projects/misq/misq/vol4/iss4/1/metadata.xml\n",
      "/Users/floyd/Projects/misq/misq/vol4/iss4/2/metadata.xml\n",
      "/Users/floyd/Projects/misq/misq/vol4/iss4/3/metadata.xml\n",
      "/Users/floyd/Projects/misq/misq/vol4/iss4/4/metadata.xml\n",
      "/Users/floyd/Projects/misq/misq/vol4/iss4/5/metadata.xml\n",
      "/Users/floyd/Projects/misq/misq/vol40/iss1/1/metadata.xml\n",
      "/Users/floyd/Projects/misq/misq/vol40/iss1/10/metadata.xml\n",
      "/Users/floyd/Projects/misq/misq/vol40/iss1/11/metadata.xml\n",
      "/Users/floyd/Projects/misq/misq/vol40/iss1/12/metadata.xml\n",
      "/Users/floyd/Projects/misq/misq/vol40/iss1/13/metadata.xml\n",
      "/Users/floyd/Projects/misq/misq/vol40/iss1/2/metadata.xml\n",
      "/Users/floyd/Projects/misq/misq/vol40/iss1/3/metadata.xml\n",
      "/Users/floyd/Projects/misq/misq/vol40/iss1/4/metadata.xml\n",
      "/Users/floyd/Projects/misq/misq/vol40/iss1/5/metadata.xml\n",
      "/Users/floyd/Projects/misq/misq/vol40/iss1/6/metadata.xml\n",
      "/Users/floyd/Projects/misq/misq/vol40/iss1/7/metadata.xml\n",
      "/Users/floyd/Projects/misq/misq/vol40/iss1/8/metadata.xml\n",
      "/Users/floyd/Projects/misq/misq/vol40/iss1/9/metadata.xml\n",
      "/Users/floyd/Projects/misq/misq/vol5/iss1/1/metadata.xml\n",
      "/Users/floyd/Projects/misq/misq/vol5/iss1/2/metadata.xml\n",
      "/Users/floyd/Projects/misq/misq/vol5/iss1/3/metadata.xml\n",
      "/Users/floyd/Projects/misq/misq/vol5/iss1/4/metadata.xml\n",
      "/Users/floyd/Projects/misq/misq/vol5/iss1/5/metadata.xml\n",
      "/Users/floyd/Projects/misq/misq/vol5/iss2/1/metadata.xml\n",
      "/Users/floyd/Projects/misq/misq/vol5/iss2/2/metadata.xml\n",
      "/Users/floyd/Projects/misq/misq/vol5/iss2/3/metadata.xml\n",
      "/Users/floyd/Projects/misq/misq/vol5/iss2/4/metadata.xml\n",
      "/Users/floyd/Projects/misq/misq/vol5/iss3/1/metadata.xml\n",
      "/Users/floyd/Projects/misq/misq/vol5/iss3/2/metadata.xml\n",
      "/Users/floyd/Projects/misq/misq/vol5/iss3/3/metadata.xml\n",
      "/Users/floyd/Projects/misq/misq/vol5/iss3/4/metadata.xml\n",
      "/Users/floyd/Projects/misq/misq/vol5/iss3/5/metadata.xml\n",
      "/Users/floyd/Projects/misq/misq/vol5/iss4/1/metadata.xml\n",
      "/Users/floyd/Projects/misq/misq/vol5/iss4/2/metadata.xml\n",
      "/Users/floyd/Projects/misq/misq/vol5/iss4/3/metadata.xml\n",
      "/Users/floyd/Projects/misq/misq/vol5/iss4/4/metadata.xml\n",
      "/Users/floyd/Projects/misq/misq/vol5/iss4/5/metadata.xml\n",
      "/Users/floyd/Projects/misq/misq/vol5/iss4/6/metadata.xml\n",
      "/Users/floyd/Projects/misq/misq/vol6/iss1/1/metadata.xml\n",
      "/Users/floyd/Projects/misq/misq/vol6/iss1/2/metadata.xml\n",
      "/Users/floyd/Projects/misq/misq/vol6/iss1/3/metadata.xml\n",
      "/Users/floyd/Projects/misq/misq/vol6/iss1/4/metadata.xml\n",
      "/Users/floyd/Projects/misq/misq/vol6/iss1/5/metadata.xml\n",
      "/Users/floyd/Projects/misq/misq/vol6/iss2/1/metadata.xml\n",
      "/Users/floyd/Projects/misq/misq/vol6/iss2/2/metadata.xml\n",
      "/Users/floyd/Projects/misq/misq/vol6/iss2/3/metadata.xml\n",
      "/Users/floyd/Projects/misq/misq/vol6/iss2/4/metadata.xml\n",
      "/Users/floyd/Projects/misq/misq/vol6/iss2/5/metadata.xml\n",
      "/Users/floyd/Projects/misq/misq/vol7/iss1/1/metadata.xml\n",
      "/Users/floyd/Projects/misq/misq/vol7/iss1/2/metadata.xml\n",
      "/Users/floyd/Projects/misq/misq/vol7/iss1/3/metadata.xml\n",
      "/Users/floyd/Projects/misq/misq/vol7/iss1/4/metadata.xml\n",
      "/Users/floyd/Projects/misq/misq/vol7/iss1/5/metadata.xml\n",
      "/Users/floyd/Projects/misq/misq/vol7/iss2/1/metadata.xml\n",
      "/Users/floyd/Projects/misq/misq/vol7/iss2/2/metadata.xml\n",
      "/Users/floyd/Projects/misq/misq/vol7/iss2/3/metadata.xml\n",
      "/Users/floyd/Projects/misq/misq/vol7/iss2/4/metadata.xml\n",
      "/Users/floyd/Projects/misq/misq/vol7/iss2/5/metadata.xml\n",
      "/Users/floyd/Projects/misq/misq/vol7/iss3/1/metadata.xml\n",
      "/Users/floyd/Projects/misq/misq/vol7/iss3/2/metadata.xml\n",
      "/Users/floyd/Projects/misq/misq/vol7/iss3/3/metadata.xml\n",
      "/Users/floyd/Projects/misq/misq/vol7/iss3/4/metadata.xml\n",
      "/Users/floyd/Projects/misq/misq/vol7/iss3/5/metadata.xml\n",
      "/Users/floyd/Projects/misq/misq/vol7/iss4/1/metadata.xml\n",
      "/Users/floyd/Projects/misq/misq/vol7/iss4/2/metadata.xml\n",
      "/Users/floyd/Projects/misq/misq/vol7/iss4/3/metadata.xml\n",
      "/Users/floyd/Projects/misq/misq/vol7/iss4/4/metadata.xml\n",
      "/Users/floyd/Projects/misq/misq/vol7/iss4/5/metadata.xml\n",
      "/Users/floyd/Projects/misq/misq/vol8/iss1/1/metadata.xml\n",
      "/Users/floyd/Projects/misq/misq/vol8/iss1/2/metadata.xml\n",
      "/Users/floyd/Projects/misq/misq/vol8/iss1/3/metadata.xml\n",
      "/Users/floyd/Projects/misq/misq/vol8/iss1/4/metadata.xml\n",
      "/Users/floyd/Projects/misq/misq/vol8/iss1/5/metadata.xml\n",
      "/Users/floyd/Projects/misq/misq/vol8/iss2/1/metadata.xml\n",
      "/Users/floyd/Projects/misq/misq/vol8/iss2/2/metadata.xml\n",
      "/Users/floyd/Projects/misq/misq/vol8/iss2/3/metadata.xml\n",
      "/Users/floyd/Projects/misq/misq/vol8/iss2/4/metadata.xml\n",
      "/Users/floyd/Projects/misq/misq/vol8/iss2/5/metadata.xml\n",
      "/Users/floyd/Projects/misq/misq/vol8/iss3/1/metadata.xml\n",
      "/Users/floyd/Projects/misq/misq/vol8/iss3/2/metadata.xml\n",
      "/Users/floyd/Projects/misq/misq/vol8/iss3/3/metadata.xml\n",
      "/Users/floyd/Projects/misq/misq/vol8/iss3/4/metadata.xml\n",
      "/Users/floyd/Projects/misq/misq/vol8/iss3/5/metadata.xml\n",
      "/Users/floyd/Projects/misq/misq/vol8/iss4/1/metadata.xml\n",
      "/Users/floyd/Projects/misq/misq/vol8/iss4/2/metadata.xml\n",
      "/Users/floyd/Projects/misq/misq/vol8/iss4/3/metadata.xml\n",
      "/Users/floyd/Projects/misq/misq/vol8/iss4/4/metadata.xml\n",
      "/Users/floyd/Projects/misq/misq/vol8/iss4/5/metadata.xml\n",
      "/Users/floyd/Projects/misq/misq/vol9/iss1/1/metadata.xml\n",
      "/Users/floyd/Projects/misq/misq/vol9/iss1/2/metadata.xml\n",
      "/Users/floyd/Projects/misq/misq/vol9/iss1/3/metadata.xml\n",
      "/Users/floyd/Projects/misq/misq/vol9/iss1/4/metadata.xml\n",
      "/Users/floyd/Projects/misq/misq/vol9/iss1/5/metadata.xml\n",
      "/Users/floyd/Projects/misq/misq/vol9/iss1/6/metadata.xml\n",
      "/Users/floyd/Projects/misq/misq/vol9/iss2/1/metadata.xml\n",
      "/Users/floyd/Projects/misq/misq/vol9/iss2/2/metadata.xml\n",
      "/Users/floyd/Projects/misq/misq/vol9/iss2/3/metadata.xml\n",
      "/Users/floyd/Projects/misq/misq/vol9/iss2/4/metadata.xml\n",
      "/Users/floyd/Projects/misq/misq/vol9/iss2/5/metadata.xml\n",
      "/Users/floyd/Projects/misq/misq/vol9/iss2/6/metadata.xml\n",
      "/Users/floyd/Projects/misq/misq/vol9/iss3/1/metadata.xml\n",
      "/Users/floyd/Projects/misq/misq/vol9/iss3/2/metadata.xml\n",
      "/Users/floyd/Projects/misq/misq/vol9/iss3/3/metadata.xml\n",
      "/Users/floyd/Projects/misq/misq/vol9/iss3/4/metadata.xml\n",
      "/Users/floyd/Projects/misq/misq/vol9/iss3/5/metadata.xml\n",
      "/Users/floyd/Projects/misq/misq/vol9/iss3/6/metadata.xml\n",
      "/Users/floyd/Projects/misq/misq/vol9/iss4/1/metadata.xml\n",
      "/Users/floyd/Projects/misq/misq/vol9/iss4/2/metadata.xml\n",
      "/Users/floyd/Projects/misq/misq/vol9/iss4/3/metadata.xml\n",
      "/Users/floyd/Projects/misq/misq/vol9/iss4/4/metadata.xml\n",
      "/Users/floyd/Projects/misq/misq/vol9/iss4/5/metadata.xml\n",
      "/Users/floyd/Projects/misq/misq/vol9/iss4/6/metadata.xml\n"
     ]
    }
   ],
   "source": [
    "for i in xmlpath:\n",
    "    print(i)"
   ]
  },
  {
   "cell_type": "markdown",
   "metadata": {
    "collapsed": false,
    "nbpresent": {
     "id": "09deb53e-cd69-4694-9a59-d778e2f347bb"
    }
   },
   "source": [
    "### 3 Report information and transfer all data to Database"
   ]
  },
  {
   "cell_type": "code",
   "execution_count": 48,
   "metadata": {
    "collapsed": false,
    "nbpresent": {
     "id": "352fbe88-1430-4533-a714-4f8e55db51c2"
    }
   },
   "outputs": [
    {
     "name": "stdout",
     "output_type": "stream",
     "text": [
      "Failed filename:  /Users/floyd/Projects/misq/misq/vol31/iss1/2/0-MISQPodcast.xml\n",
      "Number of Total Failed Files:  1\n",
      "Number of Total Successful Files:  1307\n"
     ]
    }
   ],
   "source": [
    "xmlpath = generate_path(rootpath)\n",
    "\n",
    "i = 0\n",
    "n = 0\n",
    "for fp in xmlpath:\n",
    "    try:\n",
    "        i += 1\n",
    "        pipeline(fp,session)\n",
    "    except:\n",
    "        n += 1\n",
    "        print(\"Failed filename: \",fp)\n",
    "session.commit()\n",
    "session.close()\n",
    "print(\"Number of Total Failed Files: \",n)\n",
    "print(\"Number of Total Successful Files: \", i)"
   ]
  },
  {
   "cell_type": "code",
   "execution_count": null,
   "metadata": {
    "collapsed": true,
    "nbpresent": {
     "id": "bebcd1cc-6fee-44bc-9235-a74683dd2d6c"
    }
   },
   "outputs": [],
   "source": []
  }
 ],
 "metadata": {
  "anaconda-cloud": {},
  "kernelspec": {
   "display_name": "Python [Root]",
   "language": "python",
   "name": "Python [Root]"
  },
  "language_info": {
   "codemirror_mode": {
    "name": "ipython",
    "version": 3
   },
   "file_extension": ".py",
   "mimetype": "text/x-python",
   "name": "python",
   "nbconvert_exporter": "python",
   "pygments_lexer": "ipython3",
   "version": "3.5.2"
  },
  "nbpresent": {
   "slides": {
    "01211678-ed09-4de7-a6e7-54bb38730ef7": {
     "id": "01211678-ed09-4de7-a6e7-54bb38730ef7",
     "prev": "e20dfb7c-7c84-46aa-9198-b8878f795f86",
     "regions": {
      "20398b0b-f251-4b8d-94ad-f311b319ee44": {
       "attrs": {
        "height": 0.8,
        "width": 0.8,
        "x": 0.1,
        "y": 0.1
       },
       "content": {
        "cell": "0014450f-4bc9-47ed-8ab3-614a4d5a3fb8",
        "part": "whole"
       },
       "id": "20398b0b-f251-4b8d-94ad-f311b319ee44"
      }
     }
    },
    "05b181e6-c0c4-4299-92b2-be738e809ebd": {
     "id": "05b181e6-c0c4-4299-92b2-be738e809ebd",
     "prev": "ef44103d-ec57-48d4-b801-ac30226d2cef",
     "regions": {
      "4a906ae9-ea32-4e50-af6d-5e8d36fc8f85": {
       "attrs": {
        "height": 0.8,
        "width": 0.8,
        "x": 0.1,
        "y": 0.1
       },
       "content": {
        "cell": "185194b2-20d6-48c5-8287-1615e4b6ecd0",
        "part": "whole"
       },
       "id": "4a906ae9-ea32-4e50-af6d-5e8d36fc8f85"
      }
     }
    },
    "06f2e67e-8fa3-40e6-a917-a99a2f3ba73a": {
     "id": "06f2e67e-8fa3-40e6-a917-a99a2f3ba73a",
     "prev": "918f66fb-ed0d-4a95-a5c0-4b8efbd30f9e",
     "regions": {
      "db8dcef0-9c00-4029-a781-d1d5cea3066d": {
       "attrs": {
        "height": 0.8,
        "width": 0.8,
        "x": 0.1,
        "y": 0.1
       },
       "content": {
        "cell": "7a2cf069-ce94-4688-8c2a-080a2815caf5",
        "part": "whole"
       },
       "id": "db8dcef0-9c00-4029-a781-d1d5cea3066d"
      }
     }
    },
    "08436815-f085-48de-af51-0bd2c80f6521": {
     "id": "08436815-f085-48de-af51-0bd2c80f6521",
     "prev": "12413692-b968-4fe7-9eea-cf4990d45291",
     "regions": {
      "c6501c59-0991-4b41-9489-ae934451853d": {
       "attrs": {
        "height": 0.8,
        "width": 0.8,
        "x": 0.1,
        "y": 0.1
       },
       "content": {
        "cell": "7ee083cd-f7cf-4a82-8b0c-64e33785933f",
        "part": "whole"
       },
       "id": "c6501c59-0991-4b41-9489-ae934451853d"
      }
     }
    },
    "09d03c4c-00fd-4d97-aa84-b353dad1bacb": {
     "id": "09d03c4c-00fd-4d97-aa84-b353dad1bacb",
     "prev": "1fafaf7f-fa66-448a-a2cc-5cefb10e9cbe",
     "regions": {
      "e1629034-cb0a-4ace-9fd0-da225748d013": {
       "attrs": {
        "height": 0.8,
        "width": 0.8,
        "x": 0.1,
        "y": 0.1
       },
       "content": {
        "cell": "67cd9191-1384-44a5-9998-0638f27a875c",
        "part": "whole"
       },
       "id": "e1629034-cb0a-4ace-9fd0-da225748d013"
      }
     }
    },
    "0af64c4b-132d-4719-845f-7cac2dd15f6a": {
     "id": "0af64c4b-132d-4719-845f-7cac2dd15f6a",
     "prev": "15d47b25-a33a-4af0-9dc5-6c5d7131e6ab",
     "regions": {
      "e5af63b8-6bc3-4ff2-b730-4bcc0132e23d": {
       "attrs": {
        "height": 0.8,
        "width": 0.8,
        "x": 0.1,
        "y": 0.1
       },
       "content": {
        "cell": "8ff05594-cee1-4982-9f2b-d9b1e705fa90",
        "part": "whole"
       },
       "id": "e5af63b8-6bc3-4ff2-b730-4bcc0132e23d"
      }
     }
    },
    "0d78c81c-e053-45d3-bc4e-6c0c09d9ebe6": {
     "id": "0d78c81c-e053-45d3-bc4e-6c0c09d9ebe6",
     "prev": "726e9688-cfeb-4593-a283-ed27998f859c",
     "regions": {
      "f35631d5-b61b-4067-acba-028b8d03f188": {
       "attrs": {
        "height": 0.8,
        "width": 0.8,
        "x": 0.1,
        "y": 0.1
       },
       "content": {
        "cell": "950b7e87-be07-47f7-97c7-3f50f44d6e78",
        "part": "whole"
       },
       "id": "f35631d5-b61b-4067-acba-028b8d03f188"
      }
     }
    },
    "1170dafa-3e36-4e20-8f60-8b84c0977a45": {
     "id": "1170dafa-3e36-4e20-8f60-8b84c0977a45",
     "prev": "22785088-c57c-4f6c-8782-f0af822ca564",
     "regions": {
      "73d20eff-ac9b-4556-875a-88b0abd5ce4f": {
       "attrs": {
        "height": 0.8,
        "width": 0.8,
        "x": 0.1,
        "y": 0.1
       },
       "content": {
        "cell": "1945d013-36e3-490e-ad66-089ba2469014",
        "part": "whole"
       },
       "id": "73d20eff-ac9b-4556-875a-88b0abd5ce4f"
      }
     }
    },
    "12413692-b968-4fe7-9eea-cf4990d45291": {
     "id": "12413692-b968-4fe7-9eea-cf4990d45291",
     "prev": "05b181e6-c0c4-4299-92b2-be738e809ebd",
     "regions": {
      "f71cbccf-15b0-46f9-b0d8-331dca150d5d": {
       "attrs": {
        "height": 0.8,
        "width": 0.8,
        "x": 0.1,
        "y": 0.1
       },
       "content": {
        "cell": "84e1f157-1224-420e-8898-83dc1fdf2740",
        "part": "whole"
       },
       "id": "f71cbccf-15b0-46f9-b0d8-331dca150d5d"
      }
     }
    },
    "15d47b25-a33a-4af0-9dc5-6c5d7131e6ab": {
     "id": "15d47b25-a33a-4af0-9dc5-6c5d7131e6ab",
     "prev": "c26b8704-4ae7-479b-9bfe-3b3b17839b7e",
     "regions": {
      "6f523751-5ba6-4dda-b3f8-4c14f5d76177": {
       "attrs": {
        "height": 0.8,
        "width": 0.8,
        "x": 0.1,
        "y": 0.1
       },
       "content": {
        "cell": "d12c5605-cc08-4f28-9e9c-0da0d2b5db31",
        "part": "whole"
       },
       "id": "6f523751-5ba6-4dda-b3f8-4c14f5d76177"
      }
     }
    },
    "168632bc-3256-4c08-a560-02ed57096b63": {
     "id": "168632bc-3256-4c08-a560-02ed57096b63",
     "prev": "a4490bf4-9d1d-4932-8b79-98f9c259cc66",
     "regions": {
      "876bf771-3062-4753-98c5-931ccdfcd916": {
       "attrs": {
        "height": 0.8,
        "width": 0.8,
        "x": 0.1,
        "y": 0.1
       },
       "content": {
        "cell": "a65c7dad-1768-4ae2-8f90-5e175f2aa042",
        "part": "whole"
       },
       "id": "876bf771-3062-4753-98c5-931ccdfcd916"
      }
     }
    },
    "1abba820-c94b-42d6-87b4-988fea0b3c13": {
     "id": "1abba820-c94b-42d6-87b4-988fea0b3c13",
     "prev": "f8293539-a076-4bbd-8fe4-10aa9368080c",
     "regions": {
      "011b8a8e-01ef-4762-99e2-38a2bfbbfe89": {
       "attrs": {
        "height": 0.8,
        "width": 0.8,
        "x": 0.1,
        "y": 0.1
       },
       "content": {
        "cell": "30ae2738-b0f2-49f5-a21c-882f6ee6f0a2",
        "part": "whole"
       },
       "id": "011b8a8e-01ef-4762-99e2-38a2bfbbfe89"
      }
     }
    },
    "1cedc7ea-effc-42e9-aada-14a31704a550": {
     "id": "1cedc7ea-effc-42e9-aada-14a31704a550",
     "prev": "834f387d-00e2-44b1-b828-c1aebf7cf617",
     "regions": {
      "830ca78f-c5eb-43ec-b715-54e7256f5e85": {
       "attrs": {
        "height": 0.8,
        "width": 0.8,
        "x": 0.1,
        "y": 0.1
       },
       "content": {
        "cell": "31129999-7423-4a6e-91ef-cff0a106e707",
        "part": "whole"
       },
       "id": "830ca78f-c5eb-43ec-b715-54e7256f5e85"
      }
     }
    },
    "1e41a013-4f6a-455c-841a-0fb9697911e7": {
     "id": "1e41a013-4f6a-455c-841a-0fb9697911e7",
     "prev": "1170dafa-3e36-4e20-8f60-8b84c0977a45",
     "regions": {
      "749268d4-7a94-450e-b88a-2d2297a9d05c": {
       "attrs": {
        "height": 0.8,
        "width": 0.8,
        "x": 0.1,
        "y": 0.1
       },
       "content": {
        "cell": "310869ad-89eb-4c68-a70c-265f8c2f33b6",
        "part": "whole"
       },
       "id": "749268d4-7a94-450e-b88a-2d2297a9d05c"
      }
     }
    },
    "1fafaf7f-fa66-448a-a2cc-5cefb10e9cbe": {
     "id": "1fafaf7f-fa66-448a-a2cc-5cefb10e9cbe",
     "prev": "2fe21303-76c3-48da-a326-48a8d658b50d",
     "regions": {
      "a9e407df-ae9f-47a2-a335-c671398acbfd": {
       "attrs": {
        "height": 0.8,
        "width": 0.8,
        "x": 0.1,
        "y": 0.1
       },
       "content": {
        "cell": "b7cbbd18-63d8-46bc-a41c-36c8796e8649",
        "part": "whole"
       },
       "id": "a9e407df-ae9f-47a2-a335-c671398acbfd"
      }
     }
    },
    "22785088-c57c-4f6c-8782-f0af822ca564": {
     "id": "22785088-c57c-4f6c-8782-f0af822ca564",
     "prev": "384ad74d-322e-4d0f-b781-d1c592838018",
     "regions": {
      "e9b370cb-428c-44f6-bff7-b47e37399afc": {
       "attrs": {
        "height": 0.8,
        "width": 0.8,
        "x": 0.1,
        "y": 0.1
       },
       "content": {
        "cell": "3179e45c-a432-4b91-9332-57127060ef72",
        "part": "whole"
       },
       "id": "e9b370cb-428c-44f6-bff7-b47e37399afc"
      }
     }
    },
    "22d0e5b9-a4a7-43d5-91dd-8f09409d15cc": {
     "id": "22d0e5b9-a4a7-43d5-91dd-8f09409d15cc",
     "prev": "8bea3221-1b17-48b1-9a35-6871323a185a",
     "regions": {
      "ac86e3c4-1a8b-4882-a84e-647261c79039": {
       "attrs": {
        "height": 0.8,
        "width": 0.8,
        "x": 0.1,
        "y": 0.1
       },
       "content": {
        "cell": "22502bce-e972-417c-b510-2510e7f010d0",
        "part": "whole"
       },
       "id": "ac86e3c4-1a8b-4882-a84e-647261c79039"
      }
     }
    },
    "2fe21303-76c3-48da-a326-48a8d658b50d": {
     "id": "2fe21303-76c3-48da-a326-48a8d658b50d",
     "prev": "30e2d60d-8b63-4d67-9833-c796d45d122c",
     "regions": {
      "36580779-4d11-4224-b003-d80de7b19af9": {
       "attrs": {
        "height": 0.8,
        "width": 0.8,
        "x": 0.1,
        "y": 0.1
       },
       "content": {
        "cell": "eaf07f01-eb7c-4d48-90cb-89bd1a5eac97",
        "part": "whole"
       },
       "id": "36580779-4d11-4224-b003-d80de7b19af9"
      }
     }
    },
    "30e2d60d-8b63-4d67-9833-c796d45d122c": {
     "id": "30e2d60d-8b63-4d67-9833-c796d45d122c",
     "prev": "443c1735-cf97-4a78-821e-1cf35853489d",
     "regions": {
      "06f01baf-ac7d-45bd-a596-5dd22f3139e4": {
       "attrs": {
        "height": 0.8,
        "width": 0.8,
        "x": 0.1,
        "y": 0.1
       },
       "content": {
        "cell": "4be29ee5-02ff-4c44-a2d3-837632939ae1",
        "part": "whole"
       },
       "id": "06f01baf-ac7d-45bd-a596-5dd22f3139e4"
      }
     }
    },
    "313c5cfc-c199-4058-8332-08bfa4100cb6": {
     "id": "313c5cfc-c199-4058-8332-08bfa4100cb6",
     "prev": "7b4f0f3e-b48c-4a8a-b4ab-17e64bad1a54",
     "regions": {
      "3174f77b-adbc-442d-9ee8-44226f0f00ae": {
       "attrs": {
        "height": 0.8,
        "width": 0.8,
        "x": 0.1,
        "y": 0.1
       },
       "content": {
        "cell": "c8a50bff-64dc-4861-bbd9-8ea7c85fe136",
        "part": "whole"
       },
       "id": "3174f77b-adbc-442d-9ee8-44226f0f00ae"
      }
     }
    },
    "3705cf29-f3cd-43ab-91cb-cd2622bc92b8": {
     "id": "3705cf29-f3cd-43ab-91cb-cd2622bc92b8",
     "prev": "c115d32d-d179-41ce-899d-e5285a54f272",
     "regions": {
      "3a442cce-5766-4a46-a50e-7e0ee0573846": {
       "attrs": {
        "height": 0.8,
        "width": 0.8,
        "x": 0.1,
        "y": 0.1
       },
       "content": {
        "cell": "7069ec96-424b-431b-a646-72aebca0cbc9",
        "part": "whole"
       },
       "id": "3a442cce-5766-4a46-a50e-7e0ee0573846"
      }
     }
    },
    "37d29d9f-fdeb-484c-8a42-6857ff406828": {
     "id": "37d29d9f-fdeb-484c-8a42-6857ff406828",
     "prev": "fdab9c0d-d164-40dc-b8d3-581a86d09028",
     "regions": {
      "58b6ad60-675f-4eed-95c8-32023f963e2a": {
       "attrs": {
        "height": 0.8,
        "width": 0.8,
        "x": 0.1,
        "y": 0.1
       },
       "content": {
        "cell": "352fbe88-1430-4533-a714-4f8e55db51c2",
        "part": "whole"
       },
       "id": "58b6ad60-675f-4eed-95c8-32023f963e2a"
      }
     }
    },
    "384ad74d-322e-4d0f-b781-d1c592838018": {
     "id": "384ad74d-322e-4d0f-b781-d1c592838018",
     "prev": "f8b50b1b-89e7-47c3-9960-69ada6838f34",
     "regions": {
      "0bd6d002-59fa-4c3f-8ecd-6eb8a283b8d0": {
       "attrs": {
        "height": 0.8,
        "width": 0.8,
        "x": 0.1,
        "y": 0.1
       },
       "content": {
        "cell": "270514c5-91d8-4f5d-b45a-b08fe94d6c57",
        "part": "whole"
       },
       "id": "0bd6d002-59fa-4c3f-8ecd-6eb8a283b8d0"
      }
     }
    },
    "3c6fda3e-c17e-4fe8-8e6c-6696f1b13e6f": {
     "id": "3c6fda3e-c17e-4fe8-8e6c-6696f1b13e6f",
     "prev": "7d3f9ba3-a32b-4c76-beb3-ad8262f8ff99",
     "regions": {
      "952eb8f0-10e6-45e4-8f61-cf74e6b7db65": {
       "attrs": {
        "height": 0.8,
        "width": 0.8,
        "x": 0.1,
        "y": 0.1
       },
       "content": {
        "cell": "21a8422e-55dc-40b4-8635-29d77b8d7cf5",
        "part": "whole"
       },
       "id": "952eb8f0-10e6-45e4-8f61-cf74e6b7db65"
      }
     }
    },
    "443c1735-cf97-4a78-821e-1cf35853489d": {
     "id": "443c1735-cf97-4a78-821e-1cf35853489d",
     "prev": "1abba820-c94b-42d6-87b4-988fea0b3c13",
     "regions": {
      "42bfa851-5fee-4cdd-8487-5b13f5c939c2": {
       "attrs": {
        "height": 0.8,
        "width": 0.8,
        "x": 0.1,
        "y": 0.1
       },
       "content": {
        "cell": "5d022499-81d6-4090-81b2-6318bdd2c4e6",
        "part": "whole"
       },
       "id": "42bfa851-5fee-4cdd-8487-5b13f5c939c2"
      }
     }
    },
    "4631e017-3095-4847-885f-3d55aca47715": {
     "id": "4631e017-3095-4847-885f-3d55aca47715",
     "prev": "482fa223-eae3-488e-907e-254c2b187ef6",
     "regions": {
      "864e5df6-b685-41a1-9b9e-24ceb92648ef": {
       "attrs": {
        "height": 0.8,
        "width": 0.8,
        "x": 0.1,
        "y": 0.1
       },
       "content": {
        "cell": "0a33f1f1-1f57-4f5c-b321-715a3fbda651",
        "part": "whole"
       },
       "id": "864e5df6-b685-41a1-9b9e-24ceb92648ef"
      }
     }
    },
    "4726bab0-738b-4be5-b6b6-f44b216efd35": {
     "id": "4726bab0-738b-4be5-b6b6-f44b216efd35",
     "prev": "59c831cf-e6df-4a42-8af8-3dc1ab1a67ab",
     "regions": {
      "21d003be-eeb3-4659-9555-82c23896d6a9": {
       "attrs": {
        "height": 0.8,
        "width": 0.8,
        "x": 0.1,
        "y": 0.1
       },
       "content": {
        "cell": "eea16fb5-8d7c-4758-b3d2-6f6a066fb1e8",
        "part": "whole"
       },
       "id": "21d003be-eeb3-4659-9555-82c23896d6a9"
      }
     }
    },
    "482fa223-eae3-488e-907e-254c2b187ef6": {
     "id": "482fa223-eae3-488e-907e-254c2b187ef6",
     "prev": "e3caec8b-baa1-40b4-975c-401e1ed2f57b",
     "regions": {
      "d5d1a163-47ec-4a18-8d21-c6cc51b4d819": {
       "attrs": {
        "height": 0.8,
        "width": 0.8,
        "x": 0.1,
        "y": 0.1
       },
       "content": {
        "cell": "9b2467d6-c3a4-4c5c-b032-8711adec7db9",
        "part": "whole"
       },
       "id": "d5d1a163-47ec-4a18-8d21-c6cc51b4d819"
      }
     }
    },
    "4947fb3c-f731-4163-aee3-65f6c1bc6836": {
     "id": "4947fb3c-f731-4163-aee3-65f6c1bc6836",
     "prev": "72ed9ff6-e82a-4d5c-b1ea-9a4fa667fc89",
     "regions": {
      "a3e5c755-7074-4d87-9909-3ca0ea9b4618": {
       "attrs": {
        "height": 0.8,
        "width": 0.8,
        "x": 0.1,
        "y": 0.1
       },
       "content": {
        "cell": "928a1a6c-68ca-4598-b4cd-0b2a69a56c48",
        "part": "whole"
       },
       "id": "a3e5c755-7074-4d87-9909-3ca0ea9b4618"
      }
     }
    },
    "4afc0bd1-827c-4272-9074-0d23d843ad2f": {
     "id": "4afc0bd1-827c-4272-9074-0d23d843ad2f",
     "prev": "1e41a013-4f6a-455c-841a-0fb9697911e7",
     "regions": {
      "aeb4e628-34ca-4a53-86b9-5fcfb9fd7f53": {
       "attrs": {
        "height": 0.8,
        "width": 0.8,
        "x": 0.1,
        "y": 0.1
       },
       "content": {
        "cell": "0e75a954-dd8d-41a0-91bd-adf801ed845c",
        "part": "whole"
       },
       "id": "aeb4e628-34ca-4a53-86b9-5fcfb9fd7f53"
      }
     }
    },
    "57422290-e74b-450e-adc6-1c3e80f59a05": {
     "id": "57422290-e74b-450e-adc6-1c3e80f59a05",
     "prev": "be44e264-e116-4e34-84aa-129a569e0ee5",
     "regions": {
      "cec70247-744a-4313-8be0-a98c052f25d9": {
       "attrs": {
        "height": 0.8,
        "width": 0.8,
        "x": 0.1,
        "y": 0.1
       },
       "content": {
        "cell": "b3d8d311-0bd1-43ce-863e-e22fb4053c3f",
        "part": "whole"
       },
       "id": "cec70247-744a-4313-8be0-a98c052f25d9"
      }
     }
    },
    "59c831cf-e6df-4a42-8af8-3dc1ab1a67ab": {
     "id": "59c831cf-e6df-4a42-8af8-3dc1ab1a67ab",
     "prev": "1cedc7ea-effc-42e9-aada-14a31704a550",
     "regions": {
      "c208a9da-6793-48a0-8025-67f476bab484": {
       "attrs": {
        "height": 0.8,
        "width": 0.8,
        "x": 0.1,
        "y": 0.1
       },
       "content": {
        "cell": "054e89e2-ca87-49d0-852f-cb74bc9d52d5",
        "part": "whole"
       },
       "id": "c208a9da-6793-48a0-8025-67f476bab484"
      }
     }
    },
    "5e08fcca-4a1d-447a-ac7f-6800749a3b8b": {
     "id": "5e08fcca-4a1d-447a-ac7f-6800749a3b8b",
     "prev": "611ce04c-349e-4d6d-b183-fc4a6f227ecd",
     "regions": {
      "1bab0cb8-23f1-438a-8509-81b800d25f0d": {
       "attrs": {
        "height": 0.8,
        "width": 0.8,
        "x": 0.1,
        "y": 0.1
       },
       "content": {
        "cell": "52b68923-4cb6-4589-8a0f-210f7471553b",
        "part": "whole"
       },
       "id": "1bab0cb8-23f1-438a-8509-81b800d25f0d"
      }
     }
    },
    "5ffab5c0-7ca7-4726-8ce9-5038f4d2d570": {
     "id": "5ffab5c0-7ca7-4726-8ce9-5038f4d2d570",
     "prev": "06f2e67e-8fa3-40e6-a917-a99a2f3ba73a",
     "regions": {
      "db063adf-0ba1-48f5-be86-bef164159590": {
       "attrs": {
        "height": 0.8,
        "width": 0.8,
        "x": 0.1,
        "y": 0.1
       },
       "content": {
        "cell": "e6fa0fda-cb4a-4556-80ff-d70fd60d1a4b",
        "part": "whole"
       },
       "id": "db063adf-0ba1-48f5-be86-bef164159590"
      }
     }
    },
    "611ce04c-349e-4d6d-b183-fc4a6f227ecd": {
     "id": "611ce04c-349e-4d6d-b183-fc4a6f227ecd",
     "prev": "7416a40c-ee07-4506-a7b0-07be537b268c",
     "regions": {
      "75f43432-60da-430d-ae45-32fd7b608b3c": {
       "attrs": {
        "height": 0.8,
        "width": 0.8,
        "x": 0.1,
        "y": 0.1
       },
       "content": {
        "cell": "9d60ccaf-56cf-4473-b1d7-13ba9be77fb7",
        "part": "whole"
       },
       "id": "75f43432-60da-430d-ae45-32fd7b608b3c"
      }
     }
    },
    "6319b219-d960-4cb1-8548-8f30e21e502b": {
     "id": "6319b219-d960-4cb1-8548-8f30e21e502b",
     "prev": "c15d0bc0-6e05-4245-90fd-d9bd494c8554",
     "regions": {
      "df3be21f-97bc-477b-b3cb-f69e23b7922c": {
       "attrs": {
        "height": 0.8,
        "width": 0.8,
        "x": 0.1,
        "y": 0.1
       },
       "content": {
        "cell": "4c1317ab-4483-46b0-95e9-58b16441f800",
        "part": "whole"
       },
       "id": "df3be21f-97bc-477b-b3cb-f69e23b7922c"
      }
     }
    },
    "726e9688-cfeb-4593-a283-ed27998f859c": {
     "id": "726e9688-cfeb-4593-a283-ed27998f859c",
     "prev": "a86e4224-8b64-488b-8b4c-105b83b04e6a",
     "regions": {
      "46322a07-5f4c-4c2a-b66a-d2b01d719920": {
       "attrs": {
        "height": 0.8,
        "width": 0.8,
        "x": 0.1,
        "y": 0.1
       },
       "content": {
        "cell": "e10b8edf-706f-4e6b-b1c2-a2a011774880",
        "part": "whole"
       },
       "id": "46322a07-5f4c-4c2a-b66a-d2b01d719920"
      }
     }
    },
    "72ed9ff6-e82a-4d5c-b1ea-9a4fa667fc89": {
     "id": "72ed9ff6-e82a-4d5c-b1ea-9a4fa667fc89",
     "prev": "4726bab0-738b-4be5-b6b6-f44b216efd35",
     "regions": {
      "11489d72-b58a-4460-82ef-73110806a834": {
       "attrs": {
        "height": 0.8,
        "width": 0.8,
        "x": 0.1,
        "y": 0.1
       },
       "content": {
        "cell": "15d38df1-2291-4996-8886-ebd955612fda",
        "part": "whole"
       },
       "id": "11489d72-b58a-4460-82ef-73110806a834"
      }
     }
    },
    "7416a40c-ee07-4506-a7b0-07be537b268c": {
     "id": "7416a40c-ee07-4506-a7b0-07be537b268c",
     "prev": "94cbe5cd-8c5e-41f1-8469-6718fb4c94e9",
     "regions": {
      "713e1db0-99bc-4ee2-990e-134eeebcd41e": {
       "attrs": {
        "height": 0.8,
        "width": 0.8,
        "x": 0.1,
        "y": 0.1
       },
       "content": {
        "cell": "ecca9547-a412-4b89-9b9c-bdcfad118cf1",
        "part": "whole"
       },
       "id": "713e1db0-99bc-4ee2-990e-134eeebcd41e"
      }
     }
    },
    "7967f816-3351-4c67-885c-bb8224cee11f": {
     "id": "7967f816-3351-4c67-885c-bb8224cee11f",
     "prev": "5e08fcca-4a1d-447a-ac7f-6800749a3b8b",
     "regions": {
      "c0c6d791-bac9-43b6-afd8-0a1e2b1c1428": {
       "attrs": {
        "height": 0.8,
        "width": 0.8,
        "x": 0.1,
        "y": 0.1
       },
       "content": {
        "cell": "5965f716-f75d-4f0d-8db5-b3bada7f6a07",
        "part": "whole"
       },
       "id": "c0c6d791-bac9-43b6-afd8-0a1e2b1c1428"
      }
     }
    },
    "7b4f0f3e-b48c-4a8a-b4ab-17e64bad1a54": {
     "id": "7b4f0f3e-b48c-4a8a-b4ab-17e64bad1a54",
     "prev": "4afc0bd1-827c-4272-9074-0d23d843ad2f",
     "regions": {
      "cfda8c9b-86cb-4440-bc1e-37c16cd58c10": {
       "attrs": {
        "height": 0.8,
        "width": 0.8,
        "x": 0.1,
        "y": 0.1
       },
       "content": {
        "cell": "fb5c55e1-6f1b-4ca1-88f3-e0822caf070c",
        "part": "whole"
       },
       "id": "cfda8c9b-86cb-4440-bc1e-37c16cd58c10"
      }
     }
    },
    "7d3f9ba3-a32b-4c76-beb3-ad8262f8ff99": {
     "id": "7d3f9ba3-a32b-4c76-beb3-ad8262f8ff99",
     "prev": "7967f816-3351-4c67-885c-bb8224cee11f",
     "regions": {
      "2a304b24-56c3-4cc5-9e52-978bace7a405": {
       "attrs": {
        "height": 0.8,
        "width": 0.8,
        "x": 0.1,
        "y": 0.1
       },
       "content": {
        "cell": "4d4b2b53-7503-4d77-a2f8-3948e6892ee5",
        "part": "whole"
       },
       "id": "2a304b24-56c3-4cc5-9e52-978bace7a405"
      }
     }
    },
    "821722e0-0587-4ad4-bb5e-47372f0a1b49": {
     "id": "821722e0-0587-4ad4-bb5e-47372f0a1b49",
     "prev": "a2024eaa-3aa9-4ae0-88e2-6214d5f5dd91",
     "regions": {
      "b0fcec4b-4ed3-4586-96be-6b829149f123": {
       "attrs": {
        "height": 0.8,
        "width": 0.8,
        "x": 0.1,
        "y": 0.1
       },
       "content": {
        "cell": "07abaab0-8885-4f5f-bfe0-1183006a9c1d",
        "part": "whole"
       },
       "id": "b0fcec4b-4ed3-4586-96be-6b829149f123"
      }
     }
    },
    "834f387d-00e2-44b1-b828-c1aebf7cf617": {
     "id": "834f387d-00e2-44b1-b828-c1aebf7cf617",
     "prev": "0af64c4b-132d-4719-845f-7cac2dd15f6a",
     "regions": {
      "329b1772-7d67-4efd-92c3-305131f71cdc": {
       "attrs": {
        "height": 0.8,
        "width": 0.8,
        "x": 0.1,
        "y": 0.1
       },
       "content": {
        "cell": "470dcdd5-5701-438c-910f-e2b68ccafc30",
        "part": "whole"
       },
       "id": "329b1772-7d67-4efd-92c3-305131f71cdc"
      }
     }
    },
    "83a5cdb0-be4c-49d7-bda2-b6cc3a952a8a": {
     "id": "83a5cdb0-be4c-49d7-bda2-b6cc3a952a8a",
     "prev": "e49f47e9-e798-4aaf-a4b0-4eab988247e1",
     "regions": {
      "b74003d1-35ac-4161-bc7c-4d9328a08e1c": {
       "attrs": {
        "height": 0.8,
        "width": 0.8,
        "x": 0.1,
        "y": 0.1
       },
       "content": {
        "cell": "16677412-d904-4143-8692-d3d22563495b",
        "part": "whole"
       },
       "id": "b74003d1-35ac-4161-bc7c-4d9328a08e1c"
      }
     }
    },
    "83d5d768-ac03-428e-a9fc-afd4fed52277": {
     "id": "83d5d768-ac03-428e-a9fc-afd4fed52277",
     "prev": "4631e017-3095-4847-885f-3d55aca47715",
     "regions": {
      "2df43bb9-1421-4f15-a871-5297488933c1": {
       "attrs": {
        "height": 0.8,
        "width": 0.8,
        "x": 0.1,
        "y": 0.1
       },
       "content": {
        "cell": "f136934e-c839-44e7-bc45-96ff271895d6",
        "part": "whole"
       },
       "id": "2df43bb9-1421-4f15-a871-5297488933c1"
      }
     }
    },
    "8463201f-e407-4bbe-9dd8-8c324d7b938e": {
     "id": "8463201f-e407-4bbe-9dd8-8c324d7b938e",
     "prev": "eb55e992-603d-4f47-ac58-9831638da6b7",
     "regions": {
      "0b9b8738-9ada-429b-aec0-e0f396654be0": {
       "attrs": {
        "height": 0.8,
        "width": 0.8,
        "x": 0.1,
        "y": 0.1
       },
       "content": {
        "cell": "50dfe8c8-260e-4e83-99d2-16d257db0019",
        "part": "whole"
       },
       "id": "0b9b8738-9ada-429b-aec0-e0f396654be0"
      }
     }
    },
    "8bea3221-1b17-48b1-9a35-6871323a185a": {
     "id": "8bea3221-1b17-48b1-9a35-6871323a185a",
     "prev": "8ede763d-d816-4dea-98b8-108684d391e2",
     "regions": {
      "e80aed6e-9dfd-4e26-bb77-affb21f0bae3": {
       "attrs": {
        "height": 0.8,
        "width": 0.8,
        "x": 0.1,
        "y": 0.1
       },
       "content": {
        "cell": "774198dc-454a-4ab5-a62d-7157adef1f2b",
        "part": "whole"
       },
       "id": "e80aed6e-9dfd-4e26-bb77-affb21f0bae3"
      }
     }
    },
    "8ede763d-d816-4dea-98b8-108684d391e2": {
     "id": "8ede763d-d816-4dea-98b8-108684d391e2",
     "prev": "4947fb3c-f731-4163-aee3-65f6c1bc6836",
     "regions": {
      "912cd229-6f5b-4a67-90c4-58aacb3779dd": {
       "attrs": {
        "height": 0.8,
        "width": 0.8,
        "x": 0.1,
        "y": 0.1
       },
       "content": {
        "cell": "9f12d0fc-3284-47ff-9be8-7010ed5b463c",
        "part": "whole"
       },
       "id": "912cd229-6f5b-4a67-90c4-58aacb3779dd"
      }
     }
    },
    "918f66fb-ed0d-4a95-a5c0-4b8efbd30f9e": {
     "id": "918f66fb-ed0d-4a95-a5c0-4b8efbd30f9e",
     "prev": "83a5cdb0-be4c-49d7-bda2-b6cc3a952a8a",
     "regions": {
      "8abf0fcf-3a42-4249-a5a4-8da564612fc9": {
       "attrs": {
        "height": 0.8,
        "width": 0.8,
        "x": 0.1,
        "y": 0.1
       },
       "content": {
        "cell": "0ead1dc7-a1d3-48b9-8253-f936bcc4838b",
        "part": "whole"
       },
       "id": "8abf0fcf-3a42-4249-a5a4-8da564612fc9"
      }
     }
    },
    "94cbe5cd-8c5e-41f1-8469-6718fb4c94e9": {
     "id": "94cbe5cd-8c5e-41f1-8469-6718fb4c94e9",
     "prev": null,
     "regions": {
      "28c54a94-975b-4add-bbe6-2f24a094e47f": {
       "attrs": {
        "height": 0.8,
        "width": 0.8,
        "x": 0.1,
        "y": 0.1
       },
       "content": {
        "cell": "2e95cb26-cc92-4269-a047-c1cbcbfb7dee",
        "part": "whole"
       },
       "id": "28c54a94-975b-4add-bbe6-2f24a094e47f"
      }
     }
    },
    "a2024eaa-3aa9-4ae0-88e2-6214d5f5dd91": {
     "id": "a2024eaa-3aa9-4ae0-88e2-6214d5f5dd91",
     "prev": "cad1c626-8f5a-4ed0-9759-9b38c8216850",
     "regions": {
      "4cd87883-efe7-4a3c-b000-4adec6175971": {
       "attrs": {
        "height": 0.8,
        "width": 0.8,
        "x": 0.1,
        "y": 0.1
       },
       "content": {
        "cell": "85392803-62ce-4320-9930-f6e82487ce83",
        "part": "whole"
       },
       "id": "4cd87883-efe7-4a3c-b000-4adec6175971"
      }
     }
    },
    "a4490bf4-9d1d-4932-8b79-98f9c259cc66": {
     "id": "a4490bf4-9d1d-4932-8b79-98f9c259cc66",
     "prev": "3705cf29-f3cd-43ab-91cb-cd2622bc92b8",
     "regions": {
      "bcc0b409-f082-4217-b9e2-f0f4eeaa9ac9": {
       "attrs": {
        "height": 0.8,
        "width": 0.8,
        "x": 0.1,
        "y": 0.1
       },
       "content": {
        "cell": "0abac111-2e00-45ab-92b4-4838d21a4a57",
        "part": "whole"
       },
       "id": "bcc0b409-f082-4217-b9e2-f0f4eeaa9ac9"
      }
     }
    },
    "a86e4224-8b64-488b-8b4c-105b83b04e6a": {
     "id": "a86e4224-8b64-488b-8b4c-105b83b04e6a",
     "prev": "821722e0-0587-4ad4-bb5e-47372f0a1b49",
     "regions": {
      "ddb92b10-5c11-4242-b128-bb396f6f99cf": {
       "attrs": {
        "height": 0.8,
        "width": 0.8,
        "x": 0.1,
        "y": 0.1
       },
       "content": {
        "cell": "cb3db5b9-64f6-49a3-9de7-0f782112433e",
        "part": "whole"
       },
       "id": "ddb92b10-5c11-4242-b128-bb396f6f99cf"
      }
     }
    },
    "ab2091ec-2cd8-47c7-9dc1-fe9022608834": {
     "id": "ab2091ec-2cd8-47c7-9dc1-fe9022608834",
     "prev": "3c6fda3e-c17e-4fe8-8e6c-6696f1b13e6f",
     "regions": {
      "b73308d6-3912-4efc-8cda-74d758bbbac1": {
       "attrs": {
        "height": 0.8,
        "width": 0.8,
        "x": 0.1,
        "y": 0.1
       },
       "content": {
        "cell": "231643c5-29c5-4613-a33d-8168f0018689",
        "part": "whole"
       },
       "id": "b73308d6-3912-4efc-8cda-74d758bbbac1"
      }
     }
    },
    "be44e264-e116-4e34-84aa-129a569e0ee5": {
     "id": "be44e264-e116-4e34-84aa-129a569e0ee5",
     "prev": "c6ba0779-83ba-4feb-bf55-3c526e09ebf2",
     "regions": {
      "a7c70338-e44e-48c7-aa25-65a2e787b9d7": {
       "attrs": {
        "height": 0.8,
        "width": 0.8,
        "x": 0.1,
        "y": 0.1
       },
       "content": {
        "cell": "f7d16e11-cc94-47b1-a1cf-5b088429ed6e",
        "part": "whole"
       },
       "id": "a7c70338-e44e-48c7-aa25-65a2e787b9d7"
      }
     }
    },
    "c115d32d-d179-41ce-899d-e5285a54f272": {
     "id": "c115d32d-d179-41ce-899d-e5285a54f272",
     "prev": "ab2091ec-2cd8-47c7-9dc1-fe9022608834",
     "regions": {
      "34a38a52-5031-4306-961f-f6eb883cde0e": {
       "attrs": {
        "height": 0.8,
        "width": 0.8,
        "x": 0.1,
        "y": 0.1
       },
       "content": {
        "cell": "2ef6f69a-6df5-4148-b2fc-1e283db5eb83",
        "part": "whole"
       },
       "id": "34a38a52-5031-4306-961f-f6eb883cde0e"
      }
     }
    },
    "c154965c-7281-4707-9edf-60b09b5b4e13": {
     "id": "c154965c-7281-4707-9edf-60b09b5b4e13",
     "prev": "168632bc-3256-4c08-a560-02ed57096b63",
     "regions": {
      "6cf91890-924f-4956-a97a-d3ea6b650414": {
       "attrs": {
        "height": 0.8,
        "width": 0.8,
        "x": 0.1,
        "y": 0.1
       },
       "content": {
        "cell": "82d02fde-4af0-44e5-a622-d2817553514e",
        "part": "whole"
       },
       "id": "6cf91890-924f-4956-a97a-d3ea6b650414"
      }
     }
    },
    "c15d0bc0-6e05-4245-90fd-d9bd494c8554": {
     "id": "c15d0bc0-6e05-4245-90fd-d9bd494c8554",
     "prev": "0d78c81c-e053-45d3-bc4e-6c0c09d9ebe6",
     "regions": {
      "9b8d37f2-68ce-472b-ba74-cdcdd2f6e034": {
       "attrs": {
        "height": 0.8,
        "width": 0.8,
        "x": 0.1,
        "y": 0.1
       },
       "content": {
        "cell": "4cc465cf-50fd-4cc6-9484-f76ec3fbefea",
        "part": "whole"
       },
       "id": "9b8d37f2-68ce-472b-ba74-cdcdd2f6e034"
      }
     }
    },
    "c26b8704-4ae7-479b-9bfe-3b3b17839b7e": {
     "id": "c26b8704-4ae7-479b-9bfe-3b3b17839b7e",
     "prev": "d53d89dd-fa01-4b6f-8542-5fc4c271f509",
     "regions": {
      "1ced3145-35aa-41b8-894c-08f310ba0506": {
       "attrs": {
        "height": 0.8,
        "width": 0.8,
        "x": 0.1,
        "y": 0.1
       },
       "content": {
        "cell": "4e316474-0b79-4974-85cd-a2b350d62899",
        "part": "whole"
       },
       "id": "1ced3145-35aa-41b8-894c-08f310ba0506"
      }
     }
    },
    "c6ba0779-83ba-4feb-bf55-3c526e09ebf2": {
     "id": "c6ba0779-83ba-4feb-bf55-3c526e09ebf2",
     "prev": "313c5cfc-c199-4058-8332-08bfa4100cb6",
     "regions": {
      "0e54d6c9-5626-4803-8a91-64b18ff7f2dc": {
       "attrs": {
        "height": 0.8,
        "width": 0.8,
        "x": 0.1,
        "y": 0.1
       },
       "content": {
        "cell": "3ba51991-be40-4026-9878-6014e1c3feba",
        "part": "whole"
       },
       "id": "0e54d6c9-5626-4803-8a91-64b18ff7f2dc"
      }
     }
    },
    "cad1c626-8f5a-4ed0-9759-9b38c8216850": {
     "id": "cad1c626-8f5a-4ed0-9759-9b38c8216850",
     "prev": "d2c4714a-833d-4b31-be11-4555c03c9e6a",
     "regions": {
      "d6d842b0-d90c-4a58-8de0-46b6e2b06e50": {
       "attrs": {
        "height": 0.8,
        "width": 0.8,
        "x": 0.1,
        "y": 0.1
       },
       "content": {
        "cell": "77bf3078-ff31-41ea-8c84-010c1b87b010",
        "part": "whole"
       },
       "id": "d6d842b0-d90c-4a58-8de0-46b6e2b06e50"
      }
     }
    },
    "cba06cd6-58b0-4930-ade1-abe434183b40": {
     "id": "cba06cd6-58b0-4930-ade1-abe434183b40",
     "prev": "57422290-e74b-450e-adc6-1c3e80f59a05",
     "regions": {
      "c3c54991-4f23-4e53-90e8-d5b064c3afb8": {
       "attrs": {
        "height": 0.8,
        "width": 0.8,
        "x": 0.1,
        "y": 0.1
       },
       "content": {
        "cell": "296c93bd-5ebb-4eb8-aa38-d590a6c7c6ff",
        "part": "whole"
       },
       "id": "c3c54991-4f23-4e53-90e8-d5b064c3afb8"
      }
     }
    },
    "cfda4ec8-19dd-44da-9ba0-992026193506": {
     "id": "cfda4ec8-19dd-44da-9ba0-992026193506",
     "prev": "d7ae1d99-346d-41d8-9814-e20cc6fc13bf",
     "regions": {
      "c513960f-45e7-4fa3-b338-84f62fed3276": {
       "attrs": {
        "height": 0.8,
        "width": 0.8,
        "x": 0.1,
        "y": 0.1
       },
       "content": {
        "cell": "4029c4b8-049d-486b-b7c1-ece7df8bf59c",
        "part": "whole"
       },
       "id": "c513960f-45e7-4fa3-b338-84f62fed3276"
      }
     }
    },
    "d2c4714a-833d-4b31-be11-4555c03c9e6a": {
     "id": "d2c4714a-833d-4b31-be11-4555c03c9e6a",
     "prev": "5ffab5c0-7ca7-4726-8ce9-5038f4d2d570",
     "regions": {
      "b335c36d-2732-4bdc-8df9-ee68d953ab6d": {
       "attrs": {
        "height": 0.8,
        "width": 0.8,
        "x": 0.1,
        "y": 0.1
       },
       "content": {
        "cell": "f06b8cf2-fcaf-4aa9-97ad-4901f63c75dc",
        "part": "whole"
       },
       "id": "b335c36d-2732-4bdc-8df9-ee68d953ab6d"
      }
     }
    },
    "d53d89dd-fa01-4b6f-8542-5fc4c271f509": {
     "id": "d53d89dd-fa01-4b6f-8542-5fc4c271f509",
     "prev": "c154965c-7281-4707-9edf-60b09b5b4e13",
     "regions": {
      "5f1c8548-f7d0-4ebf-a913-44e2478bf698": {
       "attrs": {
        "height": 0.8,
        "width": 0.8,
        "x": 0.1,
        "y": 0.1
       },
       "content": {
        "cell": "73c38ffe-eeac-4706-bbb7-b11f141b93bd",
        "part": "whole"
       },
       "id": "5f1c8548-f7d0-4ebf-a913-44e2478bf698"
      }
     }
    },
    "d7ae1d99-346d-41d8-9814-e20cc6fc13bf": {
     "id": "d7ae1d99-346d-41d8-9814-e20cc6fc13bf",
     "prev": "09d03c4c-00fd-4d97-aa84-b353dad1bacb",
     "regions": {
      "9bf79da5-8bf0-4816-bbfd-8cd51c646957": {
       "attrs": {
        "height": 0.8,
        "width": 0.8,
        "x": 0.1,
        "y": 0.1
       },
       "content": {
        "cell": "27ea5343-04d6-430d-8853-2a1c73a362f3",
        "part": "whole"
       },
       "id": "9bf79da5-8bf0-4816-bbfd-8cd51c646957"
      }
     }
    },
    "e20dfb7c-7c84-46aa-9198-b8878f795f86": {
     "id": "e20dfb7c-7c84-46aa-9198-b8878f795f86",
     "prev": "cba06cd6-58b0-4930-ade1-abe434183b40",
     "regions": {
      "c54af7a2-e628-4821-ac6c-73ea3b9a4342": {
       "attrs": {
        "height": 0.8,
        "width": 0.8,
        "x": 0.1,
        "y": 0.1
       },
       "content": {
        "cell": "1bdeb128-6050-426c-8e9a-ca0409712e9d",
        "part": "whole"
       },
       "id": "c54af7a2-e628-4821-ac6c-73ea3b9a4342"
      }
     }
    },
    "e3caec8b-baa1-40b4-975c-401e1ed2f57b": {
     "id": "e3caec8b-baa1-40b4-975c-401e1ed2f57b",
     "prev": "fc118593-7942-4119-b358-a9c4010ab498",
     "regions": {
      "a77dbad2-e9b4-4881-b485-849d88aea1f2": {
       "attrs": {
        "height": 0.8,
        "width": 0.8,
        "x": 0.1,
        "y": 0.1
       },
       "content": {
        "cell": "5531099e-8c69-4c7b-bc95-40351150c42c",
        "part": "whole"
       },
       "id": "a77dbad2-e9b4-4881-b485-849d88aea1f2"
      }
     }
    },
    "e46a0f21-4033-49a4-a5f9-640e791c6710": {
     "id": "e46a0f21-4033-49a4-a5f9-640e791c6710",
     "prev": "22d0e5b9-a4a7-43d5-91dd-8f09409d15cc",
     "regions": {
      "f905f536-f898-4eba-958a-caf1eaef7279": {
       "attrs": {
        "height": 0.8,
        "width": 0.8,
        "x": 0.1,
        "y": 0.1
       },
       "content": {
        "cell": "f58b8da4-5266-473f-bbf4-4e3304608d36",
        "part": "whole"
       },
       "id": "f905f536-f898-4eba-958a-caf1eaef7279"
      }
     }
    },
    "e49f47e9-e798-4aaf-a4b0-4eab988247e1": {
     "id": "e49f47e9-e798-4aaf-a4b0-4eab988247e1",
     "prev": "e46a0f21-4033-49a4-a5f9-640e791c6710",
     "regions": {
      "bc43acae-6b92-4761-900c-f0f8e01ca36a": {
       "attrs": {
        "height": 0.8,
        "width": 0.8,
        "x": 0.1,
        "y": 0.1
       },
       "content": {
        "cell": "535fc9a9-1d18-412c-8f87-bfb47211c171",
        "part": "whole"
       },
       "id": "bc43acae-6b92-4761-900c-f0f8e01ca36a"
      }
     }
    },
    "eb55e992-603d-4f47-ac58-9831638da6b7": {
     "id": "eb55e992-603d-4f47-ac58-9831638da6b7",
     "prev": "08436815-f085-48de-af51-0bd2c80f6521",
     "regions": {
      "86470041-600c-484e-b15b-428a82611c75": {
       "attrs": {
        "height": 0.8,
        "width": 0.8,
        "x": 0.1,
        "y": 0.1
       },
       "content": {
        "cell": "a2f5468d-59a4-472e-843d-7b181c197926",
        "part": "whole"
       },
       "id": "86470041-600c-484e-b15b-428a82611c75"
      }
     }
    },
    "ed353e9c-5abd-43ad-9587-895292eb703e": {
     "id": "ed353e9c-5abd-43ad-9587-895292eb703e",
     "prev": "01211678-ed09-4de7-a6e7-54bb38730ef7",
     "regions": {
      "d946c112-6a44-4e5f-9445-0f4afb049ae1": {
       "attrs": {
        "height": 0.8,
        "width": 0.8,
        "x": 0.1,
        "y": 0.1
       },
       "content": {
        "cell": "cadac239-aa36-461c-a8fc-8ae67e61eed9",
        "part": "whole"
       },
       "id": "d946c112-6a44-4e5f-9445-0f4afb049ae1"
      }
     }
    },
    "ef44103d-ec57-48d4-b801-ac30226d2cef": {
     "id": "ef44103d-ec57-48d4-b801-ac30226d2cef",
     "prev": "cfda4ec8-19dd-44da-9ba0-992026193506",
     "regions": {
      "6f06fabf-1576-4684-b47d-fb45f9d8d459": {
       "attrs": {
        "height": 0.8,
        "width": 0.8,
        "x": 0.1,
        "y": 0.1
       },
       "content": {
        "cell": "7a9b730b-6f0f-46a7-8cf3-3e15e1f68540",
        "part": "whole"
       },
       "id": "6f06fabf-1576-4684-b47d-fb45f9d8d459"
      }
     }
    },
    "f8293539-a076-4bbd-8fe4-10aa9368080c": {
     "id": "f8293539-a076-4bbd-8fe4-10aa9368080c",
     "prev": "ed353e9c-5abd-43ad-9587-895292eb703e",
     "regions": {
      "cc391abb-142e-4b31-acfa-a6cd7959ad2b": {
       "attrs": {
        "height": 0.8,
        "width": 0.8,
        "x": 0.1,
        "y": 0.1
       },
       "content": {
        "cell": "039d9511-324c-4b27-8f22-603306882909",
        "part": "whole"
       },
       "id": "cc391abb-142e-4b31-acfa-a6cd7959ad2b"
      }
     }
    },
    "f86d6ab9-ed5d-4d26-ab3e-19fda62db68e": {
     "id": "f86d6ab9-ed5d-4d26-ab3e-19fda62db68e",
     "prev": "37d29d9f-fdeb-484c-8a42-6857ff406828",
     "regions": {
      "22bbd279-854f-41f9-b9d2-85c89c07aaa9": {
       "attrs": {
        "height": 0.8,
        "width": 0.8,
        "x": 0.1,
        "y": 0.1
       },
       "content": {
        "cell": "bebcd1cc-6fee-44bc-9235-a74683dd2d6c",
        "part": "whole"
       },
       "id": "22bbd279-854f-41f9-b9d2-85c89c07aaa9"
      }
     }
    },
    "f8b50b1b-89e7-47c3-9960-69ada6838f34": {
     "id": "f8b50b1b-89e7-47c3-9960-69ada6838f34",
     "prev": "6319b219-d960-4cb1-8548-8f30e21e502b",
     "regions": {
      "8f5542fc-f3e6-4fe0-a43d-65b275e20a94": {
       "attrs": {
        "height": 0.8,
        "width": 0.8,
        "x": 0.1,
        "y": 0.1
       },
       "content": {
        "cell": "bac73c20-e01c-4151-a86c-a202f211facc",
        "part": "whole"
       },
       "id": "8f5542fc-f3e6-4fe0-a43d-65b275e20a94"
      }
     }
    },
    "fc118593-7942-4119-b358-a9c4010ab498": {
     "id": "fc118593-7942-4119-b358-a9c4010ab498",
     "prev": "8463201f-e407-4bbe-9dd8-8c324d7b938e",
     "regions": {
      "d9e33edb-c35d-480b-b3a8-5c2894428a24": {
       "attrs": {
        "height": 0.8,
        "width": 0.8,
        "x": 0.1,
        "y": 0.1
       },
       "content": {
        "cell": "fdc9ef02-6014-4289-b1b6-f94c9a5da740",
        "part": "whole"
       },
       "id": "d9e33edb-c35d-480b-b3a8-5c2894428a24"
      }
     }
    },
    "fdab9c0d-d164-40dc-b8d3-581a86d09028": {
     "id": "fdab9c0d-d164-40dc-b8d3-581a86d09028",
     "prev": "83d5d768-ac03-428e-a9fc-afd4fed52277",
     "regions": {
      "2aeec6cd-6b3b-4063-97bc-533e1b38b63b": {
       "attrs": {
        "height": 0.8,
        "width": 0.8,
        "x": 0.1,
        "y": 0.1
       },
       "content": {
        "cell": "09deb53e-cd69-4694-9a59-d778e2f347bb",
        "part": "whole"
       },
       "id": "2aeec6cd-6b3b-4063-97bc-533e1b38b63b"
      }
     }
    }
   },
   "themes": {}
  }
 },
 "nbformat": 4,
 "nbformat_minor": 0
}
