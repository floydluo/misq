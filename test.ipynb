{
 "cells": [
  {
   "cell_type": "code",
   "execution_count": 7,
   "metadata": {
    "collapsed": true
   },
   "outputs": [],
   "source": [
    "def generate_path(rootpath):\n",
    "    for dirpath, dirnames, filenames in os.walk(rootpath):\n",
    "        for filename in filenames:\n",
    "            if \".xml\" in filename:\n",
    "                if \"._\" not in filename:\n",
    "                    yield os.path.join(dirpath,filename)"
   ]
  },
  {
   "cell_type": "code",
   "execution_count": 19,
   "metadata": {
    "collapsed": false
   },
   "outputs": [],
   "source": [
    "def generate_num(rootpath,n=0):\n",
    "    for dirpath, dirnames, filenames in os.walk(rootpath):\n",
    "        for filename in filenames:\n",
    "            if \".xml\" in filename:\n",
    "                if \"._\" not in filename:\n",
    "                    n+=1\n",
    "    print(n)"
   ]
  },
  {
   "cell_type": "code",
   "execution_count": 20,
   "metadata": {
    "collapsed": false
   },
   "outputs": [
    {
     "data": {
      "text/plain": [
       "'/Users/floyd/Projects/misq'"
      ]
     },
     "execution_count": 20,
     "metadata": {},
     "output_type": "execute_result"
    }
   ],
   "source": [
    "import os\n",
    "os.getcwd()"
   ]
  },
  {
   "cell_type": "code",
   "execution_count": 21,
   "metadata": {
    "collapsed": true
   },
   "outputs": [],
   "source": [
    "p=os.getcwd()+'/misq'"
   ]
  },
  {
   "cell_type": "code",
   "execution_count": 22,
   "metadata": {
    "collapsed": false
   },
   "outputs": [
    {
     "data": {
      "text/plain": [
       "'/Users/floyd/Projects/misq/misq'"
      ]
     },
     "execution_count": 22,
     "metadata": {},
     "output_type": "execute_result"
    }
   ],
   "source": [
    "p"
   ]
  },
  {
   "cell_type": "code",
   "execution_count": 23,
   "metadata": {
    "collapsed": false
   },
   "outputs": [
    {
     "name": "stdout",
     "output_type": "stream",
     "text": [
      "1307\n"
     ]
    }
   ],
   "source": [
    "generate_num(p)"
   ]
  },
  {
   "cell_type": "code",
   "execution_count": 1,
   "metadata": {
    "collapsed": true
   },
   "outputs": [],
   "source": [
    "from parse import *"
   ]
  },
  {
   "cell_type": "code",
   "execution_count": 2,
   "metadata": {
    "collapsed": true
   },
   "outputs": [],
   "source": [
    "from parse import parseXML_diclist as p"
   ]
  },
  {
   "cell_type": "code",
   "execution_count": 10,
   "metadata": {
    "collapsed": false
   },
   "outputs": [],
   "source": [
    "dic=p(\"/Users/floyd/Projects/misq/misq/vol17/iss2/3/metadata.xml\")"
   ]
  },
  {
   "cell_type": "code",
   "execution_count": 9,
   "metadata": {
    "collapsed": false
   },
   "outputs": [
    {
     "data": {
      "text/plain": [
       "{'Author': [{'email': '',\n",
       "   'fname': 'Leyland',\n",
       "   'full_name': 'Leyland//Pitt',\n",
       "   'institution': '',\n",
       "   'lname': 'Pitt',\n",
       "   'mname': ''},\n",
       "  {'email': '',\n",
       "   'fname': 'Richard',\n",
       "   'full_name': 'Richard//Watson',\n",
       "   'institution': '',\n",
       "   'lname': 'Watson',\n",
       "   'mname': ''},\n",
       "  {'email': '',\n",
       "   'fname': 'C.',\n",
       "   'full_name': 'C.//Kavan',\n",
       "   'institution': '',\n",
       "   'lname': 'Kavan',\n",
       "   'mname': ''}],\n",
       " 'Document': [{'abstract': '',\n",
       "   'articleid': '2253',\n",
       "   'context_key': '584563',\n",
       "   'coverpage_url': 'http://aisel.aisnet.org/misq/vol19/iss2/3',\n",
       "   'document_type': 'article',\n",
       "   'fpage': '',\n",
       "   'fulltext_url': 'http://aisel.aisnet.org/cgi/viewcontent.cgi?article=2253&amp;context=misq&amp;unstamped=1',\n",
       "   'label': '3',\n",
       "   'lpage': '',\n",
       "   'pages': '',\n",
       "   'publication_date': '1995-12-31T00:00:00-08:00',\n",
       "   'publication_title': 'Management Information Systems Quarterly',\n",
       "   'submission_date': '2008-08-18T13:21:21-07:00',\n",
       "   'submission_path': 'misq/vol19/iss2/3',\n",
       "   'title': 'Service Quality: A Measure of Information Systems Effectiveness',\n",
       "   'type': 'article'}],\n",
       " 'Field': [{'name': 'peer_reviewed', 'type': 'boolean', 'value': 'true'},\n",
       "  {'name': 'publication_date',\n",
       "   'type': 'date',\n",
       "   'value': '1995-12-31T00:00:00-08:00'}],\n",
       " 'Journal': [{'domain': 'misq', 'iss': 'iss2', 'label': '3', 'vol': 'vol19'}],\n",
       " 'Keyword': []}"
      ]
     },
     "execution_count": 9,
     "metadata": {},
     "output_type": "execute_result"
    }
   ],
   "source": [
    "dic"
   ]
  },
  {
   "cell_type": "code",
   "execution_count": 11,
   "metadata": {
    "collapsed": true
   },
   "outputs": [],
   "source": [
    "dic2=p(\"/Users/floyd/Projects/misq/misq/vol17/iss2/4/metadata.xml\")"
   ]
  },
  {
   "cell_type": "code",
   "execution_count": 12,
   "metadata": {
    "collapsed": false
   },
   "outputs": [
    {
     "data": {
      "text/plain": [
       "{'Author': [{'email': '',\n",
       "   'fname': 'Michael',\n",
       "   'full_name': 'Michael//Lawrence',\n",
       "   'institution': '',\n",
       "   'lname': 'Lawrence',\n",
       "   'mname': ''},\n",
       "  {'email': '',\n",
       "   'fname': 'Graham',\n",
       "   'full_name': 'Graham//Low',\n",
       "   'institution': '',\n",
       "   'lname': 'Low',\n",
       "   'mname': ''}],\n",
       " 'Document': [{'abstract': '',\n",
       "   'articleid': '2209',\n",
       "   'context_key': '584516',\n",
       "   'coverpage_url': 'http://aisel.aisnet.org/misq/vol17/iss2/4',\n",
       "   'document_type': 'article',\n",
       "   'fpage': '',\n",
       "   'fulltext_url': 'http://aisel.aisnet.org/cgi/viewcontent.cgi?article=2209&amp;context=misq&amp;unstamped=1',\n",
       "   'label': '4',\n",
       "   'lpage': '',\n",
       "   'pages': '',\n",
       "   'publication_date': '1993-12-31T00:00:00-08:00',\n",
       "   'publication_title': 'Management Information Systems Quarterly',\n",
       "   'submission_date': '2008-08-18T13:20:12-07:00',\n",
       "   'submission_path': 'misq/vol17/iss2/4',\n",
       "   'title': 'Exploring Individual User Satisfaction Within User-Led Development',\n",
       "   'type': 'article'}],\n",
       " 'Field': [{'name': 'peer_reviewed', 'type': 'boolean', 'value': 'true'},\n",
       "  {'name': 'publication_date',\n",
       "   'type': 'date',\n",
       "   'value': '1993-12-31T00:00:00-08:00'}],\n",
       " 'Journal': [{'domain': 'misq', 'iss': 'iss2', 'label': '4', 'vol': 'vol17'}],\n",
       " 'Keyword': []}"
      ]
     },
     "execution_count": 12,
     "metadata": {},
     "output_type": "execute_result"
    }
   ],
   "source": [
    "dic2"
   ]
  },
  {
   "cell_type": "code",
   "execution_count": 15,
   "metadata": {
    "collapsed": true
   },
   "outputs": [],
   "source": [
    "dic3=p(\"/Users/floyd/Projects/misq/misq/vol18/iss3/4/metadata.xml\")"
   ]
  },
  {
   "cell_type": "code",
   "execution_count": 14,
   "metadata": {
    "collapsed": false
   },
   "outputs": [
    {
     "data": {
      "text/plain": [
       "{'Author': [{'email': 'vgrover@clemson.edu',\n",
       "   'fname': 'Varun',\n",
       "   'full_name': 'Varun//Grover',\n",
       "   'institution': 'Clemson University',\n",
       "   'lname': 'Grover',\n",
       "   'mname': ''},\n",
       "  {'email': 'kalle@case.edu',\n",
       "   'fname': 'Kalle',\n",
       "   'full_name': 'Kalle//Lyytinen',\n",
       "   'institution': 'Case Western Reserve University',\n",
       "   'lname': 'Lyytinen',\n",
       "   'mname': ''}],\n",
       " 'Document': [{'abstract': '<p>The dominant way of producing knowledge in information systems (IS) seeks to domesticate high-level reference theory in the form of mid-level abstractions involving generic and atheoretical information technology (IT) components. Enacting such epistemic scripts squeezes IS theory to the middle range, where abstract reference theory concepts are directly instantiated or slightly modified to the IS context, whereas IT remains exogenous to theory by being treated as an independent variable, mediator, or moderator. In this design, IT is often operationalized using proxies that detect the presence of IT or its variation in use or cost. Our analysis of 143 articles published in <em>MIS Quarterly</em> and <em>Information Systems Research</em> over the past 15 years demonstrates that over 70 percent of published theory conforms to this mode of producing IS knowledge. This state of play has resulted in two negative consequences: the field (1)ã\\x80\\x80agonizes over the dearth of original and bold theorizing over IT and (2)ã\\x80\\x80satisfices when integrating theory with empirics by creating incommensurate mid-range models that are difficult to consolidate. We propose that one way to overcome these challenges is to critically examine and debate the negative impacts of the fieldâ\\x80\\x99s dominant epistemic scripts and relax them by permitting IS scholarship that more fluidly accommodates alternative forms of knowledge production. This will push IS inquiry to the \"edges\" and emphasize, on the one hand, inductive, rich inquiries using innovative and extensive data sets and, on the other hand, novel, genuine, high-level theorizing around germane conceptual relationships between IT, information and its (semiotic) representations, and social behaviors. We offer several exemplars of such inquiries and their results. To promote this push, we invite alternative institutionalized forms of publishing and reviewing. We conclude by inviting individual scholars to be more open to practices that permit richer theorizing. These recommendations will broaden the fieldâ\\x80\\x99s knowledge ecology and permit the creation of good IS knowledge over just getting \"hits.\" We surmise that, if such changes are carried out, the field can look confidently toward its future as one of the epicenters of organizational inquiry that deal with the central forces shaping human enterprise in the 21<sup>st</sup> century.</p>',\n",
       "   'articleid': '3233',\n",
       "   'context_key': '7049733',\n",
       "   'coverpage_url': 'http://aisel.aisnet.org/misq/vol39/iss2/3',\n",
       "   'document_type': 'article',\n",
       "   'fpage': '271',\n",
       "   'fulltext_url': 'http://aisel.aisnet.org/cgi/viewcontent.cgi?article=3233&amp;context=misq&amp;unstamped=1',\n",
       "   'label': '3',\n",
       "   'lpage': '296',\n",
       "   'pages': '26',\n",
       "   'publication_date': '2015-06-01T00:00:00-07:00',\n",
       "   'publication_title': 'Management Information Systems Quarterly',\n",
       "   'submission_date': '2015-04-30T07:31:36-07:00',\n",
       "   'submission_path': 'misq/vol39/iss2/3',\n",
       "   'title': 'New State of Play in Information Systems Research:  The Push to the Edges',\n",
       "   'type': 'article'}],\n",
       " 'Field': [{'name': 'embargo_date',\n",
       "   'type': 'date',\n",
       "   'value': '2015-04-30T00:00:00-07:00'},\n",
       "  {'name': 'peer_reviewed', 'type': 'boolean', 'value': 'true'},\n",
       "  {'name': 'publication_date',\n",
       "   'type': 'date',\n",
       "   'value': '2015-06-01T00:00:00-07:00'},\n",
       "  {'name': 'short_title',\n",
       "   'type': 'string',\n",
       "   'value': 'New State of Play in Information Systems Research'}],\n",
       " 'Journal': [{'domain': 'misq', 'iss': 'iss2', 'label': '3', 'vol': 'vol39'}],\n",
       " 'Keyword': [{'keyword': 'Information systems discipline'},\n",
       "  {'keyword': 'research inquiry'},\n",
       "  {'keyword': 'epistemic scripts'},\n",
       "  {'keyword': 'IS theory'},\n",
       "  {'keyword': 'IT artifact'},\n",
       "  {'keyword': 'middle-range theory'},\n",
       "  {'keyword': 'theory borrowing'},\n",
       "  {'keyword': 'institutional analysis'}]}"
      ]
     },
     "execution_count": 14,
     "metadata": {},
     "output_type": "execute_result"
    }
   ],
   "source": [
    "dic3"
   ]
  },
  {
   "cell_type": "code",
   "execution_count": 26,
   "metadata": {
    "collapsed": true
   },
   "outputs": [],
   "source": [
    "from main import *\n",
    "engine = db_connect(os.getcwd())\n",
    "create_table(engine)\n",
    "Session = sessionmaker(bind=engine)\n",
    "session = Session()"
   ]
  },
  {
   "cell_type": "code",
   "execution_count": 27,
   "metadata": {
    "collapsed": false
   },
   "outputs": [
    {
     "data": {
      "text/plain": [
       "{'Author': [{'email': '',\n",
       "   'fname': 'Gerald',\n",
       "   'full_name': 'Gerald//Matlin',\n",
       "   'institution': '',\n",
       "   'lname': 'Matlin',\n",
       "   'mname': ''}],\n",
       " 'Document': [{'abstract': '',\n",
       "   'articleid': '1801',\n",
       "   'context_key': '583177',\n",
       "   'coverpage_url': 'http://aisel.aisnet.org/misq/vol1/iss1/1',\n",
       "   'document_type': 'article',\n",
       "   'fpage': '',\n",
       "   'fulltext_url': 'http://aisel.aisnet.org/cgi/viewcontent.cgi?article=1801&amp;context=misq&amp;unstamped=1',\n",
       "   'label': '1',\n",
       "   'lpage': '',\n",
       "   'pages': '',\n",
       "   'publication_date': '1977-12-31T00:00:00-08:00',\n",
       "   'publication_title': 'Management Information Systems Quarterly',\n",
       "   'submission_date': '2008-08-18T07:00:03-07:00',\n",
       "   'submission_path': 'misq/vol1/iss1/1',\n",
       "   'title': 'How to Survive a Management Assessment',\n",
       "   'type': 'article'}],\n",
       " 'Field': [{'name': 'peer_reviewed', 'type': 'boolean', 'value': 'true'},\n",
       "  {'name': 'publication_date',\n",
       "   'type': 'date',\n",
       "   'value': '1977-12-31T00:00:00-08:00'}],\n",
       " 'Journal': [{'domain': 'misq', 'iss': 'iss1', 'label': '1', 'vol': 'vol1'}],\n",
       " 'Keyword': []}"
      ]
     },
     "execution_count": 27,
     "metadata": {},
     "output_type": "execute_result"
    }
   ],
   "source": [
    "dicfirst = p(\"/Users/floyd/Projects/misq/misq/vol1/iss1/1/metadata.xml\")\n",
    "dicfirst"
   ]
  },
  {
   "cell_type": "code",
   "execution_count": 28,
   "metadata": {
    "collapsed": false
   },
   "outputs": [
    {
     "ename": "UnboundLocalError",
     "evalue": "local variable 'key_t' referenced before assignment",
     "output_type": "error",
     "traceback": [
      "\u001b[0;31m--------------------------------------------------------\u001b[0m",
      "\u001b[0;31mUnboundLocalError\u001b[0m      Traceback (most recent call last)",
      "\u001b[0;32m<ipython-input-28-b3d4db22348f>\u001b[0m in \u001b[0;36m<module>\u001b[0;34m()\u001b[0m\n\u001b[0;32m----> 1\u001b[0;31m \u001b[0mpipeline\u001b[0m\u001b[0;34m(\u001b[0m\u001b[0;34m'/Users/floyd/Projects/misq/misq/vol18/iss1/1/metadata.xml'\u001b[0m\u001b[0;34m,\u001b[0m\u001b[0msession\u001b[0m\u001b[0;34m)\u001b[0m\u001b[0;34m\u001b[0m\u001b[0m\n\u001b[0m",
      "\u001b[0;32m/Users/floyd/Projects/misq/pipeline.py\u001b[0m in \u001b[0;36mpipeline\u001b[0;34m(abspath, session)\u001b[0m\n\u001b[1;32m     27\u001b[0m     \u001b[0;32mfor\u001b[0m \u001b[0mkey\u001b[0m \u001b[0;32min\u001b[0m \u001b[0md\u001b[0m\u001b[0;34m[\u001b[0m\u001b[0;34m\"Keyword\"\u001b[0m\u001b[0;34m]\u001b[0m\u001b[0;34m:\u001b[0m\u001b[0;34m\u001b[0m\u001b[0m\n\u001b[1;32m     28\u001b[0m         \u001b[0mkey_t\u001b[0m\u001b[0;34m=\u001b[0m\u001b[0msession\u001b[0m\u001b[0;34m.\u001b[0m\u001b[0mquery\u001b[0m\u001b[0;34m(\u001b[0m\u001b[0mKeyword\u001b[0m\u001b[0;34m)\u001b[0m\u001b[0;34m.\u001b[0m\u001b[0mfilter_by\u001b[0m\u001b[0;34m(\u001b[0m\u001b[0mkeyword\u001b[0m\u001b[0;34m=\u001b[0m\u001b[0mkey\u001b[0m\u001b[0;34m[\u001b[0m\u001b[0;34m\"keyword\"\u001b[0m\u001b[0;34m]\u001b[0m\u001b[0;34m)\u001b[0m\u001b[0;34m.\u001b[0m\u001b[0mfirst\u001b[0m\u001b[0;34m(\u001b[0m\u001b[0;34m)\u001b[0m\u001b[0;34m\u001b[0m\u001b[0m\n\u001b[0;32m---> 29\u001b[0;31m     \u001b[0;32mif\u001b[0m \u001b[0mkey_t\u001b[0m\u001b[0;34m==\u001b[0m \u001b[0;32mNone\u001b[0m\u001b[0;34m:\u001b[0m\u001b[0;34m\u001b[0m\u001b[0m\n\u001b[0m\u001b[1;32m     30\u001b[0m         \u001b[0mkey_t\u001b[0m \u001b[0;34m=\u001b[0m \u001b[0mKeyword\u001b[0m\u001b[0;34m(\u001b[0m\u001b[0;34m**\u001b[0m\u001b[0mkey\u001b[0m\u001b[0;34m)\u001b[0m\u001b[0;34m\u001b[0m\u001b[0m\n\u001b[1;32m     31\u001b[0m     \u001b[0;32melse\u001b[0m\u001b[0;34m:\u001b[0m\u001b[0;34m\u001b[0m\u001b[0m\n",
      "\u001b[0;31mUnboundLocalError\u001b[0m: local variable 'key_t' referenced before assignment"
     ]
    }
   ],
   "source": [
    "pipeline('/Users/floyd/Projects/misq/misq/vol18/iss1/1/metadata.xml',session)"
   ]
  },
  {
   "cell_type": "code",
   "execution_count": 29,
   "metadata": {
    "collapsed": false
   },
   "outputs": [
    {
     "data": {
      "text/plain": [
       "[]"
      ]
     },
     "execution_count": 29,
     "metadata": {},
     "output_type": "execute_result"
    }
   ],
   "source": [
    "dicfirst[\"Keyword\"]"
   ]
  },
  {
   "cell_type": "code",
   "execution_count": null,
   "metadata": {
    "collapsed": true
   },
   "outputs": [],
   "source": []
  }
 ],
 "metadata": {
  "kernelspec": {
   "display_name": "Python [Root]",
   "language": "python",
   "name": "Python [Root]"
  },
  "language_info": {
   "codemirror_mode": {
    "name": "ipython",
    "version": 3
   },
   "file_extension": ".py",
   "mimetype": "text/x-python",
   "name": "python",
   "nbconvert_exporter": "python",
   "pygments_lexer": "ipython3",
   "version": "3.5.2"
  }
 },
 "nbformat": 4,
 "nbformat_minor": 0
}
