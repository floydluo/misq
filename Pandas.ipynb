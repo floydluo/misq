{
 "cells": [
  {
   "cell_type": "code",
   "execution_count": 27,
   "metadata": {
    "collapsed": true
   },
   "outputs": [],
   "source": [
    "import pandas as pd\n",
    "import sqlite3"
   ]
  },
  {
   "cell_type": "code",
   "execution_count": 28,
   "metadata": {
    "collapsed": true
   },
   "outputs": [],
   "source": []
  },
  {
   "cell_type": "code",
   "execution_count": 29,
   "metadata": {
    "collapsed": true
   },
   "outputs": [],
   "source": [
    "con = sqlite3.connect(\"data.sqlite\")"
   ]
  },
  {
   "cell_type": "code",
   "execution_count": 30,
   "metadata": {
    "collapsed": true
   },
   "outputs": [],
   "source": [
    "sql = \"select * from authors\""
   ]
  },
  {
   "cell_type": "code",
   "execution_count": 34,
   "metadata": {
    "collapsed": false
   },
   "outputs": [],
   "source": [
    "df = pd.read_sql(sql, con, index_col = \"id\")"
   ]
  },
  {
   "cell_type": "code",
   "execution_count": 35,
   "metadata": {
    "collapsed": false
   },
   "outputs": [
    {
     "name": "stdout",
     "output_type": "stream",
     "text": [
      "     email institution   last_name first_name middle_name  \\\n",
      "id                                                          \n",
      "1                           Matlin     Gerald               \n",
      "2                          Jenkins         A.               \n",
      "3                          Johnson    Randall               \n",
      "4                         Cardenas    Alfonso               \n",
      "5                          Bostrom     Robert               \n",
      "6                           Heinen         J.               \n",
      "7                          Johnson      James               \n",
      "8                            Kozar    Kenneth               \n",
      "9                             Ruch      David               \n",
      "10                           Kling        Rob               \n",
      "11                        Benbasat         I.               \n",
      "12                       Schroeder         R.               \n",
      "13                        Wetherbe        Jim               \n",
      "14                       Whitehead    Carlton               \n",
      "15                              B.      Peter               \n",
      "16                         Carlson       Eric               \n",
      "17                           Grace    Barbara               \n",
      "18                          Sutton      Jimmy               \n",
      "19                            Getz       C.W.               \n",
      "20                        Juergens       Hugh               \n",
      "21                        Danziger      James               \n",
      "22                           Munro     Malcom               \n",
      "23                           Davis     Gordon               \n",
      "24                       DeSanctis  Gerardine               \n",
      "25                           Franz    Charles               \n",
      "26                           Robey     Daniel               \n",
      "27                        Koeblitz     Robert               \n",
      "28                       Montazemi       A.R.               \n",
      "29                         Conrath       D.W.               \n",
      "30                        Benbasat       Izak               \n",
      "...    ...         ...         ...        ...         ...   \n",
      "1656                         Felix     Robert               \n",
      "1657                       Kriebel    Charles               \n",
      "1658                            De  Prabuddha               \n",
      "1659                           Sen       Arun               \n",
      "1660                          Jung       John               \n",
      "1661                        Foster   Lawrence               \n",
      "1662                         Flynn      David               \n",
      "1663                       Edwards      Chris               \n",
      "1664                        Mezger    Richard               \n",
      "1665                         Lewis      Byron               \n",
      "1666                         Crews     Albert               \n",
      "1667                      Courtney      James               \n",
      "1668                        Ballou     Donald               \n",
      "1669                          Tayi       Giri               \n",
      "1670                         Harel       Elie               \n",
      "1671                         Shank    Michael               \n",
      "1672                     Schilling      David               \n",
      "1673                    Srinivasan     Ananth               \n",
      "1674                     Dickinson    Charles               \n",
      "1675                     Kraushaar      James               \n",
      "1676                      Shirland      Larry               \n",
      "1677                          Kahn   Beverely               \n",
      "1678                      Vitalari   Nicholas               \n",
      "1679                      Rathwell   Margaret               \n",
      "1680                         Burns       Alan               \n",
      "1681                       Rackoff       Nick               \n",
      "1682                         Ph.D.    Charles               \n",
      "1683                    Hirschheim       R.A.               \n",
      "1684                        Janson     Marius               \n",
      "1685                         Smith         L.               \n",
      "\n",
      "                 full_name  \n",
      "id                          \n",
      "1           Gerald//Matlin  \n",
      "2              A.//Jenkins  \n",
      "3         Randall//Johnson  \n",
      "4        Alfonso//Cardenas  \n",
      "5          Robert//Bostrom  \n",
      "6               J.//Heinen  \n",
      "7           James//Johnson  \n",
      "8           Kenneth//Kozar  \n",
      "9              David//Ruch  \n",
      "10              Rob//Kling  \n",
      "11            I.//Benbasat  \n",
      "12           R.//Schroeder  \n",
      "13           Jim//Wetherbe  \n",
      "14      Carlton//Whitehead  \n",
      "15               Peter//B.  \n",
      "16           Eric//Carlson  \n",
      "17          Barbara//Grace  \n",
      "18           Jimmy//Sutton  \n",
      "19              C.W.//Getz  \n",
      "20          Hugh//Juergens  \n",
      "21         James//Danziger  \n",
      "22           Malcom//Munro  \n",
      "23           Gordon//Davis  \n",
      "24    Gerardine//DeSanctis  \n",
      "25          Charles//Franz  \n",
      "26           Daniel//Robey  \n",
      "27        Robert//Koeblitz  \n",
      "28         A.R.//Montazemi  \n",
      "29           D.W.//Conrath  \n",
      "30          Izak//Benbasat  \n",
      "...                    ...  \n",
      "1656         Robert//Felix  \n",
      "1657      Charles//Kriebel  \n",
      "1658         Prabuddha//De  \n",
      "1659             Arun//Sen  \n",
      "1660            John//Jung  \n",
      "1661      Lawrence//Foster  \n",
      "1662          David//Flynn  \n",
      "1663        Chris//Edwards  \n",
      "1664       Richard//Mezger  \n",
      "1665          Byron//Lewis  \n",
      "1666         Albert//Crews  \n",
      "1667       James//Courtney  \n",
      "1668        Donald//Ballou  \n",
      "1669            Giri//Tayi  \n",
      "1670           Elie//Harel  \n",
      "1671        Michael//Shank  \n",
      "1672      David//Schilling  \n",
      "1673    Ananth//Srinivasan  \n",
      "1674    Charles//Dickinson  \n",
      "1675      James//Kraushaar  \n",
      "1676       Larry//Shirland  \n",
      "1677        Beverely//Kahn  \n",
      "1678    Nicholas//Vitalari  \n",
      "1679    Margaret//Rathwell  \n",
      "1680           Alan//Burns  \n",
      "1681         Nick//Rackoff  \n",
      "1682        Charles//Ph.D.  \n",
      "1683      R.A.//Hirschheim  \n",
      "1684        Marius//Janson  \n",
      "1685             L.//Smith  \n",
      "\n",
      "[1685 rows x 6 columns]\n"
     ]
    }
   ],
   "source": [
    "print(df)"
   ]
  },
  {
   "cell_type": "code",
   "execution_count": 36,
   "metadata": {
    "collapsed": false
   },
   "outputs": [
    {
     "data": {
      "text/plain": [
       "                                                                                      858\n",
       "City University of Hong Kong                                                           24\n",
       "Georgia State University                                                               17\n",
       "Carnegie Mellon University                                                             14\n",
       "University of Minnesota                                                                14\n",
       "University of Arizona                                                                  13\n",
       "Temple University                                                                      13\n",
       "University of Maryland                                                                  9\n",
       "University of Arkansas                                                                  8\n",
       "Maastricht University                                                                   8\n",
       "Brigham Young University                                                                8\n",
       "University of Georgia                                                                   8\n",
       "Clemson University                                                                      7\n",
       "Mississippi State University                                                            7\n",
       "Yonsei University                                                                       7\n",
       "Georgia Institute of Technology                                                         7\n",
       "McGill University                                                                       7\n",
       "Korea Advanced Institute of Science and Technology                                      7\n",
       "London School of Economics and Political Science                                        6\n",
       "University of Kentucky                                                                  6\n",
       "University of Cambridge                                                                 6\n",
       "National University of Singapore                                                        6\n",
       "University of Texas at Dallas                                                           6\n",
       "University of Texas at Arlington                                                        6\n",
       "Michigan State University                                                               6\n",
       "University of North Texas                                                               6\n",
       "University of British Columbia                                                          6\n",
       "University of Washington                                                                5\n",
       "University of Houston                                                                   5\n",
       "Copenhagen Business School                                                              5\n",
       "                                                                                     ... \n",
       "Dakota State University                                                                 1\n",
       "Soochow University                                                                      1\n",
       "Naval Postgraduate School                                                               1\n",
       "Erasmus University                                                                      1\n",
       "Abo Akademi University                                                                  1\n",
       "SUNY-Buffalo, Buffalo,and Sogang University                                             1\n",
       "University of Bamberg, Germany                                                          1\n",
       "Newscron Ltd., Switzerland                                                              1\n",
       "National Taipei University                                                              1\n",
       "Central Queensland University                                                           1\n",
       "Florida State University                                                                1\n",
       "Ryerson University                                                                      1\n",
       "National Chiayi University                                                              1\n",
       "The University of British Columbia                                                      1\n",
       "Virginia Polytechnic Institute and State University                                     1\n",
       "University of South Florida - Tampa                                                     1\n",
       "University of Warwick                                                                   1\n",
       "University of Florida                                                                   1\n",
       "Simsion and Associates                                                                  1\n",
       "College of William & Mary                                                               1\n",
       "Warwick Business School                                                                 1\n",
       "University of Colorado at Colorado Springs                                              1\n",
       "Roskilde University                                                                     1\n",
       "HKUST                                                                                   1\n",
       "San Jose State University                                                               1\n",
       "Hawaii Pacific University                                                               1\n",
       "Information Systems and Innovation Group London School of Economics United Kingdom      1\n",
       "IAE, LEM-Nantes                                                                         1\n",
       "Virginia Military Institute                                                             1\n",
       "Dell SecureWorks                                                                        1\n",
       "Name: institution, dtype: int64"
      ]
     },
     "execution_count": 36,
     "metadata": {},
     "output_type": "execute_result"
    }
   ],
   "source": [
    "df[\"institution\"].value_counts()"
   ]
  },
  {
   "cell_type": "code",
   "execution_count": 38,
   "metadata": {
    "collapsed": false
   },
   "outputs": [
    {
     "data": {
      "text/plain": [
       "                                           853\n",
       "gerald.kane@bc.edu                           3\n",
       "dcompeau@ivey.uwo.ca                         2\n",
       "bagozzi@umich.edu                            2\n",
       "price@uta.edu                                2\n",
       "ajohnston@uab.edu                            2\n",
       "snerur@uta.edu                               2\n",
       "gefend@drexel.edu                            2\n",
       "baskerville@acm.org                          2\n",
       "kudaravalli@hec.fr                           2\n",
       "psidhu@cmu.edu                               2\n",
       "thess@isenberg.umass.edu                     2\n",
       "s.v.scott@lse.ac.uk                          2\n",
       "jsv@wsu.edu                                  2\n",
       "wchin@uh.edu                                 2\n",
       "suebrown@eller.arizona.edu                   2\n",
       "abw@uts.cc.utexas.edu                        2\n",
       "misq@umn.edu                                 2\n",
       "sambamurthy@bus.msu.edu                      2\n",
       "aeh.chua@auckland.ac.nz                      2\n",
       "xiaobai_li@uml.edu                           1\n",
       "issliao@cityu.edu.hk                         1\n",
       "juhee.kwon@cityu.edu.hk                      1\n",
       "yulin.fang@cityu.edu.hk                      1\n",
       "staylor@business.msstate.edu                 1\n",
       "hunan@smu.edu.sg                             1\n",
       "rene.riedl@jku.at                            1\n",
       "langen@rpi.edu                               1\n",
       "da2@lubs.leeds.ac.uk                         1\n",
       "chendongyu@suda.edu.cn                       1\n",
       "                                          ... \n",
       "pentlan2@msu.edu                             1\n",
       "boland@case.edu                              1\n",
       "harpreet@utdallas.edu                        1\n",
       "maytal@mail.utexas.edu                       1\n",
       "srivastava@hec.fr                            1\n",
       "ekarah@uga.edu                               1\n",
       "nevod@rpi.edu                                1\n",
       "voelckner@wiso.uni-koeln.de                  1\n",
       "Susan.Mudambi@temple.edu                     1\n",
       "carmel@american.edu                          1\n",
       "iskl@cityu.edu.hk                            1\n",
       "d.gengatharen@ecu.edu.au                     1\n",
       "rkishore@buffalo.edu                         1\n",
       "y.merali@hull.ac.uk                          1\n",
       "yinglei.wang@acadiau.ca                      1\n",
       "Nancy.Wuenderlich@wiwi.uni-paderborn.de      1\n",
       "edhahn@salisbury.edu                         1\n",
       "sborgatti@uky.edu                            1\n",
       "podsakoff@email.arizona.edu                  1\n",
       "omar.elsawy@marshall.usc.edu                 1\n",
       "njihia@uonbi.ac.ke                           1\n",
       "mmorris@virginia.edu                         1\n",
       "iarikan@kent.edu                             1\n",
       "c.sorensen@lse.ac.uk                         1\n",
       "julio.molina.orrego@gmail.com                1\n",
       "jgoo@fau.edu                                 1\n",
       "ick881@ou.edu                                1\n",
       "yul14@psu.edu                                1\n",
       "mds@andrew.cmu.edu                           1\n",
       "tjhess@som.umass.edu                         1\n",
       "Name: email, dtype: int64"
      ]
     },
     "execution_count": 38,
     "metadata": {},
     "output_type": "execute_result"
    }
   ],
   "source": [
    "df['email'].value_counts()"
   ]
  },
  {
   "cell_type": "code",
   "execution_count": null,
   "metadata": {
    "collapsed": true
   },
   "outputs": [],
   "source": []
  }
 ],
 "metadata": {
  "anaconda-cloud": {},
  "kernelspec": {
   "display_name": "Python [Root]",
   "language": "python",
   "name": "Python [Root]"
  },
  "language_info": {
   "codemirror_mode": {
    "name": "ipython",
    "version": 3
   },
   "file_extension": ".py",
   "mimetype": "text/x-python",
   "name": "python",
   "nbconvert_exporter": "python",
   "pygments_lexer": "ipython3",
   "version": "3.5.2"
  }
 },
 "nbformat": 4,
 "nbformat_minor": 0
}
